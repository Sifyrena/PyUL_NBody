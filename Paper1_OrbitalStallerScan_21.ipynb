{
 "cells": [
  {
   "cell_type": "markdown",
   "metadata": {},
   "source": [
    "<span style=\"font-family:Futura; font-size:3em; font-weight:light;\">PyUltraLight 2.22.1.2 Standalone </span>\n",
    "\n",
    "\n",
    "<span style=\"font-family:Futura; font-size:1.5em; font-weight:light;\">What the original version should have been. </span> (R) pending. *"
   ]
  },
  {
   "cell_type": "markdown",
   "metadata": {
    "toc": true
   },
   "source": [
    "<h1>Table of Contents<span class=\"tocSkip\"></span></h1>\n",
    "<div class=\"toc\"><ul class=\"toc-item\"><li><span><a href=\"#Initialization\" data-toc-modified-id=\"Initialization-1\"><span class=\"toc-item-num\">1&nbsp;&nbsp;</span>Initialization</a></span><ul class=\"toc-item\"><li><span><a href=\"#Graphics\" data-toc-modified-id=\"Graphics-1.1\"><span class=\"toc-item-num\">1.1&nbsp;&nbsp;</span>Graphics</a></span></li></ul></li><li><span><a href=\"#Getting-Ready\" data-toc-modified-id=\"Getting-Ready-2\"><span class=\"toc-item-num\">2&nbsp;&nbsp;</span>Getting Ready</a></span><ul class=\"toc-item\"><li><span><a href=\"#Base-Integrator-Settings\" data-toc-modified-id=\"Base-Integrator-Settings-2.1\"><span class=\"toc-item-num\">2.1&nbsp;&nbsp;</span>Base Integrator Settings</a></span></li><li><span><a href=\"#Configuring-Soliton\" data-toc-modified-id=\"Configuring-Soliton-2.2\"><span class=\"toc-item-num\">2.2&nbsp;&nbsp;</span>Configuring Soliton</a></span></li><li><span><a href=\"#Configuring-Particle\" data-toc-modified-id=\"Configuring-Particle-2.3\"><span class=\"toc-item-num\">2.3&nbsp;&nbsp;</span>Configuring Particle</a></span></li><li><span><a href=\"#Initial-Conditions\" data-toc-modified-id=\"Initial-Conditions-2.4\"><span class=\"toc-item-num\">2.4&nbsp;&nbsp;</span>Initial Conditions</a></span></li></ul></li><li><span><a href=\"#Compiling-Init-File\" data-toc-modified-id=\"Compiling-Init-File-3\"><span class=\"toc-item-num\">3&nbsp;&nbsp;</span>Compiling Init File</a></span></li><li><span><a href=\"#Minimal-Analysis-Suite\" data-toc-modified-id=\"Minimal-Analysis-Suite-4\"><span class=\"toc-item-num\">4&nbsp;&nbsp;</span>Minimal Analysis Suite</a></span><ul class=\"toc-item\"><li><span><a href=\"#Loading-and-Conversion\" data-toc-modified-id=\"Loading-and-Conversion-4.1\"><span class=\"toc-item-num\">4.1&nbsp;&nbsp;</span>Loading and Conversion</a></span></li><li><span><a href=\"#2D-Preview\" data-toc-modified-id=\"2D-Preview-4.2\"><span class=\"toc-item-num\">4.2&nbsp;&nbsp;</span>2D Preview</a></span></li><li><span><a href=\"#Energy\" data-toc-modified-id=\"Energy-4.3\"><span class=\"toc-item-num\">4.3&nbsp;&nbsp;</span>Energy</a></span><ul class=\"toc-item\"><li><span><a href=\"#Particle-Velocity\" data-toc-modified-id=\"Particle-Velocity-4.3.1\"><span class=\"toc-item-num\">4.3.1&nbsp;&nbsp;</span>Particle Velocity</a></span></li></ul></li><li><span><a href=\"#2D-Complex-Field-Animation\" data-toc-modified-id=\"2D-Complex-Field-Animation-4.4\"><span class=\"toc-item-num\">4.4&nbsp;&nbsp;</span>2D Complex Field Animation</a></span></li><li><span><a href=\"#World-of-SI-Units\" data-toc-modified-id=\"World-of-SI-Units-4.5\"><span class=\"toc-item-num\">4.5&nbsp;&nbsp;</span>World of SI Units</a></span><ul class=\"toc-item\"><li><span><a href=\"#Expected-Dynamical-Timescale\" data-toc-modified-id=\"Expected-Dynamical-Timescale-4.5.1\"><span class=\"toc-item-num\">4.5.1&nbsp;&nbsp;</span>Expected Dynamical Timescale</a></span></li><li><span><a href=\"#Predicted-Initial-C-from-Quantum-Wind-(Without-Self-Gravity)\" data-toc-modified-id=\"Predicted-Initial-C-from-Quantum-Wind-(Without-Self-Gravity)-4.5.2\"><span class=\"toc-item-num\">4.5.2&nbsp;&nbsp;</span>Predicted Initial C from Quantum Wind (Without Self-Gravity)</a></span></li></ul></li></ul></li></ul></div>"
   ]
  },
  {
   "cell_type": "markdown",
   "metadata": {},
   "source": [
    "# Initialization"
   ]
  },
  {
   "cell_type": "code",
   "execution_count": 1,
   "metadata": {
    "ExecuteTime": {
     "end_time": "2021-03-02T10:31:29.194567Z",
     "start_time": "2021-03-02T10:31:29.106737Z"
    },
    "hide_input": false,
    "init_cell": true,
    "scrolled": true
   },
   "outputs": [
    {
     "name": "stdout",
     "output_type": "stream",
     "text": [
      "Axion Mass (eV).1e-21\n",
      "PyUL2.Universe: Axion Mass: 1e-21\n",
      "==============================================================================\n",
      "PyUL2.22.3: (c) 2020 - 2021 Wang., Y. and collaborators. \n",
      "Auckland Cosmology Group\n",
      "\n",
      "Original PyUltraLight Team:\n",
      "Edwards, F., Kendall, E., Hotchkiss, S. & Easther, R.\n",
      "arxiv.org/abs/1807.04037\n",
      "==============================================================================\n"
     ]
    }
   ],
   "source": [
    "###### Do not touch\n",
    "MinVersion = 22\n",
    "\n",
    "import PyUltraLight2 as PyUL\n",
    "\n",
    "if (PyUL.S_version < MinVersion):\n",
    "    raise RuntimeError(\"You need the latest PyULN!\")\n",
    "\n",
    "import numpy as np\n",
    "\n",
    "np.set_printoptions(suppress=True)\n",
    "\n",
    "import math\n",
    "\n",
    "import numba\n",
    "import numexpr as ne\n",
    "import time\n",
    "import pyfftw\n",
    "import os\n",
    "import sys\n",
    "import multiprocessing\n",
    "import numpy\n",
    "\n",
    "from matplotlib import cm\n",
    "from mpl_toolkits.mplot3d import Axes3D\n",
    "import matplotlib as mpl\n",
    "import matplotlib.pyplot as plt\n",
    "import matplotlib.gridspec\n",
    "import matplotlib.animation\n",
    "from matplotlib.offsetbox import AnchoredText\n",
    "\n",
    "import IPython\n",
    "from IPython.core.display import clear_output, display, Video\n",
    "\n",
    "from numpy import sqrt, exp, log, log10, sin, cos, tan, pi\n",
    "\n",
    "%reload_ext autoreload\n",
    "%autoreload 2\n",
    "\n",
    "\n",
    "# Useful Aux Functions\n",
    "ToCode = PyUL.convert\n",
    "ToPhys = PyUL.convert_back\n",
    "CB = PyUL.convert_between\n",
    "\n",
    "printU = PyUL.printU\n"
   ]
  },
  {
   "cell_type": "markdown",
   "metadata": {},
   "source": [
    "## Graphics"
   ]
  },
  {
   "cell_type": "code",
   "execution_count": 2,
   "metadata": {},
   "outputs": [],
   "source": [
    "plt.style.use('default')\n",
    "\n",
    "plt.rcParams['font.family'] = 'DejaVu Serif'\n",
    "plt.rcParams['mathtext.fontset'] = 'dejavuserif'\n",
    "plt.rcParams[\"text.usetex\"]= False\n",
    "plt.rcParams['font.size'] = 18\n",
    "plt.rcParams['axes.linewidth'] = 2\n",
    "plt.rcParams['lines.linewidth'] = 2\n",
    "plt.rcParams['axes.facecolor'] = 'w'\n",
    "\n",
    "from matplotlib.colors import LinearSegmentedColormap\n",
    "Palette = 'magma'\n",
    "cyccol=['#000000', '#ffffff','#000000']\n",
    "divcol=['#003262','#005b96','#ffffff','#d5a756','#B51700']\n",
    "divcols=['#005b96','#ffffff','#d5a756']\n",
    "\n",
    "CycPalette = LinearSegmentedColormap.from_list('myCyc', cyccol)\n",
    "\n",
    "DivPalette  = LinearSegmentedColormap.from_list('myDiv', divcol)\n",
    "DivPaletteS  = LinearSegmentedColormap.from_list('myDiv', divcols)\n",
    "\n",
    "EFigSize = (20,12)\n",
    "EFigSizeMono = (20,6)\n",
    "VideoSize = (8,8)\n",
    "FPS = 10\n",
    "DPI = 72\n",
    "\n",
    "FrameCap = 120 # Maximum Number of Frames to Animate\n",
    "\n",
    "########################################\n",
    "\n",
    "# BH Trajectory\n",
    "\n",
    "Colors = np.array([[209,17,65],[0,177,89],[0,174,219],[243,119,53],[255,196,37]])/255\n",
    "\n",
    "# NBody\n",
    "ENStyle = '-'\n",
    "ENColor = '#ff6c0e' # NBody\n",
    "\n",
    "EKColor = '#8dd9e7'\n",
    "EPColor = '#fd8dc8'\n",
    "\n",
    "# ULDM\n",
    "EUStyle = '-'\n",
    "EUColor = '#7f1717' # ULDM\n",
    "\n",
    "EQColor = '#ccb603' # Kinetic \n",
    "ERColor = '#6cc25c' # Self-Interaction\n",
    "EGColor = '#2c8899' # Particle Potential\n",
    "\n",
    "# Totals\n",
    "ETStyle = '-'\n",
    "ETColor = '#080808'\n",
    "\n",
    "# Auxiliary \n",
    "HelperStyle = 'k.'\n",
    "EmphColor = 'black'\n",
    "GeomColor = 'olivedrab'"
   ]
  },
  {
   "cell_type": "markdown",
   "metadata": {},
   "source": [
    "# Getting Ready"
   ]
  },
  {
   "cell_type": "markdown",
   "metadata": {},
   "source": [
    "## Base Integrator Settings"
   ]
  },
  {
   "cell_type": "code",
   "execution_count": 84,
   "metadata": {},
   "outputs": [
    {
     "name": "stdout",
     "output_type": "stream",
     "text": [
      "The required number of ULDM steps is 11204\n",
      "The actual ULDM steps is 11400\n"
     ]
    }
   ],
   "source": [
    "resol = 128\n",
    "\n",
    "length, length_units = 3, 'kpc' #\n",
    "duration, duration_units = 1000, 'Myr' #\n",
    "\n",
    "start_time = 0. # For solitons only: Pre-evolve the wavefunction phase.\n",
    "\n",
    "NS = 32\n",
    "\n",
    "save_format = 'npy' # npy, npz, hdf5\n",
    "\n",
    "step_factor = 1\n",
    "\n",
    "save_number = 600\n",
    "\n",
    "\n",
    "PyUL.DispN(duration,duration_units,length,length_units,resol,step_factor,save_number)\n",
    "\n",
    "### All supported save options: \n",
    "# 3Wfn 3Density 2Density Energy \n",
    "# 1Density NBody 3Grav 2Grav DF \n",
    "# 2Phase Entropy 1Grav 3GravF 2GravF 1GravF\n",
    "###\n",
    "\n",
    "# You can also set it to 'Minimum' to only save all 1D mesh Data.\n",
    "Save_Options = '2Density 2Phase 2GravF Energy NBody DF Entropy'\n",
    "\n",
    "#This Boolean List is for program's internal use\n",
    "save_options = PyUL.SaveOptionsDigest(Save_Options)\n"
   ]
  },
  {
   "cell_type": "markdown",
   "metadata": {},
   "source": [
    "## Configuring Soliton"
   ]
  },
  {
   "cell_type": "code",
   "execution_count": 85,
   "metadata": {},
   "outputs": [
    {
     "data": {
      "text/plain": [
       "0.019625478806029148"
      ]
     },
     "execution_count": 85,
     "metadata": {},
     "output_type": "execute_result"
    },
    {
     "data": {
      "image/png": "[encoded data removed]",
      "text/plain": [
       "<Figure size 640x480 with 1 Axes>"
      ]
     },
     "metadata": {},
     "output_type": "display_data"
    }
   ],
   "source": [
    "s_mass_unit = 'M_solar_masses'\n",
    "s_position_unit = length_units\n",
    "s_velocity_unit = 'km/s' \n",
    "\n",
    "mS = 10 # User Input\n",
    "\n",
    "Phase = 1 # Multiples of pi\n",
    "\n",
    "PyUL.SolitonSizeEstimate(mS,length,resol,s_mass_unit,length_units, Plot = True)"
   ]
  },
  {
   "cell_type": "markdown",
   "metadata": {},
   "source": [
    "## Configuring Particle"
   ]
  },
  {
   "cell_type": "code",
   "execution_count": 86,
   "metadata": {},
   "outputs": [
    {
     "name": "stdout",
     "output_type": "stream",
     "text": [
      "PyUL2. Mesh: Each grid spacing is 0.023kpc, this is 23.437pc.\n"
     ]
    }
   ],
   "source": [
    "gridspace = PyUL.MeshSpacing(resol,length,length_units)\n",
    "# PLUMMER RADIUS (IN LENGTH UNITS)\n",
    "rP = 0.008\n",
    "\n",
    "a = PyUL.GenPlummer(rP,length_units)\n",
    "\n",
    "mP = 0.5 # User Input\n",
    "\n",
    "m_mass_unit = s_mass_unit\n",
    "m_position_unit = s_position_unit\n",
    "m_velocity_unit = s_velocity_unit"
   ]
  },
  {
   "cell_type": "markdown",
   "metadata": {},
   "source": [
    "## Initial Conditions"
   ]
  },
  {
   "cell_type": "code",
   "execution_count": 94,
   "metadata": {},
   "outputs": [
    {
     "name": "stdout",
     "output_type": "stream",
     "text": [
      "ULDM system mass within is 30.000%\n",
      "Circular orbit velocity is 7.104 km/s\n"
     ]
    },
    {
     "data": {
      "image/png": "[encoded data removed]",
      "text/plain": [
       "<Figure size 1200x1200 with 1 Axes>"
      ]
     },
     "metadata": {},
     "output_type": "display_data"
    }
   ],
   "source": [
    "Radius = 0.67185 #  95%\n",
    "Radius = 0.58522 #  90%\n",
    "Radius = 0.37865 #  60%\n",
    "Radius = 0.25558 #  30%\n",
    "\n",
    "MIn, vRel0 = PyUL.DefaultSolitonOrbit(resol,length, length_units, mS, s_mass_unit, Radius, m_position_unit, m_velocity_unit)\n",
    "\n",
    "print(f'ULDM system mass within is {MIn/mS:.3%}')\n",
    "print(f'Circular orbit velocity is {vRel0:.3f} {m_velocity_unit}')\n",
    "\n",
    "#================================================================\n",
    "# Do not touch\n",
    "embeds    = []\n",
    "\n",
    "particles =  [[mP,[Radius,0,0],[0,vRel0,0]]]\n",
    "solitons  =  [[mS,[0,0,0],[0,0,0],Phase*np.pi]]\n",
    "\n",
    "plt.show()\n",
    "\n",
    "Uniform = False # if True, then there won't be solitons.\n",
    "Density = 0\n",
    "UVel = [0,0,0] # Uses s_velocity_units\n",
    "density_unit = '' # Accepted units: 'MSol/pc3', 'kg/m3', and '' for dimensionless units\n",
    "\n",
    "fig,ax = PyUL.VizInit2D(length,length_units,resol,embeds,\n",
    "              solitons,s_position_unit, s_mass_unit,\n",
    "              particles,m_position_unit, Uniform, Density, density_unit, rP, vRel0*5)"
   ]
  },
  {
   "cell_type": "code",
   "execution_count": 96,
   "metadata": {},
   "outputs": [],
   "source": [
    "Name = f'R{MIn/mS*100:.0f}'\n",
    "\n",
    "Initpath = ''\n",
    "\n",
    "run_folder = PyUL.GenerateConfig(NS, length, length_units,\n",
    "                                 resol, duration, duration_units, step_factor,\n",
    "                                 save_number, Save_Options, save_path,\n",
    "                                 save_format, s_mass_unit, s_position_unit,\n",
    "                                 s_velocity_unit, solitons,start_time,\n",
    "                                 m_mass_unit, m_position_unit, m_velocity_unit,\n",
    "                                 particles,embeds, Uniform,Density,density_unit,\n",
    "                                 a,UVel,True,Name)\n"
   ]
  },
  {
   "cell_type": "markdown",
   "metadata": {},
   "source": [
    "[**Back to the Top**](#root)\n",
    "<a id='run'></a>\n",
    "# Compiling Init File\n",
    "\n",
    "This creates a timestamped folder using the current settings, and the integrator stores all requested files in it too."
   ]
  },
  {
   "cell_type": "code",
   "execution_count": 97,
   "metadata": {},
   "outputs": [
    {
     "name": "stdout",
     "output_type": "stream",
     "text": [
      "[ Batches/Orbital_21 ] : The current size of the folder is 0.007 Mib\n",
      "[ Batches/Orbital_21 ] : Do You Wish to Delete All Files Currently Stored In This Folder? [Y] \n",
      "\n",
      "\n",
      "\n"
     ]
    }
   ],
   "source": [
    "save_path = 'Batches/Orbital_21'\n",
    "\n",
    "PyUL.DSManagement(save_path, Force = False)"
   ]
  },
  {
   "cell_type": "code",
   "execution_count": 98,
   "metadata": {
    "ExecuteTime": {
     "start_time": "2021-03-02T10:31:58.639Z"
    },
    "scrolled": false
   },
   "outputs": [],
   "source": [
    "NRuns = 4"
   ]
  },
  {
   "cell_type": "code",
   "execution_count": null,
   "metadata": {},
   "outputs": [
    {
     "name": "stdout",
     "output_type": "stream",
     "text": [
      "Build 2021 Jun 01\n",
      "Message: Simulation #1 out of 4\n",
      "PyUL2.Runtime: Simulation name is ./Batches/Orbital_21/R30\n",
      "PyUL2.Runtime: 128 Resolution for 1000Myr\n",
      "PyUL2.Runtime: Simulation Started at 01/06/2021, 20:06:39.\n",
      "PyUL2.Runtime: Taking 11400 ULDM steps @ 600 snapshots\n",
      "\n",
      "\n",
      "[○○○○○○○○◎○○○○○○○○○○○○○○○] 1% RK4  Exp. Time: 01/06/2021, 20:25:19 (Prev.: 0.10s) "
     ]
    }
   ],
   "source": [
    "FullSim = True\n",
    "\n",
    "batch_path = save_path\n",
    "\n",
    "T0 = time.time()\n",
    "runs = os.listdir(batch_path)\n",
    "runs.sort()\n",
    "\n",
    "Run = 0\n",
    "\n",
    "for run_folder in runs:\n",
    "    \n",
    "    if os.path.isdir(f'{batch_path}/{run_folder}'):\n",
    "        \n",
    "        RunText = f'Simulation #{Run+1} out of {NRuns}'\n",
    "        PyUL.evolve(batch_path,run_folder,\n",
    "            NBodyInterp = FullSim, SelfGravity = FullSim, NBodyGravity = True, \n",
    "            Silent = True, Shift = True, Message = RunText)\n",
    "\n",
    "        Run +=1\n",
    "\n",
    "        print(f'Simulation {Run} finished.')\n",
    "        time.sleep(2)\n",
    "        \n",
    "import IPython\n",
    "IPython.display.Audio(\"Done.mp3\",autoplay=True)\n",
    "\n",
    "print(f\"{time.time()-T0:.3g}s\")\n",
    "printU('Please copy this into analysis notebook\\n\\nbatch_path = \\''+batch_path+'\\'','Export')"
   ]
  },
  {
   "cell_type": "markdown",
   "metadata": {},
   "source": [
    "# Minimal Analysis Suite"
   ]
  },
  {
   "cell_type": "markdown",
   "metadata": {},
   "source": [
    "## Loading and Conversion"
   ]
  },
  {
   "cell_type": "code",
   "execution_count": null,
   "metadata": {},
   "outputs": [],
   "source": [
    "run_folder = PyUL.Runs(save_path)"
   ]
  },
  {
   "cell_type": "code",
   "execution_count": null,
   "metadata": {},
   "outputs": [],
   "source": [
    "loc = './' + save_path + '/' + run_folder\n",
    "TimeStamp = run_folder\n",
    "# Reload Config.. Why don't I use a class?\n",
    "NS, length, length_units, resol, duration, duration_units, step_factor, save_number, save_options, save_format, s_mass_unit, s_position_unit, s_velocity_unit, solitons,start_time, m_mass_unit, m_position_unit, m_velocity_unit, particles, embeds, Uniform,Density, density_unit ,a, UVel = PyUL.LoadConfig(loc)\n",
    "\n",
    "if save_number == -1:\n",
    "    sim_number = PyUL.ULDStepEst(duration,duration_units,\n",
    "                                          length,length_units,\n",
    "                                          resol,step_factor, \n",
    "                                          save_number = -1)\n",
    "else:\n",
    "    sim_number = save_number\n",
    "    \n",
    "# Dict of Run Data\n",
    "EndNum, Loaded = PyUL.Load_npys(loc,save_options, LowMem = False)\n",
    "\n",
    "\n",
    "Load2D = True\n",
    "Load1D = True\n",
    "\n",
    "if Load2D:\n",
    "    phasedata = Loaded['2Phase']\n",
    "    #phidata  = Loaded['2Grav']\n",
    "    phidataF = Loaded['2GravF']\n",
    "    data = Loaded['2Density']\n",
    "\n",
    "if Load1D:\n",
    "    #phi1D  = Loaded['1Grav']\n",
    "    phiF1D = Loaded['1GravF']\n",
    "    linedata = Loaded['1Density']\n",
    "\n",
    "TMdata = Loaded['NBody']\n",
    "graddata = Loaded['DF']\n",
    "\n",
    "NBo = len(particles)\n",
    "\n",
    "ToCode = PyUL.convert\n",
    "ToPhys = PyUL.convert_back\n",
    "CB = PyUL.convert_between\n",
    "\n",
    "# Time\n",
    "durationMyr = CB(duration,duration_units,'Myr','t')\n",
    "\n",
    "# Space\n",
    "lengthKpc = CB(length,length_units,'kpc','l')\n",
    "lengthC = ToCode(length,length_units,'l')\n",
    "\n",
    "# Mass\n",
    "\n",
    "MassList_MSol = []\n",
    "MassListSI = []\n",
    "for TM in particles:\n",
    "    MassList_MSol.append(CB(TM[0],m_mass_unit,'M_solar_masses','m'))\n",
    "    MassListSI.append(CB(TM[0],m_mass_unit,'kg','m'))\n",
    "    \n",
    "# Density\n",
    "DensitySI = CB(Density,density_unit,'kg/m3','d')\n",
    "DensityC = ToCode(Density,density_unit,'d')\n",
    "\n",
    "## Misc. Pre-Multipliers\n",
    "\n",
    "Tp = np.arange(EndNum)\n",
    "Tp = Tp * durationMyr / (sim_number+1)\n",
    "\n",
    "# NBody_State Vector\n",
    "\n",
    "XPre = ToPhys(1,'kpc','l')\n",
    "VPre = ToPhys(1,'km/s','v')\n",
    "\n",
    "XPreSI = ToPhys(1,'m','l')\n",
    "VPreSI = ToPhys(1,'m/s','v')\n",
    "\n",
    "IArray = np.arange(len(TMdata[0]))\n",
    "\n",
    "# Dimensionful NBody State\n",
    "\n",
    "TMDataS = np.array(TMdata)\n",
    "TMDataSI = np.array(TMdata)\n",
    "\n",
    "TMDataS[:,IArray % 6 <= 2] *= XPre\n",
    "TMDataS[:,IArray % 6 >= 3] *= VPre\n",
    "\n",
    "TMDataSI[:,IArray % 6 <= 2] *= XPreSI\n",
    "TMDataSI[:,IArray % 6 >= 3] *= VPreSI\n",
    "\n",
    "# Rho data\n",
    "\n",
    "DPre = CB(1,density_unit,'kg/m3','d')\n",
    "\n",
    "# Energy\n",
    "EPre = PyUL.energy_unit\n",
    "\n",
    "# Field Strength\n",
    "PPre = PyUL.mass_unit / PyUL.length_unit\n",
    "\n",
    "print('Unit conversion ready!')\n",
    "\n",
    "\n",
    "print(\"==============================================\")\n",
    "print(f\"PyULN: Axion Mass Used is {PyUL.axion_E} eV.\\n\")\n",
    "\n",
    "print(f\"\\\n",
    "1 Mass Unit    = {PyUL.mass_unit:.5g} kg = {PyUL.convert_back(1,'solar_masses','m'):.4g} MSol\\n\\\n",
    "1 Length Unit  = {PyUL.length_unit:.5g} m  = {PyUL.convert_back(1,'kpc','l'):.4g} kpc\\n\\\n",
    "1 Time Unit    = {PyUL.time_unit:.5g} s  = {PyUL.convert_back(1,'Myr','t')/1000:.4g} Gyr\\n\\n\\\n",
    "1 Density Unit = {PyUL.mass_unit/PyUL.length_unit**3:.5g} kg/m^3 = {PyUL.mass_unit/PyUL.length_unit**3/PyUL.CritDens} Critical Density\\n\\\n",
    "1 Speed Unit   = {PyUL.length_unit/PyUL.time_unit:.5g} m/s\\n\\\n",
    "1 Energy Unit  = {EPre:.5g} Joules\\n\")\n",
    "\n",
    "Loaded = {}"
   ]
  },
  {
   "cell_type": "markdown",
   "metadata": {},
   "source": [
    "## 2D Preview"
   ]
  },
  {
   "cell_type": "code",
   "execution_count": null,
   "metadata": {},
   "outputs": [],
   "source": [
    "Plot_ULD = True\n",
    "# Number of ULDM Slices IN BETWEEN start and end (which are always plotted).\n",
    "NSlices = EndNum//50\n",
    "Zoom2D = 1\n",
    "\n",
    "if NSlices >= EndNum:\n",
    "    \n",
    "    NSlices = EndNum\n",
    "\n",
    "try:\n",
    "    TSD = TimeStamp\n",
    "except NameError:\n",
    "    TimeStamp = 'Debug'\n",
    "\n",
    "plt.clf()\n",
    "\n",
    "fig = plt.figure(figsize=(12, 12))\n",
    "ax = fig.add_subplot(111)\n",
    "\n",
    "Boundary = lengthKpc/(2*Zoom2D)\n",
    "\n",
    "plt.xlim([-Boundary,Boundary])\n",
    "plt.ylim([-Boundary,Boundary])\n",
    "\n",
    "ax.set_aspect('equal', adjustable='box')\n",
    "\n",
    "\n",
    "TMx = TMDataS[:,1::6]\n",
    "TMy = TMDataS[:,0::6]\n",
    "\n",
    "plt.scatter([TMx],[TMy])\n",
    "\n",
    "\n",
    "if Plot_ULD:\n",
    "    \n",
    "    planemax = np.max(data)\n",
    "    planemin = np.min(data)\n",
    "\n",
    "    levels = np.linspace(planemin, planemax, int(resol/16))\n",
    "\n",
    "    PlotRange = np.linspace(-lengthKpc/2, lengthKpc/2,resol,endpoint = False)\n",
    "    \n",
    "    plt.contour(PlotRange,PlotRange,data[1], levels=levels,cmap = Palette)\n",
    "    plt.contour(PlotRange,PlotRange,data[EndNum-1], levels=levels,cmap = Palette)\n",
    "\n",
    "\n",
    "    if NSlices != 0 and EndNum >= NSlices:\n",
    "\n",
    "        Blink = EndNum/(NSlices+1)\n",
    "\n",
    "        Index = np.linspace(Blink,EndNum-Blink,NSlices)\n",
    "\n",
    "        for Ind in Index:\n",
    "            j = int(Ind)\n",
    "#            plt.contour(PlotRange,PlotRange,data[j], levels=levels,cmap = Palette)\n",
    "   \n",
    "ax.grid(True)\n",
    "\n",
    "Info = '\\n'.join((\n",
    "    TimeStamp,\n",
    "    r'Number of Bodies: $%.0f$' % (NBo, ),\n",
    "    r'Resolution: $%.0f^3$' % (resol, ),\n",
    "    r'Box Length: %.3g kpc' % (lengthKpc, ),\n",
    "    r'Simulation Time Length: %.3g Myr' % (durationMyr, ),\n",
    "    r'Saved Snapshots: %.0f (%.0f Plotted)' % (EndNum,NSlices + 2)\n",
    "    ))\n",
    "\n",
    "# these are matplotlib.patch.Patch properties\n",
    "props = dict(boxstyle='round', facecolor='wheat', alpha=0.5)\n",
    "\n",
    "# place a text box in bottom left in axes coords\n",
    "ax.text(0.01, 0.01, Info, transform=ax.transAxes, fontsize=11,\n",
    "        verticalalignment='bottom', bbox=props)\n",
    "\n",
    "if Zoom2D != 1:\n",
    "    \n",
    "    props2 = dict(boxstyle='round', facecolor='lightgreen', alpha=0.5)\n",
    "\n",
    "    Zinfo = f\"Zoom Level: {Zoom2D}x\"\n",
    "    ax.text(0.82, 0.95, Zinfo, transform=ax.transAxes, fontsize=12,\n",
    "            verticalalignment='bottom', bbox=props2)\n",
    "    \n",
    "ax.set_ylabel('$y$ / kpc')\n",
    "ax.set_xlabel('$x$ / kpc')\n",
    "\n",
    "TrajName = '{}{}{}{}{}'.format(\"./\",save_path,\"/_\",TimeStamp,'.jpg')\n",
    "plt.savefig(TrajName, format='jpg', dpi=72)\n",
    "\n",
    "plt.show()"
   ]
  },
  {
   "cell_type": "markdown",
   "metadata": {},
   "source": [
    "## Energy"
   ]
  },
  {
   "cell_type": "code",
   "execution_count": null,
   "metadata": {
    "scrolled": false
   },
   "outputs": [],
   "source": [
    "Relative = True # For Dynamical Friction Cases Only\n",
    "\n",
    "EFigSize = (10,6.18)\n",
    "EFigSize_Mono = (10,5)\n",
    "\n",
    "Snap = False\n",
    "loc = save_path + '/' + run_folder\n",
    "\n",
    "plt.clf()\n",
    "\n",
    "#==================================================================================================\n",
    "## Naming\n",
    "EnergyName = '{}{}{}'.format(\"./\",loc,\"/Energy_Total.jpg\")\n",
    "EnergyNName = '{}{}{}'.format(\"./\",loc,\"/Energy_NBody.jpg\")\n",
    "EnergyUName = '{}{}{}'.format(\"./\",loc,\"/Energy_UP.jpg\")\n",
    "EnergyDName = '{}{}{}'.format(\"./\",loc,\"/Energy_Delta.jpg\")\n",
    "EnergyMName = '{}{}{}'.format(\"./\",loc,\"/Energy_Mech.jpg\")\n",
    "EnergyD2Name = '{}{}{}'.format(\"./\",loc,\"/Energy_Pct.jpg\")\n",
    "\n",
    "#==================================================================================================\n",
    "## Analysis\n",
    "#\n",
    "# Raw ULDM Energy\n",
    "\n",
    "# Total Energy from Integrator\n",
    "egylist = np.load('{}{}'.format(loc, '/Outputs/egylist.npy'),allow_pickle=True) * EPre\n",
    "\n",
    "# Energy Due to N Body Potential\n",
    "egpcmlist =  np.load('{}{}'.format(loc, '/Outputs/egpcmMlist.npy'),allow_pickle=True) * EPre # NEW\n",
    "egpcmlist2 = np.load('{}{}'.format(loc, '/Outputs/egpcmlist.npy'),allow_pickle=True) * EPre # OLD\n",
    "\n",
    "# Energy Due to ULDM Self-Interaction\n",
    "egpsilist = np.load('{}{}'.format(loc, '/Outputs/egpsilist.npy'),allow_pickle=True) * EPre\n",
    "\n",
    "# Energy Due to Quantum Fun\n",
    "ekandqlist = np.load('{}{}'.format(loc, '/Outputs/ekandqlist.npy'),allow_pickle=True) * EPre\n",
    "\n",
    "mtotlist = np.load('{}{}'.format(loc, '/Outputs/masseslist.npy'),allow_pickle=True) * EPre\n",
    "\n",
    "# Uniform Correction Performed in Integrator!\n",
    "\n",
    "# Reconstruct NBody Energy (Real)\n",
    "NBo, KS, PS = PyUL.NBodyEnergy(MassListSI,TMDataSI,EndNum, a, length_units)\n",
    "\n",
    "# Reconstruct NBody Energy (Physical)\n",
    "# NBo, KS, PS = PyUL.NBodyEnergy(MassListSI,TMDataSI,EndNum)\n",
    "\n",
    "if Relative:\n",
    "    K0 = KS[0] #  Need attention\n",
    "    EUnit = '$E_k(0)$'\n",
    "    \n",
    "    if UVel != [0,0,0]:\n",
    "        \n",
    "        VRelSI = CB(np.linalg.norm(UVel),s_velocity_unit,'m/s','v')\n",
    "        \n",
    "        printU(f'Initial Relative Speed is {VRelSI:.3f} m/s','QW')\n",
    "        \n",
    "        K0 = 1/2*MassListSI[0]*(VRelSI)**2\n",
    "\n",
    "else: \n",
    "    K0 = 1\n",
    "    EUnit = 'J'\n",
    "# Processed ULDM Energy\n",
    "\n",
    "MES = (PS + KS)\n",
    "MESD = PyUL.GetRel(MES)/K0\n",
    "\n",
    "EKQD = PyUL.GetRel(ekandqlist)/K0\n",
    "EGPD = PyUL.GetRel(egpsilist)/K0\n",
    "\n",
    "ECMD = PyUL.GetRel(egpcmlist)/K0\n",
    "ECOD = PyUL.GetRel(egpcmlist2)/K0\n",
    "\n",
    "KSD = PyUL.GetRel(KS)/K0\n",
    "PSD = PyUL.GetRel(PS)/K0\n",
    "\n",
    "EUOld  = egylist\n",
    "EUOldD = PyUL.GetRel(EUOld)/K0\n",
    "\n",
    "EUNew  = egpsilist + ekandqlist + egpcmlist2\n",
    "EUNewD = PyUL.GetRel(EUNew)/K0\n",
    "\n",
    "ETOld  = EUOld + MES\n",
    "ETOldD = PyUL.GetRel(ETOld)/K0\n",
    "\n",
    "ETNew  = EUNew + MES\n",
    "ETNewD = PyUL.GetRel(ETNew)/K0\n",
    "\n",
    "\n",
    "EROld = ETOld / ETOld[0]\n",
    "\n",
    "ERNew = ETNew / ETNew[0]\n",
    "\n",
    "\n",
    "#==================================================================================================\n",
    "## Compile Printing Boxes\n",
    "\n",
    "SimInfo = '\\n'.join((\n",
    "    TimeStamp,\n",
    "    r'Resolution: $%.0f^3$' % (resol, ),\n",
    "    r'Box Length: %.3f kpc' % (lengthKpc, ),\n",
    "    r'Simulation Time Length: %.3f Myr' % (durationMyr, )\n",
    "    ))\n",
    "\n",
    "NBodyInfo = '\\n'.join((\n",
    "    TimeStamp,\n",
    "    r'Number of Bodies: $%.0f$' % (NBo, ),\n",
    "    ))\n",
    "\n",
    "print(NBodyInfo)\n",
    "\n",
    "##==================================================================================================\n",
    "### Plots\n",
    "#==================================================================================================\n",
    "# Energy Change Diagram\n",
    "fig = plt.figure(figsize = EFigSize)\n",
    "ax = fig.add_subplot(111)\n",
    "\n",
    "ax.plot(Tp,ECMD,EUStyle,color = EGColor,label='$E_{GP}$ (ULD Potential Due to Particles)')\n",
    "ax.plot(Tp,EGPD,EUStyle,color = ERColor,label='$E_{GP}$ (ULD Potential Due to Self-Interaction)')\n",
    "ax.plot(Tp,EKQD,EUStyle,color = EQColor,label='ULD $E_{K}+E_{Q}$')\n",
    "\n",
    "ax.plot(Tp,EUNewD,ETStyle,color = EUColor,label='Total ULDM Energy')\n",
    "\n",
    "if len(particles) >= 2:\n",
    "    ax.plot(Tp,KSD,ENStyle,color = EKColor,label = '$\\sum E_k$ of Particles')\n",
    "    ax.plot(Tp,PSD,ENStyle,color = EPColor,label = '$\\sum E_p$ of Particles')\n",
    "    ax.plot(Tp,MESD,ETStyle,color = ENColor,label = 'Total Mechanical Energy of Particles')\n",
    "else:\n",
    "    ax.plot(Tp,KSD,ENStyle,color = ENColor,label = 'Particle Energy')\n",
    "ax.plot(Tp,ETNewD,ETStyle,color = ETColor, label = 'Total Energy of System', lw = 5)\n",
    "ax.set_ylabel(f'$ΔE / $ {EUnit}')\n",
    "\n",
    "ax.legend(ncol=3,bbox_to_anchor=(0.5, -0.4),loc='lower center')\n",
    "\n",
    "plt.xlabel('Time / Myr')\n",
    "plt.title('Energy Change of System')\n",
    "plt.savefig(EnergyName, format='jpg', dpi=72)\n",
    "\n",
    "plt.show()\n",
    "\n",
    "\n",
    "#==================================================================================================\n",
    "# Energy Change Diagram Distilled\n",
    "fig = plt.figure(figsize = EFigSize)\n",
    "ax = fig.add_subplot(111)\n",
    "\n",
    "ax.plot(Tp,EUNewD,ETStyle,color = EUColor,label='Total ULDM Energy')\n",
    "\n",
    "if len(particles) >= 2:\n",
    "    ax.plot(Tp,KSD,ENStyle,color = EKColor,label = '$\\sum E_k$ of Particles')\n",
    "    ax.plot(Tp,PSD,ENStyle,color = EPColor,label = '$\\sum E_p$ of Particles')\n",
    "    ax.plot(Tp,MESD,ETStyle,color = ENColor,label = 'Total Mechanical Energy of Particles')\n",
    "else:\n",
    "    ax.plot(Tp,KSD,ENStyle,color = ENColor,label = 'Particle Energy')\n",
    "ax.plot(Tp,ETNewD,ETStyle,color = ETColor, label = 'Total Energy of System',lw = 5)\n",
    "ax.set_ylabel(f'$ΔE / $ {EUnit}')\n",
    "\n",
    "ax.legend(ncol=3,bbox_to_anchor=(0.5, -0.5),loc='lower center')\n",
    "ax.legend(loc='lower left')\n",
    "\n",
    "plt.xlabel('Time / Myr')\n",
    "\n",
    "\n",
    "plt.title('Energy Change of System')\n",
    "plt.savefig(EnergyDName, format='jpg', dpi=72)\n",
    "\n",
    "plt.show()\n",
    "\n",
    "#==================================================================================================\n",
    "# Energy Change Diagram Distilled Further\n",
    "fig = plt.figure(figsize = EFigSize)\n",
    "ax = fig.add_subplot(111)\n",
    "\n",
    "if len(particles) >= 2:\n",
    "    ax.plot(Tp,KSD,ENStyle,color = EKColor,label = '$\\sum E_k$ of Particles')\n",
    "    ax.plot(Tp,PSD,ENStyle,color = EPColor,label = '$\\sum E_p$ of Particles')\n",
    "    ax.plot(Tp,MESD,ETStyle,color = ENColor,label = 'Total Mechanical Energy of Particles')\n",
    "else:\n",
    "    ax.plot(Tp,KSD,ENStyle,color = ENColor,label = 'Particle Energy')\n",
    "\n",
    "ax.set_ylabel(f'$ΔE / ${EUnit}')\n",
    "\n",
    "# ax.plot(Tp, - egpcmlist + egpcmlist[0] ,label = 'ULDM Potential Experienced by Particle')\n",
    "# ax.plot(Tp, - egpcmlist2 + egpcmlist2[0],label = 'NBody Potential Experienced by ULDM')\n",
    "\n",
    "ax.legend(ncol=3,bbox_to_anchor=(0.5, -0.2),loc='lower center')\n",
    "\n",
    "plt.xlabel('Time / Myr')\n",
    "\n",
    "\n",
    "plt.title('Energy Change of Particle System')\n",
    "plt.savefig(EnergyNName, format='jpg', dpi=72)\n",
    "\n",
    "plt.show()\n",
    "#==================================================================================================\n",
    "# The Advanced Energy Change Ratio Diagram\n",
    "fig = plt.figure(figsize= EFigSize_Mono)\n",
    "ax = fig.add_subplot(111)\n",
    "#InfoBoxD = AnchoredText(SimInfo, loc=3)\n",
    "#ax.add_artist(InfoBoxD)\n",
    "\n",
    "ax.plot(Tp,ERNew,ETStyle, color = ETColor, label = 'Total Energy of Entire System')\n",
    "ax.set_xlabel('Time / Myr')\n",
    "ax.legend()\n",
    "\n",
    "ax.set_ylabel('$ΔE/E$')\n",
    "\n",
    "plt.savefig(EnergyD2Name, format='jpg', dpi=72)\n",
    "\n",
    "plt.show()\n",
    "\n",
    "##==================================================================================================\n",
    "## The Advanced Energy Change Ratio Diagram 2 \n",
    "#fig = plt.figure(figsize= EFigSize_Mono)\n",
    "#ax = fig.add_subplot(111)\n",
    "#\n",
    "#ax.plot(Tp,TotalER2,ETStyle, color = ETColor, label = 'Total Energy of Entire System')\n",
    "#ax.set_xlabel('Time / Myr')\n",
    "#ax.legend()\n",
    "#\n",
    "#ax.set_ylabel('Relative Energy Change (%)')\n",
    "##ax.set_ylim([90.0,110.0])\n",
    "#ax.set_title('Percentage Change of System Energy (NEW)')\n",
    "#\n",
    "#plt.show()\n",
    "#\n",
    "#================================================================================================="
   ]
  },
  {
   "cell_type": "markdown",
   "metadata": {},
   "source": [
    "### Particle Velocity"
   ]
  },
  {
   "cell_type": "code",
   "execution_count": null,
   "metadata": {},
   "outputs": [],
   "source": [
    "vS = TMDataS[:,3:6]\n",
    "\n",
    "vSMagn = np.sqrt(vS[:,0]**2+vS[:,1]**2+vS[:,2]**2)\n",
    "\n",
    "#plt.plot(Tp,vS, '--')\n",
    "plt.plot(Tp,vSMagn, ETStyle, color = 'k', label = 'Total Speed')\n",
    "\n",
    "plt.xlabel('Time / Myr')\n",
    "plt.ylabel(f'$v$ {m_velocity_unit}')"
   ]
  },
  {
   "cell_type": "markdown",
   "metadata": {},
   "source": [
    "## 2D Complex Field Animation"
   ]
  },
  {
   "cell_type": "code",
   "execution_count": null,
   "metadata": {
    "scrolled": false
   },
   "outputs": [],
   "source": [
    "Loga = False \n",
    "Relative = False\n",
    "Phase = False\n",
    "NLvl = 50\n",
    "\n",
    "try:\n",
    "    VTimeStamp = TimeStamp\n",
    "except NameError:\n",
    "    VTimeStamp = str('Debug')\n",
    "\n",
    "\n",
    "DensityGR = Density\n",
    "\n",
    "loc = save_path + '/' + TimeStamp\n",
    "\n",
    "AnimName = '{}{}{}{}'.format(loc,\"/AnimComplex_\",VTimeStamp,\".mp4\")\n",
    "\n",
    "if Loga:\n",
    "    \n",
    "    if Relative:\n",
    "        data0 = np.log(np.real(data)/DensityGR)\n",
    "        print(\"Evaluating Change Ratio.\")\n",
    "        planemax = np.max(data0)\n",
    "        planemin = np.min(data0)\n",
    "        TITLETEXT = 'Logarithmic Over (Under) density in Plane'\n",
    "\n",
    "    else:\n",
    "        data0 = np.log(np.real(data))\n",
    "        planemax = np.max(data0)\n",
    "        planemin = -2\n",
    "        TITLETEXT = 'Logarithmic Mass Density in Plane'\n",
    "    \n",
    "    print(\"Using Log Plot, the Contour Level Limits Are\")\n",
    "    \n",
    "    \n",
    "else:\n",
    "    if Relative:\n",
    "        data0 = np.real(data)/DensityGR\n",
    "        print(\"Initial Field is Uniform. Evaluating Change Ratio.\")\n",
    "        planemax = np.max(data0)\n",
    "        planemin = np.min(data0)\n",
    "        TITLETEXT = 'Over (Under) Density in Plane'\n",
    "\n",
    "    else:\n",
    "        data0 = np.real(data)\n",
    "        planemax = np.max(data0)\n",
    "        planemin = np.min(data0)\n",
    "        TITLETEXT = 'Mass Density in Plane'\n",
    "\n",
    "TITLETEXT = VTimeStamp + ': ' + TITLETEXT\n",
    "\n",
    "print(\"Saving \",AnimName)\n",
    "\n",
    "plot_axis = 'z' #axis that is set to zero\n",
    "plt.ioff()\n",
    "fig0, ax0 = plt.subplots(figsize=VideoSize, dpi=DPI)\n",
    "ax0.set_aspect('equal')\n",
    "\n",
    "PlotRange = np.linspace(-lengthKpc/2, lengthKpc/2,resol,endpoint = False)\n",
    "\n",
    "# print(PlotRange)\n",
    "\n",
    "levels = np.linspace(planemin, planemax, NLvl)\n",
    "\n",
    "# Frame Number Management\n",
    "if FrameCap > 0 and FrameCap < EndNum:\n",
    "    Step = EndNum//FrameCap\n",
    "    MovEnd = FrameCap\n",
    "else: \n",
    "    Step = 1\n",
    "    MovEnd = EndNum\n",
    "    \n",
    "# With out-of-bounds colors:\n",
    "\n",
    "norm = mpl.colors.BoundaryNorm(boundaries=levels, ncolors=300)\n",
    "\n",
    "def animate3(i):\n",
    "    I = Step * i\n",
    "    ts = time.time()\n",
    "    \n",
    "    ax0.cla()\n",
    "    \n",
    "    ax0.set_aspect('equal')\n",
    "    ax0.get_xaxis().set_ticks([])\n",
    "    ax0.get_yaxis().set_ticks([])\n",
    "    \n",
    "    ax0.set_xlim([-lengthKpc/2,lengthKpc/2])\n",
    "    ax0.set_ylim([-lengthKpc/2,lengthKpc/2])\n",
    "    \n",
    "    Plane = np.real(phasedata[I])\n",
    "    if Phase:\n",
    "        ax0.imshow(Plane,cmap = CycPalette,origin = 'lower',\n",
    "               vmin = -np.pi, vmax = np.pi,\n",
    "               extent = (-lengthKpc/2,lengthKpc/2,-lengthKpc/2,lengthKpc/2),\n",
    "              interpolation = 'none')\n",
    "    \n",
    "    TMStateLoc = TMDataS[I,:]\n",
    "    \n",
    "    for particleID in range(len(particles)):\n",
    "\n",
    "        Color = Colors[np.mod(particleID,5)] # 0, 0.5\n",
    "        \n",
    "        TMx = TMStateLoc[int(6*particleID+1)]\n",
    "        TMy = TMStateLoc[int(6*particleID)]\n",
    "        TMz = TMStateLoc[int(6*particleID+2)]\n",
    "        \n",
    "        Vx = TMStateLoc[int(6*particleID+4)]\n",
    "        Vy = TMStateLoc[int(6*particleID+3)]\n",
    "        Vz = TMStateLoc[int(6*particleID+5)]\n",
    "        ax0.plot([TMx],[TMy],'o',color=(Color[0],Color[1],Color[2],1))\n",
    "        #ax0.quiver([TMx],[TMy],[Vx],[Vy])\n",
    "        \n",
    "    ax0.contour(PlotRange,PlotRange,data0[I], levels=levels,cmap = Palette)\n",
    "    \n",
    "    #ax0.pcolormesh(PlotRange, PlotRange,data0[I],rasterized = True, norm = norm, cmap = DivPalette)\n",
    "    \n",
    "    ax0.text(0.5, 1.05, '{}{:.4f}{}'.format('Time Elapsed: ', Tp[I],' Million Years'),\n",
    "             horizontalalignment='center', verticalalignment='center', \n",
    "             transform=ax0.transAxes,color = EmphColor)\n",
    "    \n",
    "    \n",
    "    ax0.text(0.5, -0.05, f'{ETNewD[I]:.5f}',\n",
    "             horizontalalignment='center', verticalalignment='center', \n",
    "             transform=ax0.transAxes,color = EmphColor, fontsize = 15)\n",
    "    fig0.suptitle('{} {}{}'.format(TITLETEXT, plot_axis, '=0'), fontsize = 12)\n",
    "    PyUL.prog_bar(MovEnd, i+1, time.time()-ts)\n",
    "\n",
    "\n",
    "interval = 0.15 #in seconds\n",
    "ani3 = matplotlib.animation.FuncAnimation(fig0,animate3,MovEnd,interval=interval*1e+3,blit=False)\n",
    "\n",
    "Writer = matplotlib.animation.writers['ffmpeg']\n",
    "\n",
    "writer = Writer(fps=FPS, metadata=dict(artist='PyUltraLightF'))\n",
    "\n",
    "ani3.save(AnimName, writer=writer)\n",
    "\n",
    "Video(AnimName)"
   ]
  },
  {
   "cell_type": "code",
   "execution_count": null,
   "metadata": {},
   "outputs": [],
   "source": [
    "Video(AnimName)"
   ]
  },
  {
   "cell_type": "markdown",
   "metadata": {},
   "source": [
    "## World of SI Units"
   ]
  },
  {
   "cell_type": "code",
   "execution_count": null,
   "metadata": {},
   "outputs": [],
   "source": [
    "MInSI = PyUL.convert_between(MIn,'M_solar_masses','kg','m')\n",
    "vRel0SI = PyUL.convert_between(vRel0,'km/s','m/s','v')\n",
    "MBHSI = PyUL.convert_between(mP,'M_solar_masses','kg','m')\n",
    "RSI = PyUL.convert_between(ImpactB,length_units,'m','l')"
   ]
  },
  {
   "cell_type": "code",
   "execution_count": null,
   "metadata": {},
   "outputs": [],
   "source": [
    "Density0 = PyUL.ReadLocalDensity(loc)\n",
    "DensitySI = PyUL.convert_between(Density0,'','kg/m3','d')"
   ]
  },
  {
   "cell_type": "code",
   "execution_count": null,
   "metadata": {},
   "outputs": [],
   "source": [
    "print(MInSI, vRel0SI, MBHSI, RSI, DensitySI)"
   ]
  },
  {
   "cell_type": "markdown",
   "metadata": {},
   "source": [
    "### Expected Dynamical Timescale\n",
    "\n",
    "C = T / t, where T is the output of the cell below, and t is a dynamically evaluated timescale."
   ]
  },
  {
   "cell_type": "code",
   "execution_count": null,
   "metadata": {},
   "outputs": [],
   "source": [
    "T = PyUL.convert_between((MInSI)**(3/2) / (4*pi*np.sqrt(PyUL.G)*MBHSI*DensitySI*RSI**(3/2)),'s','Myr','t')\n",
    "\n",
    "print(T, 'Myr')"
   ]
  },
  {
   "cell_type": "markdown",
   "metadata": {},
   "source": [
    "### Predicted Initial C from Quantum Wind (Without Self-Gravity)"
   ]
  },
  {
   "cell_type": "code",
   "execution_count": null,
   "metadata": {},
   "outputs": [],
   "source": [
    "HWHM = PyUL.convert_between(PyUL.SolEst(mS,length,resol,mass_unit = '',length_units = '', Plot = False, Density = 0, density_unit = ''),'','m','l')"
   ]
  },
  {
   "cell_type": "code",
   "execution_count": null,
   "metadata": {},
   "outputs": [],
   "source": [
    "LdB = 2*np.pi*PyUL.hbar / (PyUL.axion_mass) / vRel0SI"
   ]
  },
  {
   "cell_type": "code",
   "execution_count": null,
   "metadata": {},
   "outputs": [],
   "source": [
    "TildeB = HWHM / LdB\n",
    "\n",
    "from scipy.special import sici as SiCin\n",
    "\n",
    "SbV,CbV = SiCin(2*TildeB)\n",
    "\n",
    "RealCbV = np.euler_gamma + np.log(2*TildeB) - CbV\n",
    "\n",
    "C = RealCbV+np.sin(2*TildeB)/(2*TildeB)-1"
   ]
  },
  {
   "cell_type": "code",
   "execution_count": null,
   "metadata": {},
   "outputs": [],
   "source": []
  }
 ],
 "metadata": {
  "celltoolbar": "Initialization Cell",
  "hide_input": false,
  "kernelspec": {
   "display_name": "Python 3",
   "language": "python",
   "name": "python3"
  },
  "language_info": {
   "codemirror_mode": {
    "name": "ipython",
    "version": 3
   },
   "file_extension": ".py",
   "mimetype": "text/x-python",
   "name": "python",
   "nbconvert_exporter": "python",
   "pygments_lexer": "ipython3",
   "version": "3.6.9"
  },
  "latex_envs": {
   "LaTeX_envs_menu_present": true,
   "autoclose": true,
   "autocomplete": true,
   "bibliofile": "biblio.bib",
   "cite_by": "apalike",
   "current_citInitial": 1,
   "eqLabelWithNumbers": true,
   "eqNumInitial": 1,
   "hotkeys": {
    "equation": "Ctrl-E",
    "itemize": "Ctrl-I"
   },
   "labels_anchors": false,
   "latex_user_defs": false,
   "report_style_numbering": false,
   "user_envs_cfg": false
  },
  "notify_time": "30",
  "toc": {
   "base_numbering": 1,
   "nav_menu": {
    "height": "664px",
    "width": "417px"
   },
   "number_sections": true,
   "sideBar": true,
   "skip_h1_title": false,
   "title_cell": "Table of Contents",
   "title_sidebar": "Contents",
   "toc_cell": true,
   "toc_position": {
    "height": "calc(100% - 180px)",
    "left": "10px",
    "top": "150px",
    "width": "403px"
   },
   "toc_section_display": true,
   "toc_window_display": true
  },
  "varInspector": {
   "cols": {
    "lenName": 16,
    "lenType": 16,
    "lenVar": 40
   },
   "kernels_config": {
    "python": {
     "delete_cmd_postfix": "",
     "delete_cmd_prefix": "del ",
     "library": "var_list.py",
     "varRefreshCmd": "print(var_dic_list())"
    },
    "r": {
     "delete_cmd_postfix": ") ",
     "delete_cmd_prefix": "rm(",
     "library": "var_list.r",
     "varRefreshCmd": "cat(var_dic_list()) "
    }
   },
   "position": {
    "height": "691px",
    "left": "1549px",
    "right": "20px",
    "top": "120px",
    "width": "353px"
   },
   "types_to_exclude": [
    "module",
    "function",
    "builtin_function_or_method",
    "instance",
    "_Feature"
   ],
   "window_display": false
  }
 },
 "nbformat": 4,
 "nbformat_minor": 4
}
