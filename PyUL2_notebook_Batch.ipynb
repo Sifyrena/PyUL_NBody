{
 "cells": [
  {
   "cell_type": "markdown",
   "metadata": {},
   "source": [
    "# PyUL2 Parameter Scanner (For Linear BH Motion)"
   ]
  },
  {
   "cell_type": "markdown",
   "metadata": {
    "toc": true
   },
   "source": [
    "<h1>Table of Contents<span class=\"tocSkip\"></span></h1>\n",
    "<div class=\"toc\"><ul class=\"toc-item\"><li><span><a href=\"#PyUL2-Parameter-Scanner-(For-Linear-BH-Motion)\" data-toc-modified-id=\"PyUL2-Parameter-Scanner-(For-Linear-BH-Motion)-1\"><span class=\"toc-item-num\">1&nbsp;&nbsp;</span>PyUL2 Parameter Scanner (For Linear BH Motion)</a></span></li><li><span><a href=\"#Initialization\" data-toc-modified-id=\"Initialization-2\"><span class=\"toc-item-num\">2&nbsp;&nbsp;</span>Initialization</a></span><ul class=\"toc-item\"><li><span><a href=\"#Graphics\" data-toc-modified-id=\"Graphics-2.1\"><span class=\"toc-item-num\">2.1&nbsp;&nbsp;</span>Graphics</a></span></li></ul></li><li><span><a href=\"#Getting-Ready\" data-toc-modified-id=\"Getting-Ready-3\"><span class=\"toc-item-num\">3&nbsp;&nbsp;</span>Getting Ready</a></span><ul class=\"toc-item\"><li><span><a href=\"#Setting-up-the-scan\" data-toc-modified-id=\"Setting-up-the-scan-3.1\"><span class=\"toc-item-num\">3.1&nbsp;&nbsp;</span>Setting up the scan</a></span></li></ul></li><li><span><a href=\"#Batch-Execution\" data-toc-modified-id=\"Batch-Execution-4\"><span class=\"toc-item-num\">4&nbsp;&nbsp;</span>Batch Execution</a></span></li><li><span><a href=\"#Batch-Processing.\" data-toc-modified-id=\"Batch-Processing.-5\"><span class=\"toc-item-num\">5&nbsp;&nbsp;</span>Batch Processing.</a></span><ul class=\"toc-item\"><li><span><a href=\"#Orbital-Radius-Decay-Diagram\" data-toc-modified-id=\"Orbital-Radius-Decay-Diagram-5.1\"><span class=\"toc-item-num\">5.1&nbsp;&nbsp;</span>Orbital Radius Decay Diagram</a></span></li><li><span><a href=\"#Lowest-Energy-Achieved\" data-toc-modified-id=\"Lowest-Energy-Achieved-5.2\"><span class=\"toc-item-num\">5.2&nbsp;&nbsp;</span>Lowest Energy Achieved</a></span></li><li><span><a href=\"#Loading-Single\" data-toc-modified-id=\"Loading-Single-5.3\"><span class=\"toc-item-num\">5.3&nbsp;&nbsp;</span>Loading Single</a></span></li><li><span><a href=\"#2D-Preview\" data-toc-modified-id=\"2D-Preview-5.4\"><span class=\"toc-item-num\">5.4&nbsp;&nbsp;</span>2D Preview</a></span></li></ul></li></ul></div>"
   ]
  },
  {
   "cell_type": "markdown",
   "metadata": {},
   "source": [
    "# Initialization"
   ]
  },
  {
   "cell_type": "code",
   "execution_count": 3,
   "metadata": {
    "ExecuteTime": {
     "end_time": "2021-03-02T10:31:29.194567Z",
     "start_time": "2021-03-02T10:31:29.106737Z"
    },
    "hide_input": false,
    "init_cell": true,
    "scrolled": false
   },
   "outputs": [
    {
     "name": "stdout",
     "output_type": "stream",
     "text": [
      "Axion Mass (eV).1e-21\n",
      "PyUL.Universe: Axion Mass: 1e-21 eV.\n",
      "==============================================================================\n",
      "PyUL.23.5: (c) 2020 - 2021 Wang., Y. and collaborators. \n",
      "Auckland Cosmology Group\n",
      "\n",
      "Original PyUltraLight Team:\n",
      "Edwards, F., Kendall, E., Hotchkiss, S. & Easther, R.\n",
      "arxiv.org/abs/1807.04037\n",
      "==============================================================================\n",
      "PyUL.universe: m22 = 10\n"
     ]
    }
   ],
   "source": [
    "###### Do not touch\n",
    "MinVersion = 23\n",
    "\n",
    "import PyUltraLight2 as PyUL\n",
    "\n",
    "if (PyUL.S_version < MinVersion):\n",
    "    raise RuntimeError(\"You need the latest PyULN!\")\n",
    "\n",
    "import numpy as np\n",
    "\n",
    "np.set_printoptions(suppress=True)\n",
    "\n",
    "import math\n",
    "\n",
    "import numba\n",
    "import numexpr as ne\n",
    "import time\n",
    "import pyfftw\n",
    "import os\n",
    "import sys\n",
    "import multiprocessing\n",
    "import numpy\n",
    "\n",
    "from matplotlib import cm\n",
    "from mpl_toolkits.mplot3d import Axes3D\n",
    "import matplotlib as mpl\n",
    "import matplotlib.pyplot as plt\n",
    "import matplotlib.gridspec\n",
    "import matplotlib.animation\n",
    "from matplotlib.offsetbox import AnchoredText\n",
    "\n",
    "import IPython\n",
    "from IPython.core.display import clear_output, display, Video\n",
    "\n",
    "from numpy import sqrt, exp, log, log10, sin, cos, tan, pi\n",
    "\n",
    "%reload_ext autoreload\n",
    "%autoreload 2\n",
    "\n",
    "# Useful Aux Functions\n",
    "ToCode = PyUL.convert\n",
    "ToPhys = PyUL.convert_back\n",
    "CB = PyUL.convert_between\n",
    "printU = PyUL.printU\n",
    "\n",
    "m22 = PyUL.axion_E / 1e-22\n",
    "\n",
    "printU(f\"m22 = {m22:.3g}\", 'universe')"
   ]
  },
  {
   "cell_type": "markdown",
   "metadata": {},
   "source": [
    "## Graphics"
   ]
  },
  {
   "cell_type": "code",
   "execution_count": 4,
   "metadata": {},
   "outputs": [],
   "source": [
    "plt.style.use('default')\n",
    "\n",
    "plt.rcParams['font.family'] = 'DejaVu Serif'\n",
    "plt.rcParams['mathtext.fontset'] = 'dejavuserif'\n",
    "plt.rcParams[\"text.usetex\"] = False\n",
    "plt.rcParams['font.size'] = 18\n",
    "plt.rcParams['axes.linewidth'] = 2\n",
    "plt.rcParams['lines.linewidth'] = 2\n",
    "plt.rcParams['axes.facecolor'] = 'w'\n",
    "\n",
    "from matplotlib.colors import LinearSegmentedColormap\n",
    "Palette = 'magma'\n",
    "cyccol = ['#000000', '#ffffff', '#000000']\n",
    "divcol = ['#003262', '#005b96', '#ffffff', '#d5a756', '#B51700']\n",
    "divcols = ['#005b96', '#ffffff', '#d5a756']\n",
    "\n",
    "CycPalette = LinearSegmentedColormap.from_list('myCyc', cyccol)\n",
    "\n",
    "DivPalette = LinearSegmentedColormap.from_list('myDiv', divcol)\n",
    "DivPaletteS = LinearSegmentedColormap.from_list('myDiv', divcols)\n",
    "\n",
    "EFigSize = (10, 12)\n",
    "EFigSizeMono = (10, 6)\n",
    "VideoSize = (8, 8)\n",
    "FPS = 10\n",
    "DPI = 72\n",
    "\n",
    "FrameCap = 60  # Maximum Number of Frames to Animate\n",
    "\n",
    "########################################\n",
    "\n",
    "# BH Trajectory\n",
    "\n",
    "Colors = np.array([[209, 17, 65], [0, 177, 89], [0, 174, 219], [243, 119, 53],\n",
    "                   [255, 196, 37]]) / 255\n",
    "\n",
    "# NBody\n",
    "ENStyle = '-'\n",
    "ENColor = '#ff6c0e'  # NBody\n",
    "\n",
    "EKColor = '#8dd9e7'\n",
    "EPColor = '#fd8dc8'\n",
    "\n",
    "# ULDM\n",
    "EUStyle = '-'\n",
    "EUColor = '#7f1717'  # ULDM\n",
    "\n",
    "EQColor = '#ccb603'  # Kinetic\n",
    "ERColor = '#6cc25c'  # Self-Interaction\n",
    "EGColor = '#2c8899'  # Particle Potential\n",
    "\n",
    "# Totals\n",
    "ETStyle = '-'\n",
    "ETColor = '#080808'\n",
    "\n",
    "# Auxiliary\n",
    "HelperStyle = 'k.'\n",
    "EmphColor = 'black'\n",
    "GeomColor = 'olivedrab'"
   ]
  },
  {
   "cell_type": "markdown",
   "metadata": {},
   "source": [
    "# Getting Ready"
   ]
  },
  {
   "cell_type": "markdown",
   "metadata": {},
   "source": [
    "## Setting up the scan"
   ]
  },
  {
   "cell_type": "markdown",
   "metadata": {},
   "source": [
    "*Supported scan parameters:*\n",
    "\n",
    "    Density Resolution TM_M TM_v U_v Step_Factor Scaling Plummer_Radius\n",
    "    \n",
    "(Scaling refers scaling the box size by a factor.)"
   ]
  },
  {
   "cell_type": "code",
   "execution_count": 5,
   "metadata": {},
   "outputs": [
    {
     "name": "stdout",
     "output_type": "stream",
     "text": [
      "[ Batches/Test1 ] : The current size of the folder is 0.0 Mib\n",
      "[ Batches/Test1 ] : Save Folder Created.\n"
     ]
    }
   ],
   "source": [
    "save_path = 'Batches/Test1'\n",
    "PyUL.DSManagement(save_path, Force=False)"
   ]
  },
  {
   "cell_type": "code",
   "execution_count": 6,
   "metadata": {},
   "outputs": [],
   "source": [
    "ScanParams = ['Density', 'TM_M', 'TM_v']\n",
    "\n",
    "ValuePool = [[1e3,1e5,1e7],[0.1,1,10],[12.5,25,50]] # Inherit the defined units in your configuration file"
   ]
  },
  {
   "cell_type": "code",
   "execution_count": 8,
   "metadata": {
    "ExecuteTime": {
     "end_time": "2021-03-01T10:15:12.827167Z",
     "start_time": "2021-03-01T10:15:12.670553Z"
    },
    "scrolled": false
   },
   "outputs": [
    {
     "name": "stdout",
     "output_type": "stream",
     "text": [
      "PyUL.ParamScan: Automated scan will be performed over 3 parameters.\n",
      "There will be 27 separate simulations. They are:\n",
      "[('Density', [1000.0, 100000.0, 10000000.0]), ('TM_M', [0.1, 1, 10]), ('TM_v', [12.5, 25, 50])]\n",
      "(Units are defined in the donor config file)\n",
      "Generated config file for PScan_D01_M01_V01\n",
      "Generated config file for PScan_D01_M01_V02\n",
      "Generated config file for PScan_D01_M01_V03\n",
      "Generated config file for PScan_D01_M02_V01\n",
      "Generated config file for PScan_D01_M02_V02\n",
      "Generated config file for PScan_D01_M02_V03\n",
      "Generated config file for PScan_D01_M03_V01\n",
      "Generated config file for PScan_D01_M03_V02\n",
      "Generated config file for PScan_D01_M03_V03\n",
      "Generated config file for PScan_D02_M01_V01\n",
      "Generated config file for PScan_D02_M01_V02\n",
      "Generated config file for PScan_D02_M01_V03\n",
      "Generated config file for PScan_D02_M02_V01\n",
      "Generated config file for PScan_D02_M02_V02\n",
      "Generated config file for PScan_D02_M02_V03\n",
      "Generated config file for PScan_D02_M03_V01\n",
      "Generated config file for PScan_D02_M03_V02\n",
      "Generated config file for PScan_D02_M03_V03\n",
      "Generated config file for PScan_D03_M01_V01\n",
      "Generated config file for PScan_D03_M01_V02\n",
      "Generated config file for PScan_D03_M01_V03\n",
      "Generated config file for PScan_D03_M02_V01\n",
      "Generated config file for PScan_D03_M02_V02\n",
      "Generated config file for PScan_D03_M02_V03\n",
      "Generated config file for PScan_D03_M03_V01\n",
      "Generated config file for PScan_D03_M03_V02\n",
      "Generated config file for PScan_D03_M03_V03\n"
     ]
    }
   ],
   "source": [
    "N, SaveString = PyUL.ParameterScanGenerator('Reusable/Configurations/QDrag1_QW',\n",
    "                            ScanParams,\n",
    "                            ValuePool,\n",
    "                            save_path,\n",
    "                            SaveSpace=False,\n",
    "                            KeepResol=True,\n",
    "                            KeepSmooth=False,\n",
    "                            AdaptiveTime=False)"
   ]
  },
  {
   "cell_type": "markdown",
   "metadata": {},
   "source": [
    "[**Back to the Top**](#root)\n",
    "<a id='run'></a>\n",
    "# Batch Execution\n",
    "\n",
    "This creates a timestamped folder using the current settings, and the integrator stores all requested files in it too."
   ]
  },
  {
   "cell_type": "code",
   "execution_count": 9,
   "metadata": {
    "ExecuteTime": {
     "start_time": "2021-03-02T10:31:58.639Z"
    },
    "scrolled": false
   },
   "outputs": [
    {
     "name": "stdout",
     "output_type": "stream",
     "text": [
      "Build 2021 Aug 25\n",
      "Message: Simulation #27 out of 28\n",
      "PyUL.Runtime: Simulation name is ./Batches/Test1/PScan_D03_M03_V03\n",
      "PyUL.Runtime: 128 Resolution for 32Myr\n",
      "PyUL.Runtime: Simulation Started at 27/09/2021, 12:53:21.\n",
      "PyUL.Runtime: Taking 8 ULDM steps\n",
      "\n",
      "\n",
      "[●●●●●●●●●●●●●●●●●●●●] 100%      Exp. Time: 27/09/2021, 12:53:22 (Prev.: 0.17s) \n",
      "\n",
      "PyUL.Runtime: Run Complete. Time Elapsed (d:h:m:s): 0:0:0:1.38\n",
      "Simulation 27 finished.\n",
      "102s\n"
     ]
    },
    {
     "ename": "NameError",
     "evalue": "name 'batch_path' is not defined",
     "output_type": "error",
     "traceback": [
      "\u001b[0;31m---------------------------------------------------------------------------\u001b[0m",
      "\u001b[0;31mNameError\u001b[0m                                 Traceback (most recent call last)",
      "\u001b[0;32m<ipython-input-9-88d14dde0d31>\u001b[0m in \u001b[0;36m<module>\u001b[0;34m\u001b[0m\n\u001b[1;32m     36\u001b[0m \u001b[0mprint\u001b[0m\u001b[0;34m(\u001b[0m\u001b[0;34mf\"{time.time()-T0:.3g}s\"\u001b[0m\u001b[0;34m)\u001b[0m\u001b[0;34m\u001b[0m\u001b[0;34m\u001b[0m\u001b[0m\n\u001b[1;32m     37\u001b[0m printU(\n\u001b[0;32m---> 38\u001b[0;31m     \u001b[0;34m'Please copy this into analysis notebook\\n\\nbatch_path = \\''\u001b[0m \u001b[0;34m+\u001b[0m \u001b[0mbatch_path\u001b[0m \u001b[0;34m+\u001b[0m\u001b[0;34m\u001b[0m\u001b[0;34m\u001b[0m\u001b[0m\n\u001b[0m\u001b[1;32m     39\u001b[0m     '\\'', 'Export')\n",
      "\u001b[0;31mNameError\u001b[0m: name 'batch_path' is not defined"
     ]
    }
   ],
   "source": [
    "FullSim = True\n",
    "T0 = time.time()\n",
    "runs = os.listdir(save_path)\n",
    "runs.sort()\n",
    "\n",
    "NRuns = len(runs)\n",
    "\n",
    "Run = 0\n",
    "\n",
    "for run_folder in runs:\n",
    "\n",
    "    if os.path.isdir(f'{save_path}/{run_folder}'):\n",
    "\n",
    "        RunText = f'Simulation #{Run+1} out of {NRuns}'\n",
    "        PyUL.evolve(save_path,\n",
    "                    run_folder,\n",
    "                    NBodyInterp=FullSim,\n",
    "                    SelfGravity=FullSim,\n",
    "                    NBodyGravity=True,\n",
    "                    Silent=True,\n",
    "                    Shift=False,\n",
    "                    AutoStop=False,\n",
    "                    AutoStop2=False,\n",
    "                    Message=RunText,\n",
    "                    Stream=False,\n",
    "                    StreamChar=[1, 4])\n",
    "\n",
    "        Run += 1\n",
    "\n",
    "        print(f'Simulation {Run} finished.')\n",
    "        time.sleep(2)\n",
    "\n",
    "import IPython\n",
    "IPython.display.Audio(\"Done.mp3\", autoplay=True)\n",
    "\n",
    "print(f\"{time.time()-T0:.3g}s\")"
   ]
  },
  {
   "cell_type": "markdown",
   "metadata": {},
   "source": [
    "# Batch Processing."
   ]
  },
  {
   "cell_type": "code",
   "execution_count": 3,
   "metadata": {},
   "outputs": [],
   "source": [
    "### Initializing Journaling Variables\n",
    "\n",
    "#### Dummies and Aux\n",
    "TimeLog = [] # Time Series\n",
    "ResoLog = [] # Resolutions\n",
    "PlRaLog = [] # Plummer Radii\n",
    "\n",
    "#### Core Variables\n",
    "IniRLog = [] # Initial Radius Handle\n",
    "MaRaLog = [] # Mass Ratio Handle\n",
    "\n",
    "TMMaLog = [] # NBody Mass\n",
    "\n",
    "DyTSLog = [] # Dynamical Timescale (Corrected by C)\n",
    "IniDLog = [] # Initial Density\n",
    "MEncLog = []\n",
    "\n",
    "TMAcLog = [] # Nbody Acceleration\n",
    "TMDSLog = [] # Nbody Traj\n",
    "TMDVLog = [] # Nbody Velocity\n",
    "\n",
    "# Energies\n",
    "\n",
    "TMEKLog = [] # BH Kinetic\n",
    "TMEPLog = [] # BH Potential (Due to ULDM)\n",
    "\n",
    "ULEKLog = [] # ULDM KQ (Kinetic and Quantum)\n",
    "ULEPLog = [] # ULDM Self-Grav\n",
    "\n",
    "SysELog = [] # System Total Energy\n",
    "\n",
    "Run = 0\n"
   ]
  },
  {
   "cell_type": "code",
   "execution_count": 4,
   "metadata": {
    "scrolled": false
   },
   "outputs": [
    {
     "name": "stdout",
     "output_type": "stream",
     "text": [
      "PyUL2.   IO: Processing Complete!\n",
      "PyUL2. Time: 9.459s\n"
     ]
    }
   ],
   "source": [
    "save_path = './Batches/' + PyUL.Runs('./Batches', Automatic = False)\n",
    "\n",
    "runs = os.listdir(save_path)\n",
    "runs.sort()\n",
    "\n",
    "Time = time.time()\n",
    "\n",
    "for run_folder in runs:\n",
    "    loc = './' + save_path + '/' + run_folder\n",
    "    if os.path.isdir(loc):\n",
    "        \n",
    "        # Reload Config.. Why don't I use a class?\n",
    "        NS, length, length_units, resol, duration, duration_units, step_factor, save_number, save_options, save_format, s_mass_unit, s_position_unit, s_velocity_unit, solitons,start_time, m_mass_unit, m_position_unit, m_velocity_unit, particles, embeds, Uniform,Density, density_unit ,a, UVel = PyUL.LoadConfig(loc)\n",
    "\n",
    "        if save_number == -1:\n",
    "            sim_number = PyUL.ULDStepEst(duration,duration_units,\n",
    "                                                  length,length_units,\n",
    "                                                  resol,step_factor, \n",
    "                                                  save_number = -1)\n",
    "        else:\n",
    "            sim_number = save_number\n",
    "\n",
    "        # Dict of Run Data\n",
    "        EndNum, Loaded = PyUL.Load_npys(loc,save_options)\n",
    "\n",
    "        TMdata = Loaded['NBody']\n",
    "        \n",
    "        AccData = Loaded['DF']\n",
    "        \n",
    "        \n",
    "        Loaded = {}\n",
    "\n",
    "        NBo = len(particles)\n",
    "\n",
    "        # Time\n",
    "        durationMyr = CB(duration,duration_units,'Myr','t')\n",
    "\n",
    "        # Space\n",
    "        lengthKpc = CB(length,length_units,'kpc','l')\n",
    "        lengthC = ToCode(length,length_units,'l')\n",
    "\n",
    "        # Mass\n",
    "\n",
    "        MassList_MSol = []\n",
    "        MassListSI = []\n",
    "        for TM in particles:\n",
    "            MassList_MSol.append(CB(TM[0],m_mass_unit,'M_solar_masses','m'))\n",
    "            MassListSI.append(CB(TM[0],m_mass_unit,'kg','m'))\n",
    "\n",
    "        # Density\n",
    "        DensitySI = CB(Density,density_unit,'kg/m3','d')\n",
    "        DensityC = ToCode(Density,density_unit,'d')\n",
    "\n",
    "        ## Misc. Pre-Multipliers\n",
    "\n",
    "\n",
    "        # NBody_State Vector\n",
    "\n",
    "        XPre = ToPhys(1,'kpc','l')\n",
    "        VPre = ToPhys(1,'km/s','v')\n",
    "\n",
    "        XPreSI = ToPhys(1,'m','l')\n",
    "        VPreSI = ToPhys(1,'m/s','v')\n",
    "\n",
    "        IArray = np.arange(len(TMdata[0]))\n",
    "\n",
    "        # Dimensionful NBody State\n",
    "\n",
    "        TMDataS = np.array(TMdata)\n",
    "        TMDataSI = np.array(TMdata)\n",
    "\n",
    "        TMDataS[:,IArray % 6 <= 2] *= XPre\n",
    "        TMDataS[:,IArray % 6 >= 3] *= VPre\n",
    "\n",
    "\n",
    "        TMDataSI[:,IArray % 6 <= 2] *= XPreSI\n",
    "        TMDataSI[:,IArray % 6 >= 3] *= VPreSI\n",
    "\n",
    "\n",
    "        # Rho data\n",
    "        DPre = CB(1,density_unit,'kg/m3','d')\n",
    "        # Energy\n",
    "        EPre = PyUL.energy_unit\n",
    "        # Field Strength\n",
    "        PPre = PyUL.mass_unit / PyUL.length_unit\n",
    "        \n",
    "        \n",
    "        # Acceleration\n",
    "        APre = PyUL.length_unit/PyUL.time_unit**2\n",
    "        \n",
    "        AccDataSI = np.array(AccData) * APre\n",
    "        AccDataSI[0,:] = AccDataSI[1,:] # not a good fix but doesn't matter\n",
    "        # U ENERGY\n",
    "        \n",
    "        # Total Energy from Integrator\n",
    "        egylist = np.load('{}{}'.format(loc, '/Outputs/egylist.npy'),allow_pickle=True) * EPre\n",
    "\n",
    "        # Energy Due to N Body Potential\n",
    "        egpcmlist =  np.load('{}{}'.format(loc, '/Outputs/egpcmMlist.npy'),allow_pickle=True) * EPre # NEW\n",
    "        egpcmlist2 = np.load('{}{}'.format(loc, '/Outputs/egpcmlist.npy'),allow_pickle=True) * EPre # OLD\n",
    "\n",
    "        # Energy Due to ULDM Self-Interaction\n",
    "        egpsilist = np.load('{}{}'.format(loc, '/Outputs/egpsilist.npy'),allow_pickle=True) * EPre\n",
    "\n",
    "        # Energy Due to Quantum Fun\n",
    "        ekandqlist = np.load('{}{}'.format(loc, '/Outputs/ekandqlist.npy'),allow_pickle=True) * EPre\n",
    "\n",
    "        mtotlist = np.load('{}{}'.format(loc, '/Outputs/masseslist.npy'),allow_pickle=True) * EPre\n",
    "\n",
    "\n",
    "        # Translating Snapshots back to Time\n",
    "        \n",
    "        timerange = np.linspace(0,durationMyr,save_number+1)\n",
    "\n",
    "        Tp = np.arange(EndNum)\n",
    "\n",
    "        Tp = Tp * durationMyr / (sim_number+1)\n",
    "\n",
    "        TpSec = PyUL.convert_between(Tp,'Myr','s','t')\n",
    "        \n",
    "        NBo, KS, PS = PyUL.NBodyEnergy(MassListSI,TMDataSI,EndNum, a, length_units)\n",
    "        rP = PyUL.RecPlummer(a,length_units)\n",
    "        \n",
    "        # Section 5 Key Information Recreation\n",
    "        \n",
    "        mP = PyUL.convert(particles[0][0],m_mass_unit,'m')\n",
    "        \n",
    "        mS = PyUL.convert(solitons[0][0],s_mass_unit,'m')\n",
    "        \n",
    "        xP = np.array(particles[0][1])\n",
    "        sP = np.array(solitons[0][1])\n",
    "        \n",
    "        xPC = PyUL.convert(xP,m_position_unit,'l')\n",
    "        sPC = PyUL.convert(sP,s_position_unit,'l')\n",
    "        \n",
    "        rC = np.linalg.norm(xPC-sPC)\n",
    "        \n",
    "        rU = PyUL.convert_back(rC,'kpc','l')\n",
    "        \n",
    "        MaRa = mP / mS\n",
    "        \n",
    "        MIn, vRel0 = PyUL.DefaultSolitonOrbit(resol,length, \n",
    "                                              length_units, mS, '', rC, '', m_velocity_unit)\n",
    "        \n",
    "        MInSI = PyUL.convert_between(MIn,s_mass_unit,'kg','m')\n",
    "        vRel0SI = PyUL.convert_between(vRel0,m_velocity_unit,'m/s','v')\n",
    "        MBHSI = PyUL.convert_between(mP,m_mass_unit,'kg','m')\n",
    "        RSI = PyUL.convert_between(rC,'','m','l')\n",
    "        \n",
    "        Density0 = PyUL.ReadLocalDensity(loc)\n",
    "        DensitySI = PyUL.convert_between(Density0,'','kg/m3','d')\n",
    "        \n",
    "        print(MInSI, vRel0SI, MBHSI, RSI, DensitySI)\n",
    "        \n",
    "        T = PyUL.convert_between((MInSI)**(3/2) / (4*pi*np.sqrt(PyUL.G)*MBHSI*DensitySI*RSI**(3/2)),'s','Myr','t')\n",
    "\n",
    "        print(T, 'Myr')\n",
    "        \n",
    "        CLow = 1/3 * (PyUL.axion_mass / PyUL.hbar)**2 * PyUL.G*RSI*MInSI\n",
    "                \n",
    "        TimeLog.append(Tp)\n",
    "        ResoLog.append(resol)\n",
    "        PlRaLog.append(rP)\n",
    "        \n",
    "        TMMaLog.append(mP)\n",
    "        TMDSLog.append(TMDataS[:,0:3])\n",
    "        TMDVLog.append(TMDataS[:,3:6])\n",
    "                \n",
    "        DyTSLog.append(T/CLow)\n",
    "        IniDLog.append(DensitySI)\n",
    "\n",
    "        #\n",
    "        \n",
    "        IniRLog.append(np.round(rU,4))\n",
    "        MaRaLog.append(np.round(MaRa,4))\n",
    "        MEncLog.append(MIn/mS)\n",
    "        \n",
    "        \n",
    "        # Energy\n",
    "        \n",
    "        MES = (PS + KS)\n",
    "        MESD = PyUL.GetRel(MES)\n",
    "\n",
    "        EKQD = PyUL.GetRel(ekandqlist)\n",
    "        EGPD = PyUL.GetRel(egpsilist)\n",
    "\n",
    "        ECMD = PyUL.GetRel(egpcmlist)\n",
    "        ECOD = PyUL.GetRel(egpcmlist2)\n",
    "\n",
    "        KSD = PyUL.GetRel(KS)\n",
    "        PSD = PyUL.GetRel(PS)\n",
    "\n",
    "        EUOld  = egylist\n",
    "        EUOldD = PyUL.GetRel(EUOld)\n",
    "\n",
    "        EUNew  = egpsilist + ekandqlist + egpcmlist2\n",
    "        EUNewD = PyUL.GetRel(EUNew)\n",
    "\n",
    "        ETOld  = EUOld + MES\n",
    "        ETOldD = PyUL.GetRel(ETOld)\n",
    "\n",
    "        ETNew  = EUNew + MES\n",
    "\n",
    "        TMEKLog.append(MES)\n",
    "        TMEPLog.append(egpcmlist2)\n",
    "        \n",
    "        ULEKLog.append(ekandqlist)\n",
    "        ULEPLog.append(egpsilist)\n",
    "        \n",
    "        SysELog.append(ETNew)\n",
    "\n",
    "        TMAcLog.append(AccDataSI)\n",
    "        \n",
    "        \n",
    "        Run += 1\n",
    "        \n",
    "        clear_output()\n",
    "        \n",
    "        \n",
    "printU('Processing Complete!','IO')\n",
    "\n",
    "printU(f'{time.time() - Time:.3f}s','Time')"
   ]
  },
  {
   "cell_type": "code",
   "execution_count": 5,
   "metadata": {
    "scrolled": true
   },
   "outputs": [
    {
     "data": {
      "text/plain": [
       "45"
      ]
     },
     "execution_count": 5,
     "metadata": {},
     "output_type": "execute_result"
    }
   ],
   "source": [
    "len(DyTSLog)"
   ]
  }
 ],
 "metadata": {
  "celltoolbar": "Initialization Cell",
  "hide_input": false,
  "kernelspec": {
   "display_name": "Python 3",
   "language": "python",
   "name": "python3"
  },
  "language_info": {
   "codemirror_mode": {
    "name": "ipython",
    "version": 3
   },
   "file_extension": ".py",
   "mimetype": "text/x-python",
   "name": "python",
   "nbconvert_exporter": "python",
   "pygments_lexer": "ipython3",
   "version": "3.8.5"
  },
  "latex_envs": {
   "LaTeX_envs_menu_present": true,
   "autoclose": true,
   "autocomplete": true,
   "bibliofile": "biblio.bib",
   "cite_by": "apalike",
   "current_citInitial": 1,
   "eqLabelWithNumbers": true,
   "eqNumInitial": 1,
   "hotkeys": {
    "equation": "Ctrl-E",
    "itemize": "Ctrl-I"
   },
   "labels_anchors": false,
   "latex_user_defs": false,
   "report_style_numbering": false,
   "user_envs_cfg": false
  },
  "notify_time": "30",
  "toc": {
   "base_numbering": 1,
   "nav_menu": {
    "height": "664px",
    "width": "417px"
   },
   "number_sections": true,
   "sideBar": true,
   "skip_h1_title": false,
   "title_cell": "Table of Contents",
   "title_sidebar": "Contents",
   "toc_cell": true,
   "toc_position": {
    "height": "calc(100% - 180px)",
    "left": "10px",
    "top": "150px",
    "width": "403px"
   },
   "toc_section_display": true,
   "toc_window_display": true
  },
  "varInspector": {
   "cols": {
    "lenName": 16,
    "lenType": 16,
    "lenVar": 40
   },
   "kernels_config": {
    "python": {
     "delete_cmd_postfix": "",
     "delete_cmd_prefix": "del ",
     "library": "var_list.py",
     "varRefreshCmd": "print(var_dic_list())"
    },
    "r": {
     "delete_cmd_postfix": ") ",
     "delete_cmd_prefix": "rm(",
     "library": "var_list.r",
     "varRefreshCmd": "cat(var_dic_list()) "
    }
   },
   "position": {
    "height": "691px",
    "left": "1549px",
    "right": "20px",
    "top": "120px",
    "width": "353px"
   },
   "types_to_exclude": [
    "module",
    "function",
    "builtin_function_or_method",
    "instance",
    "_Feature"
   ],
   "window_display": false
  }
 },
 "nbformat": 4,
 "nbformat_minor": 4
}
