{
 "cells": [
  {
   "cell_type": "markdown",
   "metadata": {
    "slideshow": {
     "slide_type": "slide"
    }
   },
   "source": [
    "<a id='init'></a>\n",
    "# Initialization and Program Settings"
   ]
  },
  {
   "cell_type": "markdown",
   "metadata": {},
   "source": [
    "## Loading Packages"
   ]
  },
  {
   "cell_type": "code",
   "execution_count": 3,
   "metadata": {
    "ExecuteTime": {
     "end_time": "2021-03-02T10:31:29.194567Z",
     "start_time": "2021-03-02T10:31:29.106737Z"
    },
    "hide_input": false,
    "init_cell": true,
    "scrolled": true
   },
   "outputs": [],
   "source": [
    "###### Do not touch\n",
    "\n",
    "import PyUltraLight2 as PyUL\n",
    "\n",
    "import IPython\n",
    "from IPython.core.display import clear_output, display, Video\n",
    "\n",
    "from numpy import sqrt, exp, log, log10, sin, cos, tan, pi\n",
    "\n",
    "%reload_ext autoreload\n",
    "%autoreload 2\n",
    "\n",
    "# Useful Aux Functions\n",
    "ToCode = PyUL.convert\n",
    "ToPhys = PyUL.convert_back\n",
    "CB = PyUL.convert_between\n",
    "printU = PyUL.printU"
   ]
  },
  {
   "cell_type": "markdown",
   "metadata": {},
   "source": [
    "\n",
    "<a id='run'></a>\n",
    "# Compiling and Go\n",
    "\n",
    "This creates a timestamped folder using the current settings, and the integrator stores all requested files in it too."
   ]
  },
  {
   "cell_type": "code",
   "execution_count": 42,
   "metadata": {
    "scrolled": false
   },
   "outputs": [
    {
     "name": "stdout",
     "output_type": "stream",
     "text": [
      "[ Batches ] : The current size of the folder is 321.784 Mib\n",
      "[ Batches ] : Do You Wish to Delete All Files Currently Stored In This Folder? [Y] \n",
      "\n",
      "\n",
      "\n",
      "[ Batches/Pub1_FixL_64 ] : The current size of the folder is 0.0 Mib\n",
      "[ Batches/Pub1_FixL_64 ] : Save Folder Created.\n"
     ]
    }
   ],
   "source": [
    "ExperimentName = '/Pub1_FixL_64'\n",
    "\n",
    "batch_path = 'Batches'\n",
    "\n",
    "PyUL.DSManagement(batch_path)\n",
    "\n",
    "batch_path += ExperimentName\n",
    "\n",
    "PyUL.DSManagement(batch_path)"
   ]
  },
  {
   "cell_type": "code",
   "execution_count": 43,
   "metadata": {},
   "outputs": [],
   "source": [
    "baseConfig = './Reusable/Paper1_FinalSim' # Path to base config file. won't be touched."
   ]
  },
  {
   "cell_type": "markdown",
   "metadata": {},
   "source": [
    "### Plummer Radii"
   ]
  },
  {
   "cell_type": "code",
   "execution_count": 44,
   "metadata": {},
   "outputs": [],
   "source": [
    "# 1 de Brolie Wavelength = 0.25 x Grid Length\n",
    "# 1 Grid Space = 1/resol x Grid Length\n",
    "\n",
    "SArray = [0.24,0.12,0.06,0.03,0.01,0.005,0.001,0.0005,0.0001,0.00005,0.00001]\n"
   ]
  },
  {
   "cell_type": "markdown",
   "metadata": {},
   "source": [
    "### Define Other Scan Parameters"
   ]
  },
  {
   "cell_type": "code",
   "execution_count": 45,
   "metadata": {
    "scrolled": false
   },
   "outputs": [],
   "source": [
    "# Currently supported scan parameters: \n",
    "# Density, Resolution, TM_Mass, TM_vY, UVelY, Step_Factor, Scaling, Smoothing, Plummer_Radius\n",
    "\n",
    "ScanParams = ['Step_Factor','Resolution','Plummer_Radius']\n",
    "\n",
    "ValuePool = [[1],[64],SArray]"
   ]
  },
  {
   "cell_type": "code",
   "execution_count": 46,
   "metadata": {
    "scrolled": false
   },
   "outputs": [
    {
     "name": "stdout",
     "output_type": "stream",
     "text": [
      "PyUL2.ParamScan: Automated scan will be performed over 3 parameters.\n",
      "There will be 11 separate simulations. They are:\n",
      "[('Step_Factor', [1]), ('Resolution', [64]), ('Plummer_Radius', [0.24, 0.12, 0.06, 0.03, 0.01, 0.005, 0.001, 0.0005, 0.0001, 5e-05, 1e-05])]\n",
      "(Units are defined in the donor config file)\n",
      "Generated config file for PScan_F01_R01_P01\n",
      "Generated config file for PScan_F01_R01_P02\n",
      "Generated config file for PScan_F01_R01_P03\n",
      "Generated config file for PScan_F01_R01_P04\n",
      "Generated config file for PScan_F01_R01_P05\n",
      "Generated config file for PScan_F01_R01_P06\n",
      "Generated config file for PScan_F01_R01_P07\n",
      "Generated config file for PScan_F01_R01_P08\n",
      "Generated config file for PScan_F01_R01_P09\n",
      "Generated config file for PScan_F01_R01_P10\n",
      "Generated config file for PScan_F01_R01_P11\n"
     ]
    }
   ],
   "source": [
    "NRuns, save_options = PyUL.ParameterScanGenerator(baseConfig,ScanParams,\n",
    "                        ValuePool,batch_path)"
   ]
  },
  {
   "cell_type": "code",
   "execution_count": 47,
   "metadata": {
    "scrolled": false
   },
   "outputs": [
    {
     "name": "stdout",
     "output_type": "stream",
     "text": [
      "Build 2021 May 13\n",
      "Message: Simulation #11 out of 11\n",
      "PyUL2.Runtime: Simulation name is ./Batches/Pub1_FixL_64/PScan_F01_R01_P11\n",
      "PyUL2.Runtime: 64 Resolution for 40Myr\n",
      "PyUL2.Runtime: Simulation Started at 19/05/2021, 12:09:53.\n",
      "PyUL2.Runtime: Taking 108 ULDM steps\n",
      "\n",
      "\n",
      "[○○○○○○○○○○○◎●●●●●●●●●●●◎] 52% IO   Exp. Time: 19/05/2021, 12:09:59 (Prev.: 0.05s) [V=100.80 / Tg.V=100.08]\n",
      "Test mass has stopped at step 55!\n",
      "Integrated Time is 20.741Myr\n",
      "[◎○○○○○○○○○○○◎●●●●●●●●●●●] 53% IO   Exp. Time: 19/05/2021, 12:09:59 (Prev.: 0.05s) [V=111.24 / Tg.V=100.08]\n",
      "Simulation Concluded at step 56!\n",
      "\n",
      "\n",
      "PyUL2.Runtime: Run Complete. Time Elapsed (d:h:m:s): 0:0:0:3.01\n",
      "Simulation 11 finished.\n",
      "61.1s\n",
      "PyUL2.Export: Please copy this into analysis notebook\n",
      "\n",
      "batch_path = 'Batches/Pub1_FixL_64'\n"
     ]
    }
   ],
   "source": [
    "FullSim = True\n",
    "T0 = time.time()\n",
    "runs = os.listdir(batch_path)\n",
    "runs.sort()\n",
    "\n",
    "Run = 0\n",
    "\n",
    "for run_folder in runs:\n",
    "    \n",
    "    if os.path.isdir(f'{batch_path}/{run_folder}'):\n",
    "        \n",
    "        RunText = f'Simulation #{Run+1} out of {NRuns}'\n",
    "        PyUL.evolve(batch_path,run_folder,\n",
    "            NBodyInterp = FullSim, SelfGravity = FullSim, NBodyGravity = True, \n",
    "            Silent = True, Shift = True, AutoStop = True, AutoStop2 = False, Message = RunText)\n",
    "\n",
    "        Run +=1\n",
    "\n",
    "        print(f'Simulation {Run} finished.')\n",
    "        time.sleep(2)\n",
    "        \n",
    "import IPython\n",
    "IPython.display.Audio(\"Done.mp3\",autoplay=True)\n",
    "\n",
    "print(f\"{time.time()-T0:.3g}s\")\n",
    "printU('Please copy this into analysis notebook\\n\\nbatch_path = \\''+batch_path+'\\'','Export')"
   ]
  },
  {
   "cell_type": "code",
   "execution_count": 41,
   "metadata": {},
   "outputs": [
    {
     "name": "stdout",
     "output_type": "stream",
     "text": [
      "PyUL2.Export: Please copy this into analysis notebook\n",
      "\n",
      "batch_path = 'Batches/Pub1_FixL_128'\n"
     ]
    }
   ],
   "source": [
    "printU('Please copy this into analysis notebook\\n\\nbatch_path = \\''+batch_path+'\\'','Export')"
   ]
  },
  {
   "cell_type": "code",
   "execution_count": null,
   "metadata": {},
   "outputs": [],
   "source": []
  }
 ],
 "metadata": {
  "celltoolbar": "Initialization Cell",
  "hide_input": false,
  "kernelspec": {
   "display_name": "Python 3",
   "language": "python",
   "name": "python3"
  },
  "language_info": {
   "codemirror_mode": {
    "name": "ipython",
    "version": 3
   },
   "file_extension": ".py",
   "mimetype": "text/x-python",
   "name": "python",
   "nbconvert_exporter": "python",
   "pygments_lexer": "ipython3",
   "version": "3.6.9"
  },
  "latex_envs": {
   "LaTeX_envs_menu_present": true,
   "autoclose": true,
   "autocomplete": true,
   "bibliofile": "biblio.bib",
   "cite_by": "apalike",
   "current_citInitial": 1,
   "eqLabelWithNumbers": true,
   "eqNumInitial": 1,
   "hotkeys": {
    "equation": "Ctrl-E",
    "itemize": "Ctrl-I"
   },
   "labels_anchors": false,
   "latex_user_defs": false,
   "report_style_numbering": false,
   "user_envs_cfg": false
  },
  "notify_time": "30",
  "toc": {
   "base_numbering": 1,
   "nav_menu": {
    "height": "664px",
    "width": "417px"
   },
   "number_sections": true,
   "sideBar": true,
   "skip_h1_title": false,
   "title_cell": "Table of Contents",
   "title_sidebar": "Contents",
   "toc_cell": false,
   "toc_position": {
    "height": "calc(100% - 180px)",
    "left": "10px",
    "top": "150px",
    "width": "403px"
   },
   "toc_section_display": true,
   "toc_window_display": true
  },
  "varInspector": {
   "cols": {
    "lenName": 16,
    "lenType": 16,
    "lenVar": 40
   },
   "kernels_config": {
    "python": {
     "delete_cmd_postfix": "",
     "delete_cmd_prefix": "del ",
     "library": "var_list.py",
     "varRefreshCmd": "print(var_dic_list())"
    },
    "r": {
     "delete_cmd_postfix": ") ",
     "delete_cmd_prefix": "rm(",
     "library": "var_list.r",
     "varRefreshCmd": "cat(var_dic_list()) "
    }
   },
   "position": {
    "height": "691px",
    "left": "1549px",
    "right": "20px",
    "top": "120px",
    "width": "353px"
   },
   "types_to_exclude": [
    "module",
    "function",
    "builtin_function_or_method",
    "instance",
    "_Feature"
   ],
   "window_display": false
  }
 },
 "nbformat": 4,
 "nbformat_minor": 4
}
