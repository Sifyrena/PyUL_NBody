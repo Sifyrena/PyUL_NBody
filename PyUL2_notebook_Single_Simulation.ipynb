{
 "cells": [
  {
   "cell_type": "markdown",
   "metadata": {
    "slideshow": {
     "slide_type": "slide"
    }
   },
   "source": [
    "<a id='init'></a>\n",
    "# Initialization and Program Settings"
   ]
  },
  {
   "cell_type": "markdown",
   "metadata": {},
   "source": [
    "## Loading Packages"
   ]
  },
  {
   "cell_type": "code",
   "execution_count": null,
   "metadata": {
    "ExecuteTime": {
     "end_time": "2021-03-02T10:31:29.194567Z",
     "start_time": "2021-03-02T10:31:29.106737Z"
    },
    "hide_input": false,
    "init_cell": true,
    "scrolled": true
   },
   "outputs": [],
   "source": [
    "###### Do not touch\n",
    "\n",
    "import PyUltraLight2 as PyUL\n",
    "\n",
    "import IPython\n",
    "import os\n",
    "import time\n",
    "from IPython.core.display import clear_output, display, Video\n",
    "\n",
    "from numpy import sqrt, exp, log, log10, sin, cos, tan, pi\n",
    "\n",
    "%reload_ext autoreload\n",
    "%autoreload 2\n",
    "\n",
    "# Useful Aux Functions\n",
    "ToCode = PyUL.convert\n",
    "ToPhys = PyUL.convert_back\n",
    "CB = PyUL.convert_between\n",
    "printU = PyUL.printU"
   ]
  },
  {
   "cell_type": "markdown",
   "metadata": {},
   "source": [
    "\n",
    "<a id='run'></a>\n",
    "# Go\n",
    "\n",
    "This creates a timestamped folder using the current settings, and the integrator stores all requested files in it too."
   ]
  },
  {
   "cell_type": "code",
   "execution_count": null,
   "metadata": {},
   "outputs": [],
   "source": [
    "save_path = '2021_Paper1'\n",
    "\n",
    "run_folder = PyUL.Runs(save_path, Automatic = False)"
   ]
  },
  {
   "cell_type": "code",
   "execution_count": null,
   "metadata": {},
   "outputs": [],
   "source": [
    "PyUL.evolve(save_path,\n",
    "            run_folder, \n",
    "            EdgeClear = False,      # Reflexive Boundary Condition (Half Baked)\n",
    "            DumpInit = False,       # Dump Initial Wavefunction\n",
    "            DumpFinal = False,      # Dump Final Wavefunction\n",
    "            UseInit = False,        # Use Initial Wavefunction (Specify in InitPath)\n",
    "            IsoP = False,           # Zero Padded Potential\n",
    "            UseDispSponge = False,  # Dispersive Boundary Condition\n",
    "            SelfGravity = True,\n",
    "            NBodyInterp = True,\n",
    "            NBodyGravity = True,\n",
    "            Shift = False,          # Shift NBody Location Between Grids (For QW)\n",
    "            Simpson = False,        # Not Used.\n",
    "            Silent = False,         # Quiet Mode\n",
    "            AutoStop = False,       # Stop with BH\n",
    "            AutoStop2 = False,      # Stop with Gravitational Field Strength\n",
    "            WellThreshold = 100,    # Stop Condition\n",
    "            InitPath = '',          # Everything except for the .npy file extension.\n",
    "            InitWeight = 1,)\n",
    "\n",
    "import IPython\n",
    "IPython.display.Audio(\"Done.mp3\",autoplay=True)"
   ]
  },
  {
   "cell_type": "code",
   "execution_count": null,
   "metadata": {},
   "outputs": [],
   "source": []
  }
 ],
 "metadata": {
  "celltoolbar": "Initialization Cell",
  "hide_input": false,
  "kernelspec": {
   "display_name": "Python 3",
   "language": "python",
   "name": "python3"
  },
  "language_info": {
   "codemirror_mode": {
    "name": "ipython",
    "version": 3
   },
   "file_extension": ".py",
   "mimetype": "text/x-python",
   "name": "python",
   "nbconvert_exporter": "python",
   "pygments_lexer": "ipython3",
   "version": "3.6.9"
  },
  "latex_envs": {
   "LaTeX_envs_menu_present": true,
   "autoclose": true,
   "autocomplete": true,
   "bibliofile": "biblio.bib",
   "cite_by": "apalike",
   "current_citInitial": 1,
   "eqLabelWithNumbers": true,
   "eqNumInitial": 1,
   "hotkeys": {
    "equation": "Ctrl-E",
    "itemize": "Ctrl-I"
   },
   "labels_anchors": false,
   "latex_user_defs": false,
   "report_style_numbering": false,
   "user_envs_cfg": false
  },
  "notify_time": "30",
  "toc": {
   "base_numbering": 1,
   "nav_menu": {
    "height": "664px",
    "width": "417px"
   },
   "number_sections": true,
   "sideBar": true,
   "skip_h1_title": false,
   "title_cell": "Table of Contents",
   "title_sidebar": "Contents",
   "toc_cell": false,
   "toc_position": {
    "height": "calc(100% - 180px)",
    "left": "10px",
    "top": "150px",
    "width": "403px"
   },
   "toc_section_display": true,
   "toc_window_display": true
  },
  "varInspector": {
   "cols": {
    "lenName": 16,
    "lenType": 16,
    "lenVar": 40
   },
   "kernels_config": {
    "python": {
     "delete_cmd_postfix": "",
     "delete_cmd_prefix": "del ",
     "library": "var_list.py",
     "varRefreshCmd": "print(var_dic_list())"
    },
    "r": {
     "delete_cmd_postfix": ") ",
     "delete_cmd_prefix": "rm(",
     "library": "var_list.r",
     "varRefreshCmd": "cat(var_dic_list()) "
    }
   },
   "position": {
    "height": "691px",
    "left": "1549px",
    "right": "20px",
    "top": "120px",
    "width": "353px"
   },
   "types_to_exclude": [
    "module",
    "function",
    "builtin_function_or_method",
    "instance",
    "_Feature"
   ],
   "window_display": false
  }
 },
 "nbformat": 4,
 "nbformat_minor": 4
}
