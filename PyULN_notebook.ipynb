{
 "cells": [
  {
   "cell_type": "markdown",
   "metadata": {},
   "source": [
    "<a id='root'></a>\n",
    "![Project Logo](Project_Logo.pdf)\n",
    "\n",
    "PyUltraLight NBody\n",
    "\n",
    "Build 0.30 (18 Feb 2021)\n",
    "\n",
    "* Y. Wang: [yourong.f.wang@auckland.ac.nz](mailto:yourong.f.wang@auckland.ac.nz)\n",
    "* J. Zagorac\n",
    "* R. Easther\n",
    "* N. Guo\n",
    "\n",
    "***Designed for PyULN9. Requires ULHelper 6 or later.***\n",
    "***\n",
    "\n",
    "## Document's Intended Workflows\n",
    "\n",
    "### [Friction](#DYNF)\n",
    "\n",
    "### New Simulation\n",
    "[Initialize](#init) -> [Simulation Parameters](#ULSettings) -> [Scenarios](#demos) -> [Simulation](#run) (-> [Data Loading](#load) -> [Analysis](#plot))\n",
    "\n",
    "### <font color = grey>Re-Running a Previous Experiment</font>\n",
    "[Initialize](#init) -> [Data Loading](#load) -> *Modifying its Configs, if Necessary* -> [Simulation](#run)\n",
    "\n",
    "### <font color = grey>Analyzing Old Results</font>\n",
    "[Initialize](#init) -> [Data Loading](#load) -> [Analysis](#plot)\n",
    "\n",
    "\n",
    "\n",
    "__NOTE:__ When you load the output files of a run, the configuration and initial conditions associated with that run will also be loaded into memory."
   ]
  },
  {
   "cell_type": "markdown",
   "metadata": {
    "slideshow": {
     "slide_type": "slide"
    }
   },
   "source": [
    "<a id='init'></a>\n",
    "# Initialization and Program Settings\n",
    "\n",
    "## Loading Packages\n",
    "\n"
   ]
  },
  {
   "cell_type": "code",
   "execution_count": null,
   "metadata": {
    "ExecuteTime": {
     "start_time": "2021-03-01T10:26:13.833Z"
    },
    "hide_input": false,
    "init_cell": true,
    "scrolled": true
   },
   "outputs": [],
   "source": [
    "###### Do not touch\n",
    "MinVersion = 12\n",
    "MinHVersion = 6\n",
    "\n",
    "import PyUltraLight_NBody as PyUL\n",
    "import PyUL_Helper as PyULH\n",
    "\n",
    "if (PyULH.S_version < MinHVersion) or (PyUL.S_version < MinVersion):\n",
    "    raise RuntimeError(\"You need the latest integrator!\")\n",
    "\n",
    "import numpy as np\n",
    "np.set_printoptions(suppress=True)\n",
    "\n",
    "import math\n",
    "\n",
    "import numba\n",
    "import numexpr as ne\n",
    "\n",
    "import pyfftw\n",
    "import os\n",
    "import sys\n",
    "import multiprocessing\n",
    "import numpy\n",
    "\n",
    "from matplotlib import cm\n",
    "from mpl_toolkits.mplot3d import Axes3D\n",
    "import matplotlib as mpl\n",
    "import matplotlib.pyplot as plt\n",
    "import matplotlib.gridspec\n",
    "import matplotlib.animation\n",
    "from matplotlib.offsetbox import AnchoredText\n",
    "\n",
    "import scipy.fft\n",
    "\n",
    "import h5py\n",
    "from IPython.core.display import clear_output, display\n",
    "\n",
    "%reload_ext autoreload\n",
    "%autoreload 2\n",
    "%matplotlib inline\n",
    "\n",
    "print(\"==============================================\")\n",
    "print(f\"PyULN: Axion Mass Used is {PyUL.axion_E} eV. This gives rise to:\\n\")\n",
    "\n",
    "print(f\"\\\n",
    "1 Mass Unit    = {PyUL.mass_unit:.5g} kg = {PyUL.convert_back(1,'solar_masses','m'):.4g} MSol\\n\\\n",
    "1 Length Unit  = {PyUL.length_unit:.5g} m  = {PyUL.convert_back(1,'kpc','l'):.4g} kpc\\n\\\n",
    "1 Time Unit    = {PyUL.time_unit:.5g} s  = {PyUL.convert_back(1,'Myr','t')/1000:.4g} Gyr\\n\\n\\\n",
    "1 Density Unit = {PyUL.mass_unit/PyUL.length_unit**3:.5g} kg/m^3 = {PyUL.mass_unit/PyUL.length_unit**3/PyUL.CritDens} Critical Density\\n\\\n",
    "1 Speed Unit   = {PyUL.length_unit/PyUL.time_unit:.5g} m/s\\n\\\n",
    "1 Energy Unit  = {PyUL.mass_unit*PyUL.length_unit**2/PyUL.time_unit**2:.5g} J\\\n",
    "\")"
   ]
  },
  {
   "cell_type": "markdown",
   "metadata": {
    "hide_input": true
   },
   "source": [
    "## Visualization Preferences\n",
    "Initialize the colors of black holes, contours, and energy lines."
   ]
  },
  {
   "cell_type": "code",
   "execution_count": null,
   "metadata": {
    "ExecuteTime": {
     "start_time": "2021-03-01T10:26:13.834Z"
    },
    "hide_input": false,
    "init_cell": true
   },
   "outputs": [],
   "source": [
    "Palette = 'magma'\n",
    "mpl.style.use('seaborn')\n",
    "########################################\n",
    "## Defines Visualization Colors, v0.25\n",
    "# BH Trajectory\n",
    "\n",
    "Colors = np.array([[209,17,65],[0,177,89],[0,174,219],[243,119,53],[255,196,37]])/255\n",
    "\n",
    "# NBody\n",
    "ENStyle = '--'\n",
    "ENColor = '#cfaf8a' # NBody\n",
    "\n",
    "EKColor = '#cf838a'\n",
    "EPColor = '#8acf99'\n",
    "\n",
    "# ULDM\n",
    "EUStyle = '-.'\n",
    "EUColor = '#8d4b66' # ULDM\n",
    "\n",
    "EQColor = '#4d7e4e' # Kinetic \n",
    "ERColor = '#545b7e' # Self-Interaction\n",
    "EGColor = '#69567c' # Particle Potential\n",
    "\n",
    "# Totals\n",
    "ETStyle = '-'\n",
    "ETColor = '#272727'\n",
    "\n",
    "# Auxiliary \n",
    "HelperStyle = 'k.'"
   ]
  },
  {
   "cell_type": "markdown",
   "metadata": {},
   "source": [
    "## Folder and Space Management:"
   ]
  },
  {
   "cell_type": "code",
   "execution_count": null,
   "metadata": {
    "ExecuteTime": {
     "start_time": "2021-03-01T10:26:13.836Z"
    },
    "init_cell": true,
    "scrolled": true
   },
   "outputs": [],
   "source": [
    "save_path = '2021Runs'  # Set Output Directory"
   ]
  },
  {
   "cell_type": "code",
   "execution_count": null,
   "metadata": {
    "ExecuteTime": {
     "end_time": "2021-03-01T09:06:40.224786Z",
     "start_time": "2021-03-01T09:06:38.301203Z"
    }
   },
   "outputs": [],
   "source": [
    "PyULH.DSManagement(save_path)"
   ]
  },
  {
   "cell_type": "markdown",
   "metadata": {},
   "source": [
    "[**<font color=blue>Back to the Top</font>**](#root)\n",
    "<a id='ULSettings'></a>\n",
    "# PyULN Parameters"
   ]
  },
  {
   "cell_type": "code",
   "execution_count": null,
   "metadata": {
    "ExecuteTime": {
     "start_time": "2021-03-01T10:26:13.837Z"
    },
    "init_cell": true,
    "scrolled": true
   },
   "outputs": [],
   "source": [
    "##================================================================\n",
    "# Space Settings\n",
    "resol = 128\n",
    "\n",
    "# Time Settings\n",
    "start_time = 0. # Should be given in the same units as duration. \n",
    "step_factor = 1 # Change this to a larger number if velocities are sufficiently low that constraint on timestep can be relaxed. \n",
    "\n",
    "# Snapshot Settings A\n",
    "save_number = 20\n",
    "# Recommended Save Number Cap: 120\n",
    "# Depending on resolution, this could require significant disk space.\n",
    "\n",
    "# Runge-Kutta Steps for NBody\n",
    "NS = 8 # 1,4,8,16,... NBody Integration Steps per ULD Step. 1 -> Euler\n",
    "\n",
    "#Formats to save\n",
    "hdf5 = False\n",
    "npz = False\n",
    "npy = True\n",
    "\n",
    "#Data to save\n",
    "#0\n",
    "save_rho = False # Saves density data for entire 3D simulation grid\n",
    "#1\n",
    "save_psi = False # Saves ULD Phase Data in plane\n",
    "#2\n",
    "save_plane = True # Saves density data for plane z = 0\n",
    "#3\n",
    "save_energies = True # Saves integrated gravitational, kinetic and total energies as lists\n",
    "#4\n",
    "save_line = False # Saves density data for line y = 0, z = 0. Useful for examining intereference patterns. \n",
    "#5\n",
    "save_testmass = True # Saves trajectory and 3-velocity of a test mass thrown into the system.   \n",
    "#6\n",
    "save_phi = False\n",
    "#7\n",
    "save_phi_plane = False\n",
    "#8\n",
    "save_gradients = True\n",
    "#9\n",
    "save_phase_plane = True\n",
    "\n",
    "save_options = [save_rho,save_psi,save_plane,save_energies,save_line,save_testmass,save_phi,save_phi_plane,save_gradients,save_phase_plane]\n",
    "\n",
    "SaveSizeEstimate = PyULH.SSEst(save_options,save_number,resol)\n",
    "\n",
    "print('Estimated Save Size (GiB): %.02f' % SaveSizeEstimate )\n",
    "\n",
    "#================================================================\n",
    "# Do not touch\n",
    "resol = (scipy.fft.next_fast_len(resol)) # Uses a nearby and faster resolution.\n",
    "while resol%2:\n",
    "    resol = scipy.fft.next_fast_len(resol+1)\n",
    "    print(resol)\n",
    "num_threads = multiprocessing.cpu_count()\n",
    "print(\"Available CPU threads for this run: \",num_threads)"
   ]
  },
  {
   "cell_type": "markdown",
   "metadata": {},
   "source": [
    "[**<font color=blue>Back to the Top</font>**](#root)\n",
    "<a id='demos'></a>\n",
    "# Scenarios\n",
    "\n",
    "## Brief Introduction\n",
    "Each scenario has an extra set of parameters for you to tweak. Execute only one at a time.\n",
    "\n",
    "\n",
    "### [Elliptical Orbit](#demo_elli)\n",
    "(Code Units Only)\n",
    "A Keplerian model of two objects orbiting each other. \n",
    "\n",
    "Available parameters:\n",
    " \n",
    "* *m1,m2*: mass of the two objects.\n",
    "* *Ratio1,Ratio2*: mBH/mTotal for objects 1 and 2.\n",
    "* *Aphelion*: Farthest Distance between the objects. \n",
    "* *Eccentricity*: Orbit Eccentricity\n",
    "\n",
    "**NOTE**: Simulations always start from Aphelion.\n",
    "\n",
    "\n",
    "\n",
    "### [Scattering](#demo_scatter)\n",
    "(Code Units Only)\n",
    "A simple scattering model where the centre of mass, in theory, stays at origin.\n",
    "\n",
    "Available parameters:\n",
    " \n",
    "* *Uniform*: If yes, *Ratio* will be ignored and the objects are black holes in a uniform ULD Backgroud.\n",
    "* *m1,m2*: mass of the two objects.\n",
    "* *Ratio1,Ratio2*: mBH/mTotal for objects 1 and 2.\n",
    "* *Separation*: Initial separation along axis of travel. \n",
    "* *vRel0*: Initial relative speed along axis of travel. \n",
    "* *b*: Impact parameter\n",
    "\n",
    "**NOTE**: Make sure you leave enough space on both ends of the box.\n",
    "\n",
    "\n",
    "### [Tangyuan](#demo_tya)\n",
    "(Code Units Only)\n",
    "A simple and delicate 4-Body choreography, used premarily to study the numerical stability of integrators.\n",
    "\n",
    "Available parameters:\n",
    "\n",
    "* *m*: mass of the two objects.\n",
    "* *r*: Radius of orbit (if unperturbed).\n",
    "* *Ratio*: mBH/mTotal.\n",
    "* *vM*: Speed change factor. vM = 1 to make the masses orbit in perfect circle\n",
    "\n",
    "\n",
    "### [Mergers](#demo_QM)\n",
    "(Code Units Only)\n",
    "Specify an arbitrary number of random embedded solitons and watch as they merge.\n",
    "\n",
    "Available parameters:\n",
    "\n",
    "* *NEmbed*: number of embeds.\n",
    "* *Seed*: Seed used for random generation.\n",
    "* *RatioMin(Max)*: Ratio range.\n",
    "* *MassMin(Max)*: System mass range.\n",
    "\n",
    "\n",
    "\n",
    "### [Build Your Own](#demo_byo)\n",
    "\n",
    "This is where science lives.\n",
    "\n",
    "\n",
    "## How to create new objects.\n",
    "\n",
    "* **Particle Config: ** \n",
    "```python\n",
    "[mass,[position],[velocity]]\n",
    "```\n",
    "\n",
    "* **Soliton Config: **\n",
    "```python\n",
    "[mass,[position],[velocity],phase]\n",
    "```\n",
    "\n",
    "* **Embedded Soliton Config: **\n",
    "```python\n",
    "[total_mass,[position],[velocity],mBH/total_mass,phase]\n",
    "```\n",
    "**NOTE**: Embedded solitons inherit the soliton units setting."
   ]
  },
  {
   "cell_type": "markdown",
   "metadata": {},
   "source": [
    "<a id='demo_elli'></a>\n",
    "## Example 1: 2Body Elliptical Orbit"
   ]
  },
  {
   "cell_type": "code",
   "execution_count": null,
   "metadata": {
    "ExecuteTime": {
     "end_time": "2021-02-18T06:38:25.987130Z",
     "start_time": "2021-02-18T06:38:25.924033Z"
    }
   },
   "outputs": [],
   "source": [
    "length = 0.01 # 1 code unit is ~38 kpc x (1e-22/m_a)^0.5\n",
    "duration = 1e-5 #1 code unit is ~70 Gyr (independent of axion mass assumption)\n",
    "\n",
    "step_factor = 1e3\n",
    "\n",
    "length_units = '' \n",
    "duration_units = '' \n",
    "s_mass_unit = ''\n",
    "s_position_unit = '' \n",
    "s_velocity_unit = '' \n",
    "m_mass_unit = ''\n",
    "m_position_unit = ''\n",
    "m_velocity_unit = ''\n",
    "\n",
    "m1 = 120 # User Input\n",
    "Ratio1 = 1\n",
    "\n",
    "m2 = 90 # User Input\n",
    "Ratio2 = 1\n",
    "\n",
    "Aphelion = 3.5e-3 # User Input\n",
    "\n",
    "e = 0.33 # Eccentricity. 0 -> Circle. 1 -> Parabola. \n",
    "\n",
    "#================================================================\n",
    "# Do not touch\n",
    "\n",
    "M = m1 + m2\n",
    "xC = Aphelion\n",
    "\n",
    "## Simulation always starts from Aphelion, in Centre-of-mass Frame\n",
    "\n",
    "x2 = xC * m1/M # Bigger Mass, Smaller Initial Position\n",
    "x1 = xC - x2\n",
    "\n",
    "a1 = x1 / (1+e) # Semimajor Axis from Aphelion\n",
    "a2 = x2 / (1+e)\n",
    "\n",
    "xPeri1 = a1*(1-e)\n",
    "xPeri2 = a2*(1-e)\n",
    "\n",
    "## Initial Velocity is purely tangential.\n",
    "\n",
    "yDot1 = np.sqrt(m2*x1/xC**2*(1-e)/(1+e))\n",
    "yDot2 = np.sqrt(m1*x2/xC**2*(1-e)/(1+e))\n",
    "\n",
    "particles = []\n",
    "solitons = []\n",
    "\n",
    "Halo1 = [m1, [x1,0,0], [0,yDot1,0],Ratio1,0]\n",
    "Halo2 = [m2, [-x2,0,0], [0,-yDot2,0],Ratio2,0]\n",
    "\n",
    "embeds = [Halo1,Halo2]\n",
    "\n",
    "########### MODIFIER PARAMETERS\n",
    "# Removes all ULDM Structures defined elsewhere in the IV and replaces them with a uniform wavefunction \n",
    "# with given probability amplitude (code unit).\n",
    "\n",
    "Uniform = True\n",
    "Density = 4e10\n",
    "\n",
    "\n",
    "Avg = False # Whether we average the black hole local field evaluation. \n",
    "#False: Only evaluate Locally. \n",
    "#True: 6 Nearby Evaluators.\n",
    "\n",
    "AvgDist = 1.42 # How far away the antennae are compared to grid length.\n",
    "CentreWeight = 1 # The relative weight of central point to the antennae.\n",
    "\n",
    "NCV, NCW = PyULH.PInit(Avg,AvgDist,CentreWeight)  \n",
    "\n",
    "if not Uniform:\n",
    "    print('The List of Soliton Conditions is:')\n",
    "    print(solitons)\n",
    "    \n",
    "print('The List of BH Conditions is:')  \n",
    "print(particles)\n",
    "\n",
    "print('The List of Embedded Conditions is:')  \n",
    "print(embeds)"
   ]
  },
  {
   "cell_type": "markdown",
   "metadata": {},
   "source": [
    "[**<font color=green>Go to Execution</font>**](#run)\n",
    "<a id='demo_scatter'></a>\n",
    "## Example 2: 2Body Scattering"
   ]
  },
  {
   "cell_type": "code",
   "execution_count": null,
   "metadata": {
    "ExecuteTime": {
     "end_time": "2021-03-01T10:15:12.827167Z",
     "start_time": "2021-03-01T10:15:12.670553Z"
    }
   },
   "outputs": [],
   "source": [
    "length_units = 'kpc' \n",
    "duration_units = 'Myr' \n",
    "s_mass_unit = 'M_solar_masses'\n",
    "s_position_unit = 'kpc' \n",
    "s_velocity_unit = 'm/s' \n",
    "\n",
    "length = 10 #\n",
    "duration = 70 #\n",
    "\n",
    "step_factor = 1 # Large number to save sanity.\n",
    "\n",
    "Composite = False # if False, Particle 1 is the BH, and Particle 2 is the Soliton.\n",
    "\n",
    "m1 = 800 # User Input\n",
    "m2 = 800 # User Input\n",
    "\n",
    "Phase = 0 # Multiples of pi\n",
    "\n",
    "b = 0.001 # Impact Parameter\n",
    "\n",
    "vRel0 = 7e3# Initial Speed along Collision Axis\n",
    "\n",
    "Separation = 3.5\n",
    "\n",
    "\n",
    "# Do not touch\n",
    "\n",
    "Uniform = False # if True, then there won't be solitons.\n",
    "Density = 0\n",
    "density_unit = '' # Accepted units: 'MSol/pc3', 'kg/m3', and '' for dimensionless units\n",
    "\n",
    "m_mass_unit = s_mass_unit\n",
    "m_position_unit = s_position_unit\n",
    "m_velocity_unit = s_velocity_unit\n",
    "\n",
    "if Composite:\n",
    "    Ratio1 = 0.15 # How much of the calculated mass is BH. The rest is ULDM. Tentative upper limit: 0.15.\n",
    "    Ratio2 = 0.01\n",
    "\n",
    "#================================================================\n",
    "# Do not touch\n",
    "\n",
    "# Unit 1\n",
    "y1 = Separation*m2/(m1+m2)\n",
    "x1 = b*m2/(m1+m2)\n",
    "yDot1 = vRel0*m2/(m1+m2)\n",
    "\n",
    "\n",
    "# Unit 2\n",
    "y2 = Separation*m1/(m1+m2)\n",
    "x2 = b*m1/(m1+m2)\n",
    "yDot2 = vRel0*m1/(m1+m2)\n",
    "\n",
    "\n",
    "particles = []\n",
    "solitons = []\n",
    "embeds = [] \n",
    "\n",
    "if Composite:\n",
    "    Composite1 = [m1,[x1,y1,0],[0,-yDot1,0],Ratio1,Phase*np.pi/2]\n",
    "    Composite2 = [m2,[-x2,-y2,0],[0,yDot2,0],Ratio2,-Phase*np.pi/2]\n",
    "    embeds.append(Composite1,Composite2)\n",
    "    \n",
    "else:\n",
    "    BH = [m1,[x1,y1,0],[0,-yDot1,0]]\n",
    "    Soliton = [m2,[-x2,-y2,0],[0,yDot2,0],Phase*np.pi]\n",
    "    \n",
    "    particles.append(BH)\n",
    "    solitons.append(Soliton)\n",
    "\n",
    "Avg = False # Whether we average the black hole local field evaluation. \n",
    "#False: Only evaluate Locally. \n",
    "#True: 6 Nearby Evaluators.\n",
    "\n",
    "AvgDist = 1 # How far away the antennae are compared to grid length.\n",
    "CentreWeight = 1 # The relative weight of central point to the antennae.\n",
    "\n",
    "NCV, NCW = PyULH.PInit(Avg,AvgDist,CentreWeight) \n",
    "\n",
    "print(particles,solitons,embeds,sep='\\n\\n')"
   ]
  },
  {
   "cell_type": "markdown",
   "metadata": {},
   "source": [
    "[**<font color=green>Go to Execution</font>**](#run)\n",
    "<a id='demo_tya'></a>\n",
    "## Example 3: 4Body Tangyuan"
   ]
  },
  {
   "cell_type": "code",
   "execution_count": null,
   "metadata": {
    "ExecuteTime": {
     "end_time": "2021-03-01T10:08:25.091592Z",
     "start_time": "2021-03-01T10:08:24.911495Z"
    }
   },
   "outputs": [],
   "source": [
    "resol = 192\n",
    "length = 16# 1 code unit is ~38 kpc x (1e-22/m_a)^0.5\n",
    "duration = 0.5 #1 code unit is ~70 Gyr (independent of axion mass assumption)\n",
    "\n",
    "length_units = '' \n",
    "duration_units = '' \n",
    "s_mass_unit = ''\n",
    "s_position_unit = '' \n",
    "s_velocity_unit = '' \n",
    "m_mass_unit = ''\n",
    "m_position_unit = ''\n",
    "m_velocity_unit = ''\n",
    "\n",
    "# Density, if Uniform Background Flag is Set to 'True'\n",
    "# 1 Code Density Unit is equal the universe's critical matter density, 2.67e-27 kg/m^3.\n",
    "density_unit = '' # Accepted units: 'MSol/pc3', 'kg/m3', and '' for dimensionless units\n",
    "\n",
    "\n",
    "r = 3\n",
    "\n",
    "m = 15\n",
    "\n",
    "Ratio = 0.1\n",
    "\n",
    "v = np.sqrt(m/r*(1+2*np.sqrt(2)))/2\n",
    "\n",
    "vM = 1 # Change Magn. \n",
    "\n",
    "#================================================================\n",
    "# Do not touch\n",
    "\n",
    "v = vM * v\n",
    "print(\"The initial tangential speed is %.4f \\n\" % (v))\n",
    "\n",
    "Halo1 = [m,[r,0,0],[0,v,0],Ratio,0]\n",
    "Halo2 = [m,[0,r,0],[-v,0,0],Ratio,0]\n",
    "Halo3 = [m,[-r,0,0],[0,-v,0],Ratio,0]\n",
    "Halo4 = [m,[0,-r,0],[v,0,0],Ratio,0]\n",
    "\n",
    "embeds = [Halo1, Halo2, Halo3, Halo4]\n",
    "#Soliton parameters are mass, position, velocity and phase (radians)\n",
    "\n",
    "solitons = []\n",
    "particles = [[16,[-3,-3,0],[5,5,0]]]\n",
    "\n",
    "Uniform = False\n",
    "Density = 4\n",
    "\n",
    "if Uniform:\n",
    "    embeds = []\n",
    "    BH1 = [m,[r,0,0],[0,v,0]]\n",
    "    BH2 = [m,[0,r,0],[-v,0,0]]\n",
    "    BH3 = [m,[-r,0,0],[0,-v,0]]\n",
    "    BH4 = [m,[0,-r,0],[v,0,0]]\n",
    "    particles = [BH1, BH2, BH3, BH4]\n",
    "\n",
    "Avg = False # Whether we average the black hole local field evaluation. \n",
    "#False: Only evaluate Locally. \n",
    "#True: 6 Nearby Evaluators.\n",
    "\n",
    "AvgDist = 1 # How far away the antennae are compared to grid length.\n",
    "CentreWeight = 1 # The relative weight of central point to the antennae.\n",
    "\n",
    "NCV, NCW = PyULH.PInit(Avg,AvgDist,CentreWeight)  "
   ]
  },
  {
   "cell_type": "markdown",
   "metadata": {},
   "source": [
    "[**<font color=green>Go to Execution</font>**](#run)\n",
    "<a id='demo_QM'></a>\n",
    "## Example 4: Merger From Rest"
   ]
  },
  {
   "cell_type": "code",
   "execution_count": null,
   "metadata": {
    "ExecuteTime": {
     "end_time": "2021-03-01T08:36:58.213407Z",
     "start_time": "2021-03-01T08:36:58.121438Z"
    }
   },
   "outputs": [],
   "source": [
    "resol = 192\n",
    "\n",
    "length = 12 # 1 code unit is ~38 kpc x (1e-22/m_a)^0.5\n",
    "duration = 3.5 #1 code unit is ~70 Gyr (independent of axion mass assumption)\n",
    "\n",
    "SimL = length/1.6\n",
    "\n",
    "NEmbed = 5\n",
    "\n",
    "RandomSeed = 950209\n",
    "\n",
    "###\n",
    "np.random.seed(RandomSeed)\n",
    "\n",
    "length_units = '' \n",
    "duration_units = '' \n",
    "s_mass_unit = ''\n",
    "s_position_unit = '' \n",
    "s_velocity_unit = '' \n",
    "m_mass_unit = ''\n",
    "m_position_unit = ''\n",
    "m_velocity_unit = ''\n",
    "\n",
    "MassMax = 12 #\n",
    "MassMin = 9\n",
    "\n",
    "RatioMax = 0.1\n",
    "RatioMin = 0.004\n",
    "\n",
    "\n",
    "#================================================================\n",
    "# Do not touch\n",
    "\n",
    "embeds = []\n",
    "\n",
    "for i in range(NEmbed):\n",
    "    Location = ([(np.random.random()-1/2)*SimL/2,(np.random.random()-1/2)*SimL/2,0])\n",
    "    \n",
    "    Velocity = [0,0,0]\n",
    "    \n",
    "    Ratio = RatioMax\n",
    "    \n",
    "    Mass = MassMin + np.random.random()*(MassMax-MassMin)\n",
    "    \n",
    "    Phase = np.pi*(np.random.random())/2\n",
    "    \n",
    "    embeds.append([Mass,Location,Velocity,Ratio,Phase])\n",
    "\n",
    "\n",
    "Avg = False # Whether we average the black hole local field evaluation. \n",
    "#False: Only evaluate Locally. \n",
    "#True: 6 Nearby Evaluators.\n",
    "\n",
    "AvgDist = 1 # How far away the antennae are compared to grid length.\n",
    "CentreWeight = 1 # The relative weight of central point to the antennae.\n",
    "\n",
    "NCV, NCW = PyULH.PInit(Avg,AvgDist,CentreWeight) \n",
    "solitons = []\n",
    "particles = []\n",
    "Uniform = False\n",
    "Density = 0\n",
    "density_unit = '' # Accepted units: 'MSol/pc3', 'kg/m3', and '' for dimensionless units\n",
    "print(*embeds, sep = \"\\n\")"
   ]
  },
  {
   "cell_type": "markdown",
   "metadata": {},
   "source": [
    "[**<font color=green>Go to Execution</font>**](#run)\n",
    "<a id='demo_byo'></a>\n",
    "## Dynamical Friction"
   ]
  },
  {
   "cell_type": "code",
   "execution_count": null,
   "metadata": {
    "ExecuteTime": {
     "end_time": "2021-03-01T10:24:28.595777Z",
     "start_time": "2021-03-01T10:24:28.449419Z"
    }
   },
   "outputs": [],
   "source": [
    "resol = 192\n",
    "# Space Settings\n",
    "length = 1 # 1 code unit is ~38 kpc x (1e-22/m_a)^0.5\n",
    "length_units = 'kpc'  # Accepted units: 'm', 'km', 'pc', 'kpc', 'Mpc', 'ly', and '' for dimensionless units.\n",
    "\n",
    "# Time Settings\n",
    "duration = 1e-5 #1 code unit is ~70 Gyr (independent of axion mass assumption)\n",
    "duration_units = ''  # Accepted units: 's', 'yr', 'kyr', 'Myr', and '' for dimensionless units\n",
    "\n",
    "step_factor = 100\n",
    "\n",
    "# Recommended Save Number Cap: 120\n",
    "# Depending on resolution, this could require significant disk space.\n",
    "\n",
    "##================================================================\n",
    "## Other Flags\n",
    "# Set units for soliton parameters\n",
    "s_mass_unit = ''     #Accepted units: 'kg', 'solar_masses', 'M_solar_masses', and '' for dimensionless units\n",
    "s_position_unit = '' #Accepted units: 'm', 'km', 'pc', 'kpc', 'Mpc', 'ly', and '' for dimensionless units\n",
    "s_velocity_unit = '' #Accepted units: 'm/s', 'km/s', 'km/h', 'c', and '' for dimensionless units\n",
    "\n",
    "# Rules ditto.\n",
    "m_mass_unit = 'M_solar_masses'\n",
    "m_position_unit = 'kpc'\n",
    "m_velocity_unit = 'm/s'\n",
    "\n",
    "# Density, if Uniform Background Flag is Set to 'True'\n",
    "# 1 Code Density Unit is equal the universe's critical matter density, 2.67e-27 kg/m^3.\n",
    "density_unit = '' # Accepted units: 'MSol/pc3', 'kg/m3', and '' for dimensionless units\n",
    "\n",
    "##================================================================\n",
    "\n",
    "mBH1 = 7\n",
    "\n",
    "BH1 = [mBH1,[0,-0.03,0],[0,1e5,0]]\n",
    "\n",
    "particles = [BH1]\n",
    "\n",
    "soliton1=[6500,[0,0,0],[0,0,0],-0]\n",
    "\n",
    "solitons = [soliton1]\n",
    "\n",
    "embeds = []\n",
    "\n",
    "########### MODIFIER PARAMETERS\n",
    "\n",
    "# Removes all ULDM Structures defined elsewhere in the IV and replaces them with a uniform wavefunction \n",
    "# with given probability amplitude (code unit).\n",
    "\n",
    "Uniform = True\n",
    "Density = 4e10\n",
    "#Density = 0\n",
    "\n",
    "Avg = False # Whether we average the black hole local field evaluation. \n",
    "#False: Only evaluate Locally. \n",
    "#True: 6 Nearby Evaluators.\n",
    "\n",
    "AvgDist = 1.42 # How far away the antennae are compared to grid length.\n",
    "CentreWeight = 1 # The relative weight of central point to the antennae.\n",
    "\n",
    "NCV, NCW = PyULH.PInit(Avg,AvgDist,CentreWeight)  \n",
    "\n",
    "if not Uniform:\n",
    "    print('The List of Soliton Conditions is:')\n",
    "    print(solitons)\n",
    "    print('The List of Embedded Soliton Conditions is:')  \n",
    "    print(embeds)\n",
    "    \n",
    "print('The List of BH Conditions is:')  \n",
    "print(particles)\n",
    "\n"
   ]
  },
  {
   "cell_type": "markdown",
   "metadata": {},
   "source": [
    "[**<font color=green>Go to Execution</font>**](#run)\n",
    "<a id='demo_byo'></a>\n",
    "## Build Your Own"
   ]
  },
  {
   "cell_type": "code",
   "execution_count": null,
   "metadata": {
    "ExecuteTime": {
     "end_time": "2021-03-01T08:28:01.339036Z",
     "start_time": "2021-03-01T08:28:01.247892Z"
    }
   },
   "outputs": [],
   "source": [
    "resol = 128\n",
    "# Space Settings\n",
    "length = 1 # 1 code unit is ~38 kpc x (1e-22/m_a)^0.5\n",
    "length_units = 'kpc'  # Accepted units: 'm', 'km', 'pc', 'kpc', 'Mpc', 'ly', and '' for dimensionless units.\n",
    "\n",
    "# Time Settings\n",
    "duration = 1e-5 #1 code unit is ~70 Gyr (independent of axion mass assumption)\n",
    "duration_units = ''  # Accepted units: 's', 'yr', 'kyr', 'Myr', and '' for dimensionless units\n",
    "\n",
    "step_factor = 100\n",
    "\n",
    "# Recommended Save Number Cap: 120\n",
    "# Depending on resolution, this could require significant disk space.\n",
    "\n",
    "##================================================================\n",
    "## Other Flags\n",
    "# Set units for soliton parameters\n",
    "s_mass_unit = ''     #Accepted units: 'kg', 'solar_masses', 'M_solar_masses', and '' for dimensionless units\n",
    "s_position_unit = '' #Accepted units: 'm', 'km', 'pc', 'kpc', 'Mpc', 'ly', and '' for dimensionless units\n",
    "s_velocity_unit = '' #Accepted units: 'm/s', 'km/s', 'km/h', 'c', and '' for dimensionless units\n",
    "\n",
    "# Rules ditto.\n",
    "m_mass_unit = 'M_solar_masses'\n",
    "m_position_unit = 'kpc'\n",
    "m_velocity_unit = 'm/s'\n",
    "\n",
    "# Density, if Uniform Background Flag is Set to 'True'\n",
    "# 1 Code Density Unit is equal the universe's critical matter density, 2.67e-27 kg/m^3.\n",
    "density_unit = '' # Accepted units: 'MSol/pc3', 'kg/m3', and '' for dimensionless units\n",
    "\n",
    "##================================================================\n",
    "\n",
    "mBH1 = 150\n",
    "\n",
    "BH1 = [mBH1,[0.3,-0.3,0],[0,9e4,0]]\n",
    "\n",
    "particles = [BH1]\n",
    "\n",
    "soliton1=[6500,[0,0,0],[0,0,0],-0]\n",
    "\n",
    "solitons = [soliton1]\n",
    "\n",
    "embeds = []\n",
    "\n",
    "########### MODIFIER PARAMETERS\n",
    "\n",
    "# Removes all ULDM Structures defined elsewhere in the IV and replaces them with a uniform wavefunction \n",
    "# with given probability amplitude (code unit).\n",
    "\n",
    "Uniform = False\n",
    "Density = 4e10\n",
    "#Density = 0\n",
    "\n",
    "Avg = False # Whether we average the black hole local field evaluation. \n",
    "#False: Only evaluate Locally. \n",
    "#True: 6 Nearby Evaluators.\n",
    "\n",
    "AvgDist = 1.42 # How far away the antennae are compared to grid length.\n",
    "CentreWeight = 1 # The relative weight of central point to the antennae.\n",
    "\n",
    "NCV, NCW = PyULH.PInit(Avg,AvgDist,CentreWeight)  \n",
    "\n",
    "if not Uniform:\n",
    "    print('The List of Soliton Conditions is:')\n",
    "    print(solitons)\n",
    "    print('The List of Embedded Soliton Conditions is:')  \n",
    "    print(embeds)\n",
    "    \n",
    "print('The List of BH Conditions is:')  \n",
    "print(particles)\n",
    "\n"
   ]
  },
  {
   "cell_type": "markdown",
   "metadata": {},
   "source": [
    "[**<font color=blue>Back to the Top</font>**](#root)\n",
    "<a id='run'></a>\n",
    "# Compiling and Go\n",
    "\n",
    "This creates a timestamped folder using the current settings, and the integrator stores all requested files in it too."
   ]
  },
  {
   "cell_type": "markdown",
   "metadata": {},
   "source": [
    "## <font color=green>Gravitational Field Smoothing</font>\n",
    "Instead of coding in the idealistic $\\frac{m}{r}$ potential, we approximate it with $\\frac{am}{ar+e^{-ar}}$. \n",
    "\n",
    "The modified potential is a useful approximation of a point mass in a distance, and puts an exponential cap on the infinite potential well, which reduces the impact of numerical artefacts.\n",
    "\n",
    "\n",
    "The smoothing factor, $a$, is also defined here.\n",
    "\n",
    "\n",
    "The differences between the two potentials are characterised in the program output box."
   ]
  },
  {
   "cell_type": "code",
   "execution_count": null,
   "metadata": {
    "ExecuteTime": {
     "end_time": "2021-03-01T10:23:05.474170Z",
     "start_time": "2021-03-01T10:23:04.674318Z"
    }
   },
   "outputs": [],
   "source": [
    "LengthFS = PyUL.convert(length, length_units, 'l')\n",
    "\n",
    "GridLenFS = LengthFS/(resol)\n",
    "\n",
    "GridLenPC = PyUL.convert_back(GridLenFS,'pc','l')\n",
    "\n",
    "print(f\"The grid subdivision is {length/resol:.4f} in specified units. This is {GridLenFS:.4f} code units.\")\n",
    "\n",
    "central_mass = 0 # Not Implemented Anymore. Keep for code compatibility.\n",
    "#================================================================\n",
    "a = (2-PyUL.LW(np.exp(-2)))/LengthFS*resol\n",
    "a = np.real(a)\n",
    "\n",
    "# a = 0\n",
    "\n",
    "print(f\"The Smoothing factor is {a:.3f}\")\n",
    "\n",
    "if a != 0:\n",
    "    PyULH.SmoothingReport(a,resol,LengthFS)"
   ]
  },
  {
   "cell_type": "markdown",
   "metadata": {},
   "source": [
    "## Simulation"
   ]
  },
  {
   "cell_type": "code",
   "execution_count": null,
   "metadata": {
    "ExecuteTime": {
     "end_time": "2021-03-01T10:24:53.250934Z",
     "start_time": "2021-03-01T10:24:32.095805Z"
    },
    "scrolled": false
   },
   "outputs": [],
   "source": [
    "# Generates config.txt\n",
    "run_folder = PyULH.GenerateConfig(NS, central_mass, length, length_units, resol, duration, duration_units, step_factor, save_number, save_options, save_path, npz, npy, hdf5, s_mass_unit, s_position_unit, s_velocity_unit, solitons,start_time, m_mass_unit, m_position_unit, m_velocity_unit, particles, embeds, Uniform,Density,density_unit,a, NCV,NCW)\n",
    "\n",
    "Draft = True # Set to False for Production-level treatment in the soliton profile generation.\n",
    "\n",
    "# Loads config.txt\n",
    "\n",
    "PyUL.evolve(save_path,run_folder) "
   ]
  },
  {
   "cell_type": "markdown",
   "metadata": {},
   "source": [
    "[**<font color=blue>Back to the Top</font>**](#root)\n",
    "<a id='load'></a>\n",
    "# Data (Re)Loading:\n",
    "\n",
    "This block loads all data produced into memory."
   ]
  },
  {
   "cell_type": "code",
   "execution_count": null,
   "metadata": {
    "ExecuteTime": {
     "end_time": "2021-03-01T10:25:39.295582Z",
     "start_time": "2021-03-01T10:25:02.107502Z"
    }
   },
   "outputs": [],
   "source": [
    "TimeStamp = PyULH.Runs(save_path)\n",
    "clear_output()\n",
    "loc = './' + save_path + '/' + TimeStamp\n",
    "print(loc,'\\n')\n",
    "# Reload Config\n",
    "\n",
    "NS, central_mass, length, length_units, resol, duration, duration_units, step_factor, save_number, save_options, save_path, npz, npy, hdf5, s_mass_unit, s_position_unit, s_velocity_unit, solitons,start_time, m_mass_unit, m_position_unit, m_velocity_unit, particles, embeds, Uniform,Density, density_unit ,a, NCV,NCW = PyUL.LoadConfig(loc)\n",
    "\n",
    "# Reload Output\n",
    "\n",
    "EndNum, data, TMdata, phidata, graddata, phasedata = PyULH.Load_Data(save_path,TimeStamp, save_options,save_number)\n",
    "\n",
    "LengthFS = PyUL.convert(length, length_units,'l')\n",
    "                        \n",
    "GridLenFS = LengthFS/(resol)\n",
    "\n",
    "GridLenPC = PyUL.convert_back(GridLenFS,'pc','l')\n",
    "\n",
    "DurationDisp = EndNum/(save_number+1)*duration\n",
    "\n",
    "NBo = len(particles)"
   ]
  },
  {
   "cell_type": "code",
   "execution_count": null,
   "metadata": {
    "ExecuteTime": {
     "end_time": "2021-02-22T01:36:13.521614Z",
     "start_time": "2021-02-22T01:36:13.433420Z"
    }
   },
   "outputs": [],
   "source": [
    "Density"
   ]
  },
  {
   "cell_type": "markdown",
   "metadata": {},
   "source": [
    "[**<font color=blue>Back to the Top</font>**](#root)\n",
    "<a id='plot'></a>\n",
    "# Analysis Suite\n",
    "## 2D Trajectory Plot"
   ]
  },
  {
   "cell_type": "code",
   "execution_count": null,
   "metadata": {
    "ExecuteTime": {
     "end_time": "2021-03-01T10:25:40.653210Z",
     "start_time": "2021-03-01T10:25:39.509444Z"
    },
    "hide_input": false,
    "scrolled": false
   },
   "outputs": [],
   "source": [
    "Plot_ULD = True\n",
    "# Number of ULDM Slices IN BETWEEN start and end (which are always plotted).\n",
    "NSlices = 0\n",
    "\n",
    "if NSlices >= EndNum:\n",
    "    \n",
    "    NSlices = EndNum\n",
    "\n",
    "try:\n",
    "    TSD = TimeStamp\n",
    "except NameError:\n",
    "    TimeStamp = 'Debug'\n",
    "\n",
    "plt.clf()\n",
    "\n",
    "fig = plt.figure(figsize=(24, 24))\n",
    "ax = fig.add_subplot(111)\n",
    "\n",
    "Zoom2D = 1\n",
    "\n",
    "Boundary = LengthFS/(2*Zoom2D)\n",
    "\n",
    "plt.xlim([-Boundary,Boundary])\n",
    "plt.ylim([-Boundary,Boundary])\n",
    "\n",
    "ax.set_aspect('equal', adjustable='box')\n",
    "\n",
    "for i in range(EndNum):\n",
    "    \n",
    "    TMStateLoc = TMdata[i]\n",
    "    \n",
    "    if i == 0:\n",
    "        for particleID in range(len(particles)):\n",
    "        \n",
    "            Color = Colors[np.mod(particleID,5)] # 0, 0.5\n",
    "        \n",
    "            TMx = TMStateLoc[int(6*particleID+1)]\n",
    "            TMy = TMStateLoc[int(6*particleID)]\n",
    "            plt.plot([TMx],[TMy],'o',color=(0.5*Color[0],0.5*Color[1],0.5*Color[2],1))\n",
    "        \n",
    "    \n",
    "    Alpha = 0.1+9*i/(10*EndNum)\n",
    "    \n",
    "    for particleID in range(len(particles)):\n",
    "        \n",
    "        Color = Colors[np.mod(particleID,5)] # 0, 0.5\n",
    "        \n",
    "        TMx = TMStateLoc[int(6*particleID+1)]\n",
    "        TMy = TMStateLoc[int(6*particleID)]\n",
    "        plt.plot([TMx],[TMy],'.',color=(Color[0],Color[1],Color[2],Alpha))\n",
    "        \n",
    "        \n",
    "\n",
    "\n",
    "if Plot_ULD:\n",
    "    \n",
    "    planemax = np.max(data)\n",
    "    planemin = np.min(data)\n",
    "\n",
    "    levels = np.linspace(planemin, planemax, int(resol/4))\n",
    "\n",
    "    PlotRange = np.linspace(-LengthFS/2, LengthFS/2,resol,endpoint = False)\n",
    "    \n",
    "    plt.contour(PlotRange,PlotRange,data[1], levels=levels,cmap = Palette)\n",
    "    plt.contour(PlotRange,PlotRange,data[EndNum-1], levels=levels,cmap = Palette)\n",
    "\n",
    "\n",
    "    if NSlices != 0 and EndNum >= NSlices:\n",
    "\n",
    "        Blink = EndNum/(NSlices+1)\n",
    "\n",
    "        Index = np.linspace(Blink,EndNum-Blink,NSlices)\n",
    "\n",
    "        for Ind in Index:\n",
    "            j = int(Ind)\n",
    "            plt.contour(PlotRange,PlotRange,data[j], levels=levels,cmap = Palette)\n",
    "\n",
    "        \n",
    "ax.grid(True)\n",
    "\n",
    "\n",
    "Info = '\\n'.join((\n",
    "    TimeStamp,\n",
    "    r'Number of Bodies: $%.0f$' % (NBo, ),\n",
    "    r'Resolution: $%.0f^3$' % (resol, ),\n",
    "    r'Box Length: %.0f' % (length, ),\n",
    "    r'Simulation Time Length: %.3f' % (DurationDisp, ),\n",
    "    r'Saved Snapshots: %.0f' % (EndNum)\n",
    "    ))\n",
    "\n",
    "\n",
    "# these are matplotlib.patch.Patch properties\n",
    "props = dict(boxstyle='round', facecolor='wheat', alpha=0.5)\n",
    "\n",
    "# place a text box in upper left in axes coords\n",
    "ax.text(0, 0, Info, transform=ax.transAxes, fontsize=18,\n",
    "        verticalalignment='bottom', bbox=props)\n",
    "\n",
    "TrajName = '{}{}{}{}{}'.format(\"./\",save_path,\"/_\",TimeStamp,'.jpg')\n",
    "plt.savefig(TrajName, format='jpg', dpi=72)\n",
    "\n",
    "plt.show()"
   ]
  },
  {
   "cell_type": "markdown",
   "metadata": {
    "hide_input": true
   },
   "source": [
    "## Energy"
   ]
  },
  {
   "cell_type": "code",
   "execution_count": null,
   "metadata": {
    "ExecuteTime": {
     "end_time": "2021-03-01T10:25:50.308433Z",
     "start_time": "2021-03-01T10:25:46.334358Z"
    },
    "hide_input": false,
    "scrolled": false
   },
   "outputs": [],
   "source": [
    "EFigSize = (15,10)\n",
    "\n",
    "Snap = False\n",
    "loc = save_path + '/' + TimeStamp\n",
    "\n",
    "plt.clf()\n",
    "\n",
    "#==================================================================================================\n",
    "## Naming\n",
    "EnergyName = '{}{}{}'.format(\"./\",loc,\"/Energy_Total.jpg\")\n",
    "EnergyDName = '{}{}{}'.format(\"./\",loc,\"/Energy_Delta.jpg\")\n",
    "EnergyMName = '{}{}{}'.format(\"./\",loc,\"/Energy_Mech.jpg\")\n",
    "EnergyD2Name = '{}{}{}'.format(\"./\",loc,\"/Energy_Pct.jpg\")\n",
    "\n",
    "#==================================================================================================\n",
    "## Analysis\n",
    "#\n",
    "# Load ULDM Energy\n",
    "\n",
    "egylist = np.load('{}{}'.format(loc, '/Outputs/egylist.npy'),allow_pickle=True)\n",
    "egpcmlist = np.load('{}{}'.format(loc, '/Outputs/egpcmlist.npy'),allow_pickle=True)\n",
    "egpsilist = np.load('{}{}'.format(loc, '/Outputs/egpsilist.npy'),allow_pickle=True)\n",
    "ekandqlist = np.load('{}{}'.format(loc, '/Outputs/ekandqlist.npy'),allow_pickle=True)\n",
    "mtotlist = np.load('{}{}'.format(loc, '/Outputs/masseslist.npy'),allow_pickle=True)\n",
    "\n",
    "# Uniform Correction Performed in Integrator!\n",
    "\n",
    "# Reconstruct NBody Energy\n",
    "NBo, KS, PS = PyULH.NBodyEnergy(particles,EndNum,TMdata,m_mass_unit,a)\n",
    "\n",
    "# Translating Snapshots back to Time\n",
    "timerange = np.linspace(0,duration,save_number+1)\n",
    "\n",
    "Tp = np.linspace(0,EndNum-1,EndNum)\n",
    "Tp = Tp * duration / (save_number+1)\n",
    "\n",
    "Tpt = np.linspace(1,EndNum,EndNum-2,endpoint = False) \n",
    "Tpt = Tpt/(save_number+1) * duration\n",
    "\n",
    "KSD = KS - KS[1]\n",
    "PSD = PS - PS[1]\n",
    "\n",
    "egylistD = egylist - egylist[1]\n",
    "TotalED = PSD+KSD+egylistD\n",
    "\n",
    "MES = PS + KS\n",
    "\n",
    "MESD = PSD + KSD\n",
    "\n",
    "MESGrad = np.sum(MESD)/np.sum(Tp)\n",
    "\n",
    "TotalER = (KS + PS + egylist) / (KS[1]+PS[1]+egylist[1])*100\n",
    "\n",
    "ULDER =  egylist/ egylist[1]\n",
    "\n",
    "\n",
    "#==================================================================================================\n",
    "## Compile Printing Boxes\n",
    "\n",
    "SimInfo = '\\n'.join((\n",
    "    TimeStamp,\n",
    "    r'Resolution: $%.0f^3$' % (resol, ),\n",
    "    r'Box Length: %.0f' % (length, ),\n",
    "    r'Simulation Time Length: %.3f' % (DurationDisp, )\n",
    "    ))\n",
    "\n",
    "NBodyInfo = '\\n'.join((\n",
    "    TimeStamp,\n",
    "    r'Number of Bodies: $%.0f$' % (NBo, ),\n",
    "    r'Rate of Change in Mechanical Energy: ($\\mathcal{E}/\\mathcal{T}$): %.4f' % (MESGrad, ),\n",
    "    r'Simulation Time Length: %.3f' % (DurationDisp, )\n",
    "    ))\n",
    "\n",
    "print(NBodyInfo)\n",
    "\n",
    "#==================================================================================================\n",
    "## Plots\n",
    "# NBody Energy Diagram\n",
    "fig = plt.figure(figsize= EFigSize)\n",
    "ax = fig.add_subplot(111)\n",
    "InfoBox = AnchoredText(SimInfo, loc=3)\n",
    "ax.add_artist(InfoBox)\n",
    "\n",
    "plt.plot(Tp,KS,ENStyle,color = EKColor,label = '$\\sum E_k$')\n",
    "#plt.ylim(0,)\n",
    "if len(particles) >= 2:\n",
    "    plt.plot(Tp,PS,ENStyle,color = EPColor,label = '$\\sum E_p$')\n",
    "    plt.plot(Tp,PS+KS,ETStyle,color = ENColor, label = '$E_k + E_p$')\n",
    "#plt.plot(Tp,0*Tp,'k--')\n",
    "\n",
    "plt.title('Energy of NBody')\n",
    "plt.xlabel('Integration Time / $\\mathcal{T}$')\n",
    "plt.ylabel('$\\mathcal{M}\\mathcal{L}^2\\mathcal{T}^{-2}$')\n",
    "\n",
    "plt.legend()\n",
    "\n",
    "plt.show()\n",
    "\n",
    "#==================================================================================================\n",
    "# System Energy Diagram\n",
    "fig = plt.figure(figsize= EFigSize)\n",
    "ax = fig.add_subplot(111)\n",
    "InfoBox = AnchoredText(SimInfo,loc = 1)\n",
    "ax.add_artist(InfoBox)\n",
    "\n",
    "plt.plot(Tp,egpcmlist,EUStyle,color = EGColor,label='$E_{GP}$ (ULD Potential Due to Particles)')\n",
    "plt.plot(Tp,egpsilist,EUStyle,color = ERColor,label='$E_{GP}$ (ULD Potential Due to Self-Interaction)')\n",
    "plt.plot(Tp,ekandqlist,EUStyle,color = EQColor,label='ULD $E_{K}+E_{Q}$')\n",
    "\n",
    "plt.plot(Tp,egylist,ETStyle,color = EUColor,label='Total ULDM Energy')\n",
    "\n",
    "plt.plot(Tp,KS,ENStyle,color = EKColor,label = '$\\sum E_k$ of Particles')\n",
    "\n",
    "if len(particles) >= 2:\n",
    "    plt.plot(Tp,PS,ENStyle,color = EPColor,label = '$\\sum E_p$ of Particles')\n",
    "    plt.plot(Tp,PS+KS,ETStyle,color = ENColor,label = 'Total Mechanical Energy of Particles')\n",
    "\n",
    "\n",
    "plt.plot(Tp,PS+KS+egylist,ETStyle,color = ETColor, label = 'Total Energy of System')\n",
    "plt.legend(ncol=2,loc = 'best')\n",
    "\n",
    "plt.xlabel('Integration Time / $\\mathcal{T}$')\n",
    "plt.ylabel('Net Energy / $\\mathcal{M}\\mathcal{L}^2\\mathcal{T}^{-2}$')\n",
    "\n",
    "plt.title('Energy of System')\n",
    "plt.savefig(EnergyName, format='jpg', dpi=72)\n",
    "\n",
    "plt.show()\n",
    "\n",
    "#==================================================================================================\n",
    "# The Advanced Energy Change Diagram\n",
    "fig = plt.figure(figsize= EFigSize)\n",
    "ax = fig.add_subplot(111)\n",
    "InfoBox = AnchoredText(SimInfo, loc=3)\n",
    "ax.add_artist(InfoBox)\n",
    "\n",
    "plt.plot(Tpt,TotalED[1:-1],ETStyle,color = ETColor, label = 'Change in Total Energy of System')\n",
    "plt.plot(Tpt,0*Tpt,HelperStyle, label = '')\n",
    "plt.plot(Tpt,egylistD[1:-1],ETStyle,color = EUColor, label = 'Change in Energy of ULDM')\n",
    "plt.plot(Tpt,KSD[1:-1]+PSD[1:-1],ETStyle,color = ENColor, label = 'Change in Energy of NBody')\n",
    "\n",
    "plt.legend(loc = 'upper left',frameon = True)\n",
    "\n",
    "plt.xlabel('Integration Time / $\\mathcal{T}$')\n",
    "plt.ylabel('$\\mathcal{M}\\mathcal{L}^2\\mathcal{T}^{-2}$')\n",
    "\n",
    "plt.tight_layout(pad=0.4, w_pad=0.5, h_pad=1.0)\n",
    "\n",
    "# plt.ylim([98,102])\n",
    "plt.title('Energy Changes in NBody, ULDM, and Total System')\n",
    "plt.savefig(EnergyDName, format='jpg', dpi=72)\n",
    "\n",
    "plt.show()\n",
    "\n",
    "#==================================================================================================\n",
    "## Total Mechanical Energy Plot\n",
    "fig = plt.figure(figsize= EFigSize)\n",
    "ax = fig.add_subplot(111)\n",
    "InfoBoxM = AnchoredText(NBodyInfo, loc=3)\n",
    "ax.add_artist(InfoBoxM)\n",
    "\n",
    "plt.plot(Tp,MES,ETStyle,color = ENColor, label = 'Total Mechanical Energy of Particles')\n",
    "\n",
    "plt.plot(Tp,Tp*MESGrad+MES[0],HelperStyle, label = 'Linear Least Square Fit')\n",
    "\n",
    "plt.xlabel('Integration Time / $\\mathcal{T}$')\n",
    "plt.ylabel('$\\mathcal{M}\\mathcal{L}^2\\mathcal{T}^{-2}$')\n",
    "\n",
    "plt.legend()\n",
    "plt.title('Total Mechanical Energy of NBody')\n",
    "plt.savefig(EnergyMName, format='jpg', dpi=72)\n",
    "\n",
    "plt.show()\n",
    "\n",
    "\n",
    "\n",
    "#==================================================================================================\n",
    "# The Advanced Energy Change Ratio Diagram\n",
    "fig = plt.figure(figsize= EFigSize)\n",
    "ax = fig.add_subplot(111)\n",
    "InfoBoxD = AnchoredText(SimInfo, loc=3)\n",
    "ax.add_artist(InfoBoxD)\n",
    "InfoBoxD2 = AnchoredText(NBodyInfo, loc=2)\n",
    "ax.add_artist(InfoBoxD2)\n",
    "\n",
    "ax.plot(Tpt,TotalER[1:-1],ETStyle, color = ETColor, label = 'Total Energy of Entire System')\n",
    "ax.set_xlabel('Integration Time / $\\mathcal{T}$')\n",
    "ax.legend()\n",
    "\n",
    "plt.xlabel('Integration Time / $\\mathcal{T}$')\n",
    "ax.set_ylabel('Relative Energy Change (%)')\n",
    "ax.set_ylim([95,105])\n",
    "ax.set_title('Percentage Change of System Energy')\n",
    "\n",
    "plt.savefig(EnergyD2Name, format='jpg', dpi=72)\n",
    "\n",
    "plt.show()\n",
    "\n",
    "\n",
    "#==================================================================================================\n",
    "# The Net Mass Diagram\n",
    "\n",
    "MassData = np.load('{}{}'.format(loc, '/Outputs/ULDMass.npy'),allow_pickle=True)\n",
    "\n",
    "fig = plt.figure(figsize= EFigSize)\n",
    "ax = fig.add_subplot(111)\n",
    "\n",
    "ax.plot(Tp,MassData)\n",
    "ax.set_xlabel('Integration Time / $\\mathcal{T}$')\n",
    "\n",
    "plt.xlabel('Integration Time / $\\mathcal{T}$')\n",
    "ax.set_ylabel('$\\mathcal{M}$')\n",
    "ax.set_title('Mass')\n",
    "plt.show()\n"
   ]
  },
  {
   "cell_type": "markdown",
   "metadata": {
    "hide_input": true
   },
   "source": [
    "## 2D Field Argument"
   ]
  },
  {
   "cell_type": "code",
   "execution_count": null,
   "metadata": {
    "ExecuteTime": {
     "end_time": "2021-03-01T06:12:07.307103Z",
     "start_time": "2021-03-01T06:12:04.665738Z"
    },
    "hide_input": false
   },
   "outputs": [],
   "source": [
    "try:\n",
    "    VTimeStamp = TimeStamp\n",
    "except NameError:\n",
    "    VTimeStamp = str('Debug')\n",
    "\n",
    "loc = save_path + '/' + TimeStamp\n",
    "\n",
    "AnimName = '{}{}{}{}'.format(loc,\"/AnimPhase_\",VTimeStamp,\".mp4\")\n",
    "\n",
    "print(\"Saving \",AnimName)\n",
    "\n",
    "plot_axis = 'z' #axis that is set to zero\n",
    "plt.ioff()\n",
    "fig0, ax0 = plt.subplots(figsize=(16, 16), dpi=72)\n",
    "ax0.set_aspect('equal')\n",
    "\n",
    "PlotRange = np.linspace(-LengthFS/2, LengthFS/2,resol,endpoint = False)\n",
    "\n",
    "# print(PlotRange)\n",
    "\n",
    "FPS = 10\n",
    "\n",
    "\n",
    "def animate3(i):\n",
    "    ax0.cla()\n",
    "\n",
    "    ax0.get_xaxis().set_ticks([])\n",
    "    ax0.get_yaxis().set_ticks([])\n",
    "    \n",
    "    \n",
    "    Plane = np.real(phasedata[i])\n",
    "    \n",
    "    ax0.imshow(Plane,cmap = 'twilight',origin = 'lower',\n",
    "               vmin = -np.pi, vmax = np.pi,\n",
    "               extent = (-LengthFS/2,LengthFS/2-LengthFS/resol,-LengthFS/2,LengthFS/2-LengthFS/resol),\n",
    "              interpolation = 'none')\n",
    "    \n",
    "    TMStateLoc = TMdata[i]\n",
    "    \n",
    "    for particleID in range(len(particles)):\n",
    "        \n",
    "        Color = Colors[np.mod(particleID,5)] # 0, 0.5\n",
    "        \n",
    "        TMx = TMStateLoc[int(6*particleID+1)]\n",
    "        TMy = TMStateLoc[int(6*particleID)]\n",
    "        TMz = TMStateLoc[int(6*particleID+2)]\n",
    "        \n",
    "        Vx = TMStateLoc[int(6*particleID+4)]\n",
    "        Vy = TMStateLoc[int(6*particleID+3)]\n",
    "        Vz = TMStateLoc[int(6*particleID+5)]\n",
    "        ax0.plot([TMx],[TMy],'o',color=(Color[0],Color[1],Color[2],1))\n",
    "        ax0.quiver([TMx],[TMy],[Vx],[Vy])\n",
    "  \n",
    "    if i%FPS == 0 and i!= 0:\n",
    "        print('Animated %.0f seconds out of %.2f seconds of data.' % (i/FPS, EndNum/FPS))\n",
    "    \n",
    "    if i == EndNum-1:\n",
    "        print('Animation Complete')\n",
    "\n",
    "interval = 0.15 #in seconds\n",
    "ani3 = matplotlib.animation.FuncAnimation(fig0,animate3,EndNum,interval=interval*1e+3,blit=False)\n",
    "\n",
    "\n",
    "\n",
    "Writer = matplotlib.animation.writers['ffmpeg']\n",
    "\n",
    "writer = Writer(fps=FPS, metadata=dict(artist='PyUltraLightF'))\n",
    "\n",
    "ani3.save(AnimName, writer=writer)\n",
    "\n",
    "'''\n",
    "from IPython.display import HTML\n",
    "animated_plot3 = HTML(ani3.to_jshtml())\n",
    "\n",
    "fig0.clear()\n",
    "display(animated_plot3) \n",
    "'''"
   ]
  },
  {
   "cell_type": "markdown",
   "metadata": {},
   "source": [
    "## 2D Mass Density"
   ]
  },
  {
   "cell_type": "code",
   "execution_count": null,
   "metadata": {
    "ExecuteTime": {
     "end_time": "2021-03-01T10:13:50.080206Z",
     "start_time": "2021-03-01T10:13:44.309291Z"
    },
    "hide_input": false,
    "scrolled": false
   },
   "outputs": [],
   "source": [
    "Loga = True\n",
    "Contour = False\n",
    "\n",
    "try:\n",
    "    VTimeStamp = TimeStamp\n",
    "except NameError:\n",
    "    VTimeStamp = str('Debug')\n",
    "\n",
    "AnimName = '{}{}{}{}'.format(loc,\"/AnimDensity_\",VTimeStamp,\".mp4\")\n",
    "\n",
    "print(\"Saving \",AnimName)\n",
    "\n",
    "plot_axis = 'z' #axis that is set to zero\n",
    "plt.ioff()\n",
    "fig0, ax0 = plt.subplots(figsize=(16, 9), dpi=144)\n",
    "ax0.set_aspect('equal')\n",
    "\n",
    "Tp = np.linspace(0,EndNum-1,EndNum)\n",
    "Tp = Tp * duration / (save_number+1)\n",
    "\n",
    "DensityGR = Density\n",
    "\n",
    "if Loga:\n",
    "    \n",
    "    if Uniform:\n",
    "        data0 = np.log(np.array(data)/DensityGR)\n",
    "        print(\"Initial Field is Uniform. Evaluating Change Ratio.\")\n",
    "        planemax = np.max(data0)\n",
    "        planemin = np.min(data0)\n",
    "        TITLETEXT = 'Logarithmic Over (Under) density in Plane'\n",
    "\n",
    "\n",
    "    else:\n",
    "        data0 = np.log(data)\n",
    "        planemax = np.max(data0)\n",
    "        planemin = -10\n",
    "        TITLETEXT = 'Logarithmic Mass Density in Plane'\n",
    "    \n",
    "    print(\"Using Log Plot, the Contour Level Limits Are\")\n",
    "    \n",
    "    \n",
    "else:\n",
    "    if Uniform:\n",
    "        data0 = np.array(data)/DensityGR\n",
    "        print(\"Initial Field is Uniform. Evaluating Change Ratio.\")\n",
    "        planemax = np.max(data0)\n",
    "        planemin = np.min(data0)\n",
    "        TITLETEXT = 'Over (Under) Density in Plane'\n",
    "\n",
    "\n",
    "    else:\n",
    "        data0 = (data)\n",
    "        planemax = np.max(data0)\n",
    "        planemin = np.min(data0)\n",
    "        TITLETEXT = 'Mass Density in Plane'\n",
    "\n",
    "\n",
    "\n",
    "levels = np.linspace(planemin, planemax, int(resol))\n",
    "print(f\"Max:{planemax},Min:{planemin}\")\n",
    "\n",
    "PlotRange = np.linspace(-LengthFS/2, LengthFS/2,resol,endpoint = False)\n",
    "\n",
    "# print(PlotRange)\n",
    "\n",
    "FPS = 10\n",
    "\n",
    "\n",
    "def animate0(i):\n",
    "    ax0.cla()\n",
    "    ax0.set_aspect('equal')\n",
    "    ax0.set_xlim([-LengthFS/2,LengthFS/2])\n",
    "    ax0.set_ylim([-LengthFS/2,LengthFS/2])\n",
    "    ax0.get_xaxis().set_ticks([])\n",
    "    ax0.get_yaxis().set_ticks([])\n",
    "    \n",
    "    if Contour:\n",
    "        mappable = ax0.contour(PlotRange,PlotRange,data0[i], levels=levels,cmap = Palette)\n",
    "    \n",
    "    else:\n",
    "        mappable = ax0.imshow(data0[i],cmap = Palette,origin = 'lower',\n",
    "                  vmin = planemin, vmax = planemax, interpolation = 'bicubic',\n",
    "                   extent = (-LengthFS/2,LengthFS/2-LengthFS/resol,-LengthFS/2,LengthFS/2-LengthFS/resol))\n",
    "    \n",
    "\n",
    "    TMStateLoc = TMdata[i]\n",
    "    \n",
    "    for particleID in range(len(particles)):\n",
    "        \n",
    "        Color = Colors[np.mod(particleID,5)] # 0, 0.5\n",
    "        \n",
    "        TMx = TMStateLoc[int(6*particleID+1)]\n",
    "        TMy = TMStateLoc[int(6*particleID+0)]\n",
    "        TMz = TMStateLoc[int(6*particleID+2)]\n",
    "        \n",
    "        Vx = TMStateLoc[int(6*particleID+4)]\n",
    "        Vy = TMStateLoc[int(6*particleID+3)]\n",
    "        Vz = TMStateLoc[int(6*particleID+5)]\n",
    "        ax0.plot([TMx],[TMy],'o',color=(Color[0],Color[1],Color[2],1))\n",
    "        ax0.quiver([TMx],[TMy],[Vx],[Vy],color=(0.5+0.5*Color[0],0.5+0.5*Color[1],0.5+0.5*Color[2],0.7))\n",
    "        \n",
    "    fig0.suptitle('{}{}{}'.format(TITLETEXT, plot_axis, '=0'), fontsize = 15)\n",
    "    ax0.text(0.90, 1.1, '{}{:.2f}'.format('Time Elapsed: ', Tp[i]), horizontalalignment='center', verticalalignment='center', transform=ax0.transAxes)\n",
    "    \n",
    "    if i%FPS == 0 and i!= 0:\n",
    "        print('Animated %.0f seconds out of %.2f seconds of data.' % (i/FPS, EndNum/FPS))\n",
    "    \n",
    "    if i == EndNum-1:\n",
    "        print('Animation Complete')\n",
    "\n",
    "interval = 0.15 #in seconds\n",
    "ani0 = matplotlib.animation.FuncAnimation(fig0,animate0,EndNum,interval=interval*1e+3,blit=False)\n",
    "\n",
    "\n",
    "Writer = matplotlib.animation.writers['ffmpeg']\n",
    "\n",
    "writer = Writer(fps=FPS, metadata=dict(artist='PyUltraLightF'))\n",
    "\n",
    "# ani0.save(AnimName, writer=writer)\n",
    "\n",
    "\n",
    "from IPython.display import HTML\n",
    "animated_plot0 = HTML(ani0.to_jshtml())\n",
    "\n",
    "fig0.clear()\n",
    "display(animated_plot0) \n"
   ]
  },
  {
   "cell_type": "markdown",
   "metadata": {},
   "source": [
    "# [Bonus Interactive]: 3D Field Visualization\n",
    "\n",
    "Loads all data into RAM. Very slow."
   ]
  },
  {
   "cell_type": "code",
   "execution_count": null,
   "metadata": {
    "ExecuteTime": {
     "end_time": "2021-02-18T06:38:27.135333Z",
     "start_time": "2021-02-18T06:38:27.076469Z"
    },
    "scrolled": false
   },
   "outputs": [],
   "source": [
    "if save_rho:\n",
    "    \n",
    "    with open('{}{}'.format(save_path, '/latest.txt'), 'r') as timestamp:\n",
    "        ts = timestamp.read()\n",
    "        print('PyUL NBody: Loading Folder',ts)\n",
    "\n",
    "    loc = save_path + '/' + ts\n",
    "\n",
    "    import time   \n",
    "    import warnings \n",
    "    warnings.filterwarnings(\"ignore\")\n",
    "    plt.ioff()\n",
    "\n",
    "    EndNum = 0\n",
    "    Rhodata = []\n",
    "    TMdata = []\n",
    "\n",
    "    for x in np.arange(0,save_number+1,1):\n",
    "    #for x in np.arange(0,550,1):    \n",
    "\n",
    "        try:\n",
    "\n",
    "            Rhodata.append(np.load('{}{}{}{}'.format(loc, '/rho_#', x, '.npy')))\n",
    "            TMdata.append(np.load('{}{}{}{}'.format(loc, '/TM_#', x, '.npy')))\n",
    "            EndNum += 1\n",
    "        except FileNotFoundError:\n",
    "\n",
    "            TimeStamp = ts\n",
    "            print(\"PyUL NBody: Run incomplete or the storage is corrupt!\")\n",
    "\n",
    "            break\n",
    "\n",
    "    print(\"PyUL NBody: Loaded\", EndNum, \"Data Entries. Which one to plot?\")\n",
    "    \n",
    "    PlotNum = int(input())\n",
    "\n",
    "    import plotly.graph_objects as go\n",
    "    \n",
    "    import plotly.io as pio\n",
    "    \n",
    "    import numpy as np\n",
    "    \n",
    "    if Uniform:\n",
    "        Rhodata = np.log(np.array(Rhodata))\n",
    "        \n",
    "    \n",
    "\n",
    "    HL = length/2\n",
    "    XP, YP, ZP = np.mgrid[-HL:HL:resol/4*1j, -HL:HL:resol/4*1j, -HL:HL:resol/4*1j]\n",
    "\n",
    "    print(len(XP))\n",
    "    values = Rhodata[PlotNum]\n",
    "    \n",
    "    values = values.flatten()\n",
    "    \n",
    "    shrink = int(resol/4)**3\n",
    "    \n",
    "    Values = np.zeros(shrink)\n",
    "    \n",
    "    for ii in range(shrink):\n",
    "        Values[ii] = values[int(ii*4)]\n",
    "\n",
    "    fig3D = go.Figure(data=go.Volume(\n",
    "        x=XP.flatten(),\n",
    "        y=YP.flatten(),\n",
    "        z=ZP.flatten(),\n",
    "        value=Values,\n",
    "        isomin=np.min(Rhodata),\n",
    "        isomax=np.max(Rhodata),\n",
    "        opacity=0.02, # needs to be small to see through all surfaces\n",
    "        surface_count=int(resol/4), # needs to be a large number for good volume rendering\n",
    "        ))\n",
    "\n",
    "else:\n",
    "    raise RuntimeError(\"You did not save field data!\")"
   ]
  },
  {
   "cell_type": "code",
   "execution_count": null,
   "metadata": {
    "ExecuteTime": {
     "end_time": "2021-02-18T06:38:27.136152Z",
     "start_time": "2021-02-18T06:38:27.047Z"
    }
   },
   "outputs": [],
   "source": [
    "import plotly.io as pio\n",
    "pio.write_html(fig3D, 'Trial.html')"
   ]
  },
  {
   "cell_type": "markdown",
   "metadata": {},
   "source": [
    "# [Bonus Interactive]: 3D Density Visualization"
   ]
  },
  {
   "cell_type": "code",
   "execution_count": null,
   "metadata": {
    "ExecuteTime": {
     "end_time": "2021-02-18T06:38:27.174966Z",
     "start_time": "2021-02-18T06:38:27.144Z"
    }
   },
   "outputs": [],
   "source": [
    "print(phidataP[1])"
   ]
  },
  {
   "cell_type": "code",
   "execution_count": null,
   "metadata": {
    "ExecuteTime": {
     "end_time": "2021-02-18T06:38:27.183336Z",
     "start_time": "2021-02-18T06:38:27.148Z"
    },
    "scrolled": false
   },
   "outputs": [],
   "source": [
    "import plotly.graph_objects as go\n",
    " \n",
    "import plotly.io as pio\n",
    "import numpy as np\n",
    "\n",
    "import pandas as pd\n",
    "\n",
    "phidataPL = pd.DataFrame(data=phidataP[287], index=None, columns=None)\n",
    "\n",
    "fig = go.Figure(data=[go.Surface(z=phidataPL.values)])\n",
    "\n",
    "#fig.update_layout(title='$z=0$', autosize=False,width=500, height=500,margin=dict(l=65, r=50, b=65, t=90))\n",
    "\n",
    "fig.show()"
   ]
  },
  {
   "cell_type": "code",
   "execution_count": null,
   "metadata": {
    "ExecuteTime": {
     "end_time": "2021-02-18T06:38:27.185064Z",
     "start_time": "2021-02-18T06:38:27.152Z"
    }
   },
   "outputs": [],
   "source": [
    "pio.write_html(fig, 'Soliton512.html')"
   ]
  },
  {
   "cell_type": "code",
   "execution_count": null,
   "metadata": {
    "ExecuteTime": {
     "end_time": "2021-02-18T06:38:27.186695Z",
     "start_time": "2021-02-18T06:38:27.156Z"
    }
   },
   "outputs": [],
   "source": [
    "print(phidataPL)"
   ]
  },
  {
   "cell_type": "code",
   "execution_count": null,
   "metadata": {
    "ExecuteTime": {
     "end_time": "2021-02-18T06:38:27.197475Z",
     "start_time": "2021-02-18T06:38:27.160Z"
    },
    "scrolled": false
   },
   "outputs": [],
   "source": [
    "z_data = pd.read_csv('https://raw.githubusercontent.com/plotly/datasets/master/api_docs/mt_bruno_elevation.csv')\n",
    "\n",
    "fig = go.Figure(data=[go.Surface(z=z_data.values)])\n",
    "\n",
    "fig.update_layout(title='Mt Bruno Elevation', autosize=False,\n",
    "                  width=500, height=500,\n",
    "                  margin=dict(l=65, r=50, b=65, t=90))\n",
    "\n",
    "fig.show()"
   ]
  },
  {
   "cell_type": "code",
   "execution_count": null,
   "metadata": {
    "ExecuteTime": {
     "end_time": "2021-02-18T06:38:27.198613Z",
     "start_time": "2021-02-18T06:38:27.164Z"
    }
   },
   "outputs": [],
   "source": [
    "print(z_data)"
   ]
  },
  {
   "cell_type": "code",
   "execution_count": null,
   "metadata": {
    "ExecuteTime": {
     "end_time": "2021-02-18T06:38:27.203830Z",
     "start_time": "2021-02-18T06:38:27.167Z"
    }
   },
   "outputs": [],
   "source": [
    "Green = PyUL.makeDCTGreen(192)\n",
    "\n",
    "print(Green.size)"
   ]
  },
  {
   "cell_type": "code",
   "execution_count": null,
   "metadata": {
    "ExecuteTime": {
     "end_time": "2021-02-18T06:38:27.205017Z",
     "start_time": "2021-02-18T06:38:27.171Z"
    }
   },
   "outputs": [],
   "source": [
    "np.save('./Green Functions/G192.npy',Green)"
   ]
  },
  {
   "cell_type": "code",
   "execution_count": null,
   "metadata": {
    "ExecuteTime": {
     "end_time": "2021-02-18T06:38:27.210281Z",
     "start_time": "2021-02-18T06:38:27.175Z"
    },
    "scrolled": false
   },
   "outputs": [],
   "source": [
    "print(TMdata)"
   ]
  },
  {
   "cell_type": "code",
   "execution_count": null,
   "metadata": {
    "ExecuteTime": {
     "end_time": "2021-02-20T02:30:30.868244Z",
     "start_time": "2021-02-20T02:30:29.932574Z"
    }
   },
   "outputs": [],
   "source": [
    "Plot_ULD = True\n",
    "# Number of ULDM Slices IN BETWEEN start and end (which are always plotted).\n",
    "NSlices = 3\n",
    "\n",
    "\n",
    "if NSlices >= EndNum:\n",
    "    \n",
    "    NSlices = EndNum\n",
    "\n",
    "try:\n",
    "    TSD = TimeStamp\n",
    "except NameError:\n",
    "    TimeStamp = 'Debug'\n",
    "\n",
    "plt.clf()\n",
    "\n",
    "fig = plt.figure(figsize=(24, 24))\n",
    "ax = fig.gca(projection='3d')\n",
    "\n",
    "ax.view_init(45, 45)\n",
    "\n",
    "\n",
    "Zoom3D = 1\n",
    "\n",
    "Boundary = LengthFS/(2*Zoom2D)\n",
    "\n",
    "ax.set_xlim([-Boundary,Boundary])\n",
    "ax.set_ylim([-Boundary,Boundary])\n",
    "ax.set_zlim([-Boundary,Boundary])\n",
    "\n",
    "\n",
    "for i in range(EndNum):\n",
    "    \n",
    "    TMStateLoc = TMdata[i]\n",
    "    \n",
    "    if i == 0:\n",
    "        for particleID in range(len(particles)):\n",
    "        \n",
    "            Color = Colors[np.mod(particleID,5)] # 0, 0.5\n",
    "        \n",
    "            TMx = TMStateLoc[int(6*particleID)]\n",
    "            TMy = TMStateLoc[int(6*particleID+1)]\n",
    "            TMz = TMStateLoc[int(6*particleID+2)]\n",
    "            plt.plot([TMy],[TMx],[TMz],'o',color=(0.5*Color[0],0.5*Color[1],0.5*Color[2],1))\n",
    "        \n",
    "    \n",
    "    Alpha = 0.1+9*i/(10*EndNum)\n",
    "    \n",
    "    for particleID in range(len(particles)):\n",
    "        \n",
    "        Color = Colors[np.mod(particleID,5)] # 0, 0.5\n",
    "        \n",
    "        TMx = TMStateLoc[int(6*particleID)]\n",
    "        TMy = TMStateLoc[int(6*particleID+1)]\n",
    "        TMz = TMStateLoc[int(6*particleID+2)]\n",
    "        plt.plot([TMy],[TMx],[TMz],'.',color=(Color[0],Color[1],Color[2],Alpha))\n",
    "        \n",
    "\n",
    "PlotRange = np.linspace(-LengthFS/2, LengthFS/2,resol,endpoint = False)\n",
    "\n",
    "        \n",
    "ax.grid(True)\n",
    "\n",
    "plt.savefig('Traj.jpg', format='jpg', dpi=72)\n",
    "\n",
    "plt.show()"
   ]
  },
  {
   "cell_type": "code",
   "execution_count": null,
   "metadata": {
    "ExecuteTime": {
     "end_time": "2021-02-20T02:33:30.223505Z",
     "start_time": "2021-02-20T02:30:45.360766Z"
    }
   },
   "outputs": [],
   "source": [
    "PyUL.evolve(save_path,'Lat')"
   ]
  },
  {
   "cell_type": "markdown",
   "metadata": {},
   "source": [
    "# Advanced Features Workbench"
   ]
  },
  {
   "cell_type": "code",
   "execution_count": null,
   "metadata": {
    "ExecuteTime": {
     "end_time": "2021-02-25T23:25:16.650249Z",
     "start_time": "2021-02-25T23:25:16.528944Z"
    },
    "code_folding": []
   },
   "outputs": [],
   "source": [
    "egpcmlist = np.load('{}{}'.format(loc, '/Outputs/egpcmlist.npy'),allow_pickle=True)\n",
    "\n",
    "VCell = (LengthFS/resol)**3\n",
    "    \n",
    "CorLen = len(egpcmlist)  \n",
    "mass = particles[0][0]\n",
    "\n",
    "mass = PyUL.convert(mass,m_mass_unit,'m')\n",
    "eUOffset = np.zeros([CorLen])\n",
    "\n",
    "gridvec = np.linspace(-LengthFS / 2.0, LengthFS / 2.0, resol, endpoint=False)\n",
    "\n",
    "xarray, yarray, zarray = np.meshgrid(\n",
    "    gridvec, gridvec, gridvec,\n",
    "    sparse=True, indexing='ij')\n",
    "\n",
    "for Cor in range(CorLen):\n",
    "\n",
    "    TMSL = TMdata[Cor] # Snapshot Numbering\n",
    "\n",
    "    TMx = TMSL[0]\n",
    "    TMy = TMSL[1]\n",
    "    TMz = TMSL[2]\n",
    "\n",
    "    distarrayTM = ne.evaluate(\"((xarray-TMx)**2+(yarray-TMy)**2+(zarray-TMz)**2)**0.5\") # Radial coordinates\n",
    "    \n",
    "    mPhi = ne.evaluate(\"-a*mT/(a*distarrayTM+exp(-a*distarrayTM))\") # Potential Due to Test Mass\n",
    "\n",
    "    eUOffset[Cor] = VCell*(Density)*np.sum(mPhi)\n",
    "\n",
    "egpcmlistC = egpcmlist+eUOffset\n",
    "        "
   ]
  },
  {
   "cell_type": "code",
   "execution_count": null,
   "metadata": {
    "ExecuteTime": {
     "end_time": "2021-02-25T23:25:18.378358Z",
     "start_time": "2021-02-25T23:25:18.326312Z"
    }
   },
   "outputs": [],
   "source": [
    "print(LengthFS)\n",
    "\n",
    "print(VCell)\n",
    "\n",
    "print(Density)\n",
    "\n",
    "print(resol)"
   ]
  },
  {
   "cell_type": "code",
   "execution_count": null,
   "metadata": {
    "ExecuteTime": {
     "end_time": "2021-02-25T23:25:20.436499Z",
     "start_time": "2021-02-25T23:25:19.968855Z"
    }
   },
   "outputs": [],
   "source": [
    "plt.figure()\n",
    "plt.plot(egpcmlist)\n",
    "plt.plot(eUOffset)\n",
    "plt.ylim([-10e10,0])\n",
    "\n",
    "plt.figure()\n",
    "plt.plot(egpcmlist-0.4489470733644235*eUOffset)\n"
   ]
  },
  {
   "cell_type": "code",
   "execution_count": null,
   "metadata": {
    "ExecuteTime": {
     "end_time": "2021-02-20T00:31:08.374783Z",
     "start_time": "2021-02-20T00:31:08.349588Z"
    }
   },
   "outputs": [],
   "source": [
    "print(egpcmlist[0]/eUOffset[0])"
   ]
  },
  {
   "cell_type": "code",
   "execution_count": null,
   "metadata": {
    "ExecuteTime": {
     "end_time": "2021-02-20T00:38:22.767536Z",
     "start_time": "2021-02-20T00:38:22.738650Z"
    }
   },
   "outputs": [],
   "source": [
    "(144/192)**3"
   ]
  },
  {
   "cell_type": "code",
   "execution_count": null,
   "metadata": {
    "ExecuteTime": {
     "end_time": "2021-02-20T02:12:21.667503Z",
     "start_time": "2021-02-20T02:12:21.588585Z"
    }
   },
   "outputs": [],
   "source": [
    "resol\n",
    "a"
   ]
  },
  {
   "cell_type": "code",
   "execution_count": null,
   "metadata": {},
   "outputs": [],
   "source": [
    "\n",
    "egyarr = pyfftw.zeros_aligned((resol, resol, resol), dtype='float64')\n",
    "\n",
    "mPhi = pyfftw.zeros_aligned((resol, resol, resol), dtype='float64')\n",
    "\n",
    "# Gravitational potential energy density associated with the point masses potential\n",
    "\n",
    "egyarr = ne.evaluate('real((abs(psi))**2)')\n",
    "\n",
    "for MI in range(len(masslist)):\n",
    "\n",
    "    State = TMState[int(MI*6):int(MI*6+5)]\n",
    "\n",
    "    TMx = State[0]\n",
    "    TMy = State[1]\n",
    "    TMz = State[2]\n",
    "\n",
    "    mT = masslist[MI]\n",
    "\n",
    "    distarrayTM = ne.evaluate(\"((xarray-TMx)**2+(yarray-TMy)**2+(zarray-TMz)**2)**0.5\") # Radial coordinates\n",
    "\n",
    "mPhi = ne.evaluate(\"mPhi-a*mT/(a*distarrayTM+exp(-a*distarrayTM))\") # Potential Due to Test Mass\n",
    "\n",
    "phisp = ne.evaluate(\"phisp+a*mT/(a*distarrayTM+exp(-a*distarrayTM))\") # Restoring Self-Interaction\n",
    "\n",
    "\n",
    "egyarr = ne.evaluate('real(mPhi*egyarr)')\n",
    "\n",
    "egpcmlist.append(Vcell * np.sum(egyarr))\n"
   ]
  },
  {
   "cell_type": "code",
   "execution_count": null,
   "metadata": {
    "ExecuteTime": {
     "end_time": "2021-02-22T01:35:42.242369Z",
     "start_time": "2021-02-22T01:35:42.161579Z"
    }
   },
   "outputs": [],
   "source": [
    "# 1kpc, VS\n",
    "\n",
    "TotalED1V = TotalED\n",
    "TotalN1V = KSD + PSD"
   ]
  },
  {
   "cell_type": "code",
   "execution_count": null,
   "metadata": {
    "ExecuteTime": {
     "end_time": "2021-02-22T01:36:34.993859Z",
     "start_time": "2021-02-22T01:36:34.907609Z"
    }
   },
   "outputs": [],
   "source": [
    "# 1kpc\n",
    "\n",
    "TotalED1 = TotalED\n",
    "TotalN1 = KSD + PSD"
   ]
  },
  {
   "cell_type": "code",
   "execution_count": null,
   "metadata": {
    "ExecuteTime": {
     "end_time": "2021-02-22T01:37:01.991514Z",
     "start_time": "2021-02-22T01:37:01.909223Z"
    }
   },
   "outputs": [],
   "source": [
    "# 2kpc\n",
    "\n",
    "TotalED2 = TotalED\n",
    "TotalN2 = KSD + PSD"
   ]
  },
  {
   "cell_type": "code",
   "execution_count": null,
   "metadata": {
    "ExecuteTime": {
     "end_time": "2021-02-22T01:37:36.059720Z",
     "start_time": "2021-02-22T01:37:35.972836Z"
    }
   },
   "outputs": [],
   "source": [
    "# 4kpc\n",
    "\n",
    "TotalED4 = TotalED\n",
    "TotalN4 = KSD + PSD"
   ]
  },
  {
   "cell_type": "code",
   "execution_count": null,
   "metadata": {
    "ExecuteTime": {
     "end_time": "2021-02-22T01:37:59.321630Z",
     "start_time": "2021-02-22T01:37:59.203051Z"
    }
   },
   "outputs": [],
   "source": [
    "# 8kpc\n",
    "\n",
    "TotalED8 = TotalED\n",
    "TotalN8 = KSD + PSD"
   ]
  },
  {
   "cell_type": "code",
   "execution_count": null,
   "metadata": {
    "ExecuteTime": {
     "end_time": "2021-02-25T23:25:32.771028Z",
     "start_time": "2021-02-25T23:25:32.492929Z"
    }
   },
   "outputs": [],
   "source": [
    "mpl.style.use('seaborn-dark')\n",
    "\n",
    "fig = plt.figure(figsize= (8,5))\n",
    "ax = fig.add_subplot(111)\n",
    "\n",
    "\n",
    "plt.plot(TotalED1V[1:-1], '--', label = 'Change in Total Energy (1kpc Box, 8x Smoothing)')\n",
    "plt.plot(TotalN1V[1:-1], label = 'Change in BH Kinetic Energy')\n",
    "\n",
    "plt.plot(TotalED1[1:-1], '--', label = 'Change in Total Energy (1kpc Box)')\n",
    "plt.plot(TotalN1[1:-1], label = 'Change in BH Kinetic Energy')\n",
    "\n",
    "plt.plot(TotalED2[1:-1],  '--',label = 'Change in Total Energy (2kpc Box) ')\n",
    "plt.plot(TotalN2[1:-1], label = 'Change in BH Kinetic Energy')\n",
    "\n",
    "plt.plot(TotalED4[1:-1], '--', label = 'Change in Total Energy (4kpc Box)')\n",
    "plt.plot(TotalN4[1:-1], label = 'Change in BH Kinetic Energy')\n",
    "\n",
    "plt.plot(TotalED8[1:-1], '--', label = 'Change in Total Energy (8kpc Box)')\n",
    "plt.plot(TotalN8[1:-1], label = 'Change in BH Kinetic Energy')\n",
    "\n",
    "\n",
    "Tpt = np.arange(50)\n",
    "\n",
    "plt.plot(Tpt,0*Tpt,HelperStyle, label = '')\n",
    "\n",
    "plt.legend()\n",
    "\n",
    "plt.xlabel('Snapshot Number')\n",
    "plt.ylabel('$\\mathcal{M}\\mathcal{L}^2\\mathcal{T}^{-2}$')\n",
    "\n",
    "plt.tight_layout(pad=0.4, w_pad=0.5, h_pad=1.0)\n",
    "\n",
    "# plt.ylim([98,102])\n",
    "plt.title('Energy Changes in NBody, ULDM, and Total System')\n",
    "\n",
    "plt.show()"
   ]
  },
  {
   "cell_type": "code",
   "execution_count": null,
   "metadata": {},
   "outputs": [],
   "source": []
  }
 ],
 "metadata": {
  "celltoolbar": "Initialization Cell",
  "hide_input": false,
  "kernelspec": {
   "display_name": "Python 3",
   "language": "python",
   "name": "python3"
  },
  "language_info": {
   "codemirror_mode": {
    "name": "ipython",
    "version": 3
   },
   "file_extension": ".py",
   "mimetype": "text/x-python",
   "name": "python",
   "nbconvert_exporter": "python",
   "pygments_lexer": "ipython3",
   "version": "3.6.9"
  },
  "latex_envs": {
   "LaTeX_envs_menu_present": true,
   "autoclose": true,
   "autocomplete": true,
   "bibliofile": "biblio.bib",
   "cite_by": "apalike",
   "current_citInitial": 1,
   "eqLabelWithNumbers": true,
   "eqNumInitial": 1,
   "hotkeys": {
    "equation": "Ctrl-E",
    "itemize": "Ctrl-I"
   },
   "labels_anchors": false,
   "latex_user_defs": false,
   "report_style_numbering": false,
   "user_envs_cfg": false
  },
  "notify_time": "30",
  "toc": {
   "base_numbering": 1,
   "nav_menu": {
    "height": "664px",
    "width": "417px"
   },
   "number_sections": true,
   "sideBar": true,
   "skip_h1_title": false,
   "title_cell": "Table of Contents",
   "title_sidebar": "Contents",
   "toc_cell": false,
   "toc_position": {
    "height": "calc(100% - 180px)",
    "left": "10px",
    "top": "150px",
    "width": "384px"
   },
   "toc_section_display": true,
   "toc_window_display": true
  },
  "varInspector": {
   "cols": {
    "lenName": 16,
    "lenType": 16,
    "lenVar": 40
   },
   "kernels_config": {
    "python": {
     "delete_cmd_postfix": "",
     "delete_cmd_prefix": "del ",
     "library": "var_list.py",
     "varRefreshCmd": "print(var_dic_list())"
    },
    "r": {
     "delete_cmd_postfix": ") ",
     "delete_cmd_prefix": "rm(",
     "library": "var_list.r",
     "varRefreshCmd": "cat(var_dic_list()) "
    }
   },
   "types_to_exclude": [
    "module",
    "function",
    "builtin_function_or_method",
    "instance",
    "_Feature"
   ],
   "window_display": false
  }
 },
 "nbformat": 4,
 "nbformat_minor": 4
}
