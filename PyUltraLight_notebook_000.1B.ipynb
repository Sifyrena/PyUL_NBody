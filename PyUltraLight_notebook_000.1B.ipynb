{
 "cells": [
  {
   "cell_type": "markdown",
   "metadata": {},
   "source": [
    "# 000.0B -  PyUL_Floater_E Companion Notebook\n",
    "\n",
    "PyUltraLight with N-Body Addon\n",
    "\n",
    "New in this revision:\n",
    "\n",
    "- N-Body Simulation Using Identical Syntax as Soliton IV\n",
    "- Rudimentary interaction Models (Method = 1 and Method = 2)\n",
    "- (X) FieldGradient now optimised with numba\n",
    "- Field appropriately scaled for dynamics.\n",
    "- 2-Body Problem Example Scenarios (Parabola and Circular)\n",
    "- (P) Improved Movie Plotter Performance\n",
    "\n",
    "\n"
   ]
  },
  {
   "cell_type": "code",
   "execution_count": 1,
   "metadata": {
    "scrolled": true
   },
   "outputs": [
    {
     "name": "stdout",
     "output_type": "stream",
     "text": [
      "FW_KL : Do You Wish to Delete All Files Currently Stored In This Folder? [Y] \n",
      "\n",
      "N\n",
      "Folder Retained\n",
      "The current size of the folder is 420.976 Mib\n"
     ]
    }
   ],
   "source": [
    "import os\n",
    "\n",
    "save_path = 'FW_KL'  # Set output directory\n",
    "\n",
    "print(save_path,\": Do You Wish to Delete All Files Currently Stored In This Folder? [Y] \\n\")\n",
    "\n",
    "def get_size(start_path):\n",
    "    total_size = 0\n",
    "    for dirpath, dirnames, filenames in os.walk(start_path):\n",
    "        for f in filenames:\n",
    "            fp = os.path.join(dirpath, f)\n",
    "            # skip if it is symbolic link\n",
    "            if not os.path.islink(fp):\n",
    "                total_size += os.path.getsize(fp)\n",
    "\n",
    "    return total_size\n",
    "\n",
    "\n",
    "\n",
    "cleardir = str(input())\n",
    "\n",
    "if cleardir == 'Y':\n",
    "    import shutil \n",
    "    shutil.rmtree(save_path)\n",
    "    print(\"Folder Cleaned! \\n\")\n",
    "\n",
    "    \n",
    "try:\n",
    "    os.mkdir(save_path)\n",
    "    print(save_path,\": Save Folder Created.\")\n",
    "except FileExistsError:\n",
    "    if cleardir != 'Y':\n",
    "        print(\"Folder Retained\")\n",
    "    else:\n",
    "        print(save_path,\": File Already Exists!\")\n",
    "        \n",
    "print(\"The current size of the folder is\", round(get_size(save_path)/1024**2,3), 'Mib')"
   ]
  },
  {
   "cell_type": "code",
   "execution_count": 2,
   "metadata": {
    "scrolled": true
   },
   "outputs": [],
   "source": [
    "import numpy as np\n",
    "import matplotlib.pyplot as plt\n",
    "from mpl_toolkits.mplot3d import Axes3D\n",
    "import matplotlib.animation\n",
    "\n",
    "import PyUltraLight_Floater_Advanced\n",
    "import pyfftw\n",
    "import os\n",
    "import sys\n",
    "import multiprocessing\n",
    "import numpy\n",
    "import numba\n",
    "import h5py\n",
    "from matplotlib import cm\n",
    "\n",
    "import math\n",
    "\n",
    "from IPython.core.display import clear_output, display\n",
    "%matplotlib inline"
   ]
  },
  {
   "cell_type": "markdown",
   "metadata": {},
   "source": [
    "# PyUL Under the Hood FW"
   ]
  },
  {
   "cell_type": "code",
   "execution_count": 3,
   "metadata": {
    "scrolled": true
   },
   "outputs": [],
   "source": [
    "NS = 4 # (Min) Number of RK4 time steps for every Soliton update. \n",
    "\n",
    "# NS = 0 Switches on Explicit Euler Mode\n",
    "# NS = 4n Switches on Explicit RK4 for n times\n",
    "# For All Other NS Settings, scipy.integrate.solve_ivp with RK23 will be called.\n",
    "\n",
    "Method = 1 # 1 = Fourier Series Interpolation, 2 = Scipy.Interpolate.RegularGridInterpolator\n",
    "\n",
    "GridInfinityFix = False\n"
   ]
  },
  {
   "cell_type": "markdown",
   "metadata": {},
   "source": [
    "## Parabola Injector"
   ]
  },
  {
   "cell_type": "code",
   "execution_count": 4,
   "metadata": {},
   "outputs": [
    {
     "name": "stdout",
     "output_type": "stream",
     "text": [
      "Parameter loading skipped in this block.\n"
     ]
    }
   ],
   "source": [
    "## Init\n",
    "Parabola = False\n",
    "\n",
    "if Parabola:\n",
    "\n",
    "    m = 200 #1 code unit is ~2.3e6 M_sol (1e-22/m_a)^1.5\n",
    "    mS = 10 #Not doing much\n",
    "    r = 0.5 #1 code unit is ~38 kpc x (1e-22/m_a)^0.5\n",
    "\n",
    "    x0 = 2\n",
    "    y0 = 2\n",
    "\n",
    "    # Focal Point Is Origin\n",
    "    # y^2 = 4cx + 4c^2\n",
    "\n",
    "    c0 = 1/2*(-x0+np.sqrt(x0**2+y0**2))\n",
    "\n",
    "    v0 = np.sqrt(m/(2*np.sqrt(x0**2+y0**2))) #Correct\n",
    "\n",
    "    xDot0 = 1\n",
    "    yDot0 = 2*c0*xDot0/(y0)\n",
    "\n",
    "    vNorm = np.linalg.norm([xDot0,yDot0])\n",
    "\n",
    "    xDot0 = xDot0/vNorm*v0\n",
    "    yDot0 = yDot0/vNorm*v0\n",
    "\n",
    "    BH1 = [m,[x0,y0,0],[-xDot0,-yDot0,0]]\n",
    "    BH2 = [m,[-x0,-y0,0],[xDot0,yDot0,0]]\n",
    "    \n",
    "    particles = [BH1,BH2]\n",
    "\n",
    "\n",
    "    #Soliton parameters are mass, position, velocity and phase (radians)\n",
    "    soliton1 = [mS, [x0,y0,0],[-xDot0,-yDot0,0], 0]\n",
    "    soliton2 = [mS, [-x0,-y0,0],[xDot0,yDot0,0], 0]\n",
    "\n",
    "    solitonT = [mS, [0,0,0], [0,0,0], 0]\n",
    "\n",
    "    solitonC = [15, [0,0,0],[0,0,0], 0]\n",
    "\n",
    "    solitons = [soliton1,soliton2]\n",
    "    # solitons = []\n",
    "\n",
    "else:\n",
    "    print(\"Parameter loading skipped in this block.\")"
   ]
  },
  {
   "cell_type": "markdown",
   "metadata": {},
   "source": [
    "## Circular Orbit Injector"
   ]
  },
  {
   "cell_type": "code",
   "execution_count": 5,
   "metadata": {},
   "outputs": [
    {
     "name": "stdout",
     "output_type": "stream",
     "text": [
      "Parameter loading skipped in this block.\n"
     ]
    }
   ],
   "source": [
    "## Init\n",
    "Circular = False\n",
    "\n",
    "Ratio = 0.95\n",
    "\n",
    "Replace = False\n",
    "\n",
    "if Circular:\n",
    "\n",
    "    m1 = 125 #1 code unit is ~2.3e6 M_sol (1e-22/m_a)^1.5\n",
    "    \n",
    "    m2 = 125\n",
    "    \n",
    "    x1 = 0.2095\n",
    "    \n",
    "    x2 = x1/m2*m1 # Ensures Com Position\n",
    "    \n",
    "    xC = x1+x2\n",
    "    \n",
    "    yDot1 = np.sqrt(m2*x1/xC**2)\n",
    "    yDot2 = np.sqrt(m1*x2/xC**2)\n",
    "\n",
    "    if Replace:\n",
    "        \n",
    "        BH1 = [Ratio*m1,[x1,0,0],[0,yDot1,0]]\n",
    "        BH2 = [Ratio*m2,[-x2,0,0],[0,-yDot2,0]]\n",
    "    \n",
    "    else:\n",
    "        BH1 = [m1,[x1,0,0],[0,yDot1,0]]\n",
    "        BH2 = [m2,[-x2,0,0],[0,-yDot2,0]]\n",
    "    \n",
    "    \n",
    "    particles = [BH1,BH2]\n",
    "\n",
    "\n",
    "    #Soliton parameters are mass, position, velocity and phase (radians)\n",
    "    soliton1 = [(1-Ratio)*m1,[x1,0,0],[0,yDot1,0], 0]\n",
    "    soliton2 = [(1-Ratio)*m2,[-x2,0,0],[0,-yDot2,0],0]\n",
    "    \n",
    "    solitonC = [10,[0,0,0],[0,0,0],0]\n",
    "\n",
    "    #solitons = [soliton1,soliton2]\n",
    "\n",
    "    solitons = [solitonC]\n",
    "    \n",
    "\n",
    "else:\n",
    "    print(\"Parameter loading skipped in this block.\")"
   ]
  },
  {
   "cell_type": "markdown",
   "metadata": {},
   "source": [
    "## General Initial Settings"
   ]
  },
  {
   "cell_type": "code",
   "execution_count": null,
   "metadata": {},
   "outputs": [],
   "source": [
    "Singe_Mass_Trial = True\n",
    "\n",
    "if Singe_Mass_Trial:\n",
    "    \n",
    "    m = 4\n",
    "    mS = 0.1\n",
    "\n",
    "    r1 = 0.3\n",
    "    r2 = 0.6\n",
    "    r3 = 0.9\n",
    "    r4 = 1.2\n",
    "\n",
    "    BH1 = [mS,[r1,0,0],[0.,0,0]]\n",
    "\n",
    "\n",
    "    particles = [BH1]\n",
    "\n",
    "\n",
    "    #Soliton parameters are mass, position, velocity and phase (radians)\n",
    "    \n",
    "    soliton1 = [m, [0,0,0],[0,0,0], 0]\n",
    "\n",
    "\n",
    "    solitons = [soliton1]\n",
    "    #solitons = []\n",
    "\n",
    "\n",
    "    NumSol = len(solitons)\n",
    "else:\n",
    "    print(\"Parameter loading skipped in this block.\")"
   ]
  },
  {
   "cell_type": "code",
   "execution_count": null,
   "metadata": {},
   "outputs": [],
   "source": [
    "NumSol = len(solitons)\n",
    "\n",
    "print(NumSol)"
   ]
  },
  {
   "cell_type": "markdown",
   "metadata": {},
   "source": [
    "# Set Axion Mass (SI)"
   ]
  },
  {
   "cell_type": "code",
   "execution_count": null,
   "metadata": {
    "scrolled": true
   },
   "outputs": [],
   "source": [
    "axion_mass = 1e-22 *1.783e-36 #kg"
   ]
  },
  {
   "cell_type": "markdown",
   "metadata": {},
   "source": [
    "# Set Simulation Parameters"
   ]
  },
  {
   "cell_type": "code",
   "execution_count": null,
   "metadata": {
    "scrolled": true
   },
   "outputs": [],
   "source": [
    "# Set number of threads to target\n",
    "num_threads = multiprocessing.cpu_count()\n",
    "print(\"Available CPU threads for this run: \",num_threads)\n",
    "\n",
    "# Set units for soliton parameters\n",
    "s_mass_unit = ''     #Accepted units: 'kg', 'solar_masses', 'M_solar_masses', and '' for dimensionless units\n",
    "s_position_unit = '' #Accepted units: 'm', 'km', 'pc', 'kpc', 'Mpc', 'ly', and '' for dimensionless units\n",
    "s_velocity_unit = '' #Accepted units: 'm/s', 'km/s', 'km/h', and '' for dimensionless units\n",
    "\n",
    "# Rules ditto.\n",
    "m_mass_unit = ''\n",
    "m_position_unit = ''\n",
    "m_velocity_unit = ''\n",
    "\n",
    "# Set box size and resolution\n",
    "length = 4 # 1 code unit is ~38 kpc x (1e-22/m_a)^0.5\n",
    "length_units = ''  # Accepted units: 'm', 'km', 'pc', 'kpc', 'Mpc', 'ly', and '' for dimensionless units.\n",
    "resol= 64 # It is recommended to check the upper bound on soliton mass for a given box size and resolution\n",
    "duration = 0.1 #1 code unit is ~70 Gyr (independent of axion mass assumption)\n",
    "duration_units = ''  # Accepted units: 's', 'yr', 'kyr', 'Myr', and '' for dimensionless units\n",
    "start_time = 0.05 # Should be given in the same units as duration. \n",
    "central_mass = 0 # Give this parameter in the same units as the soliton mass unit. i.e. units must match with s_mass_unit\n",
    "\n",
    "#Data to save\n",
    "#0\n",
    "save_rho = False # Saves density data for entire 3D simulation grid\n",
    "#1\n",
    "save_psi = False # Saves full complex field data for entire 3D simulation grid\n",
    "#2\n",
    "save_plane = True # Saves density data for plane z = 0\n",
    "#3\n",
    "save_energies = True # Saves integrated gravitational, kinetic and total energies as lists\n",
    "#4\n",
    "save_line = False # Saves density data for line y = 0, z = 0. Useful for examining intereference patterns. \n",
    "## FW\n",
    "#5\n",
    "save_testmass = True # Saves trajectory and 3-velocity of a test mass thrown into the system. \n",
    "                    #Please see PyUL_Floater's code header for documentation.\n",
    "#Formats to save\n",
    "hdf5 = False\n",
    "npz = False\n",
    "npy = True\n",
    "\n",
    "step_factor = 1 # Change this to a larger number if velocities are sufficiently low that constraint on timestep can be relaxed. \n",
    "save_number = 840    # Choose number of 'frames' to save. Note that, depending on resolution, this could require significant disk space.\n",
    "\n",
    "\n",
    "save_options = [save_rho,save_psi,save_plane,save_energies,save_line,save_testmass]"
   ]
  },
  {
   "cell_type": "markdown",
   "metadata": {},
   "source": [
    "# Test Mass Energy Computation Snippets:"
   ]
  },
  {
   "cell_type": "code",
   "execution_count": null,
   "metadata": {
    "scrolled": true
   },
   "outputs": [],
   "source": [
    "# Removes Solitons in the IV and replaces them with a uniform wavefunction \n",
    "# with given probability amplitude (code unit).\n",
    "\n",
    "Uniform = False\n",
    "Density = 0.2\n",
    "\n"
   ]
  },
  {
   "cell_type": "markdown",
   "metadata": {},
   "source": [
    "# Run:"
   ]
  },
  {
   "cell_type": "code",
   "execution_count": null,
   "metadata": {
    "scrolled": false
   },
   "outputs": [],
   "source": [
    "try:\n",
    "    TimeStamp = PyUltraLight_Floater_Advanced.evolveF(central_mass, num_threads, length, length_units, resol, \n",
    "            duration, duration_units, step_factor, save_number, save_options,\n",
    "           save_path, npz, npy, hdf5, s_mass_unit, s_position_unit, s_velocity_unit, solitons,\n",
    "           start_time, m_mass_unit, m_position_unit, m_velocity_unit, particles, NS,GridInfinityFix,Method,\n",
    "                                           Uniform,Density)\n",
    "    \n",
    "except KeyboardInterrupt:\n",
    "    print(\"\\n Run Interrupted! The ability to resume simulations is under development.\")"
   ]
  },
  {
   "cell_type": "markdown",
   "metadata": {},
   "source": [
    "# Data Loading:\n"
   ]
  },
  {
   "cell_type": "code",
   "execution_count": null,
   "metadata": {
    "scrolled": true
   },
   "outputs": [],
   "source": [
    "output_animated = 1\n",
    "# 0 for all contours plotted on a single graph (useful when total number of saves is <=10), \n",
    "# 1 for an animation of plane ofa density contours (useful when number of saves is large, may take some time),\n",
    "# 2 for plot of energies over time, \n",
    "# 3 for animation of line along axis of symmetry (useful for studying interference patterns).\n",
    "save_plots = 0\n",
    "# 0 to display in this window without saving,\n",
    "# 1 to save as well (will save in 'Visualisations' directory).\n",
    "\n",
    "#######################################################################\n",
    "\n",
    "with open('{}{}'.format(save_path, '/timestamp.txt'), 'r') as timestamp:\n",
    "    ts = timestamp.read()\n",
    "\n",
    "loc = save_path + '/' + ts\n",
    "\n",
    "import time   \n",
    "import warnings \n",
    "warnings.filterwarnings(\"ignore\")\n",
    "plt.ioff()\n",
    "\n",
    "EndNum = 0\n",
    "data = []\n",
    "\n",
    "\n",
    "TMdata = []\n",
    "\n",
    "for x in np.arange(0,save_number+1,1):\n",
    "#for x in np.arange(0,550,1):    \n",
    "    \n",
    "    try:\n",
    "        data.append(np.load('{}{}{}{}'.format(loc, '/plane_#', x, '.npy')))\n",
    "        TMdata.append(np.load('{}{}{}{}'.format(loc, '/TM_#', x, '.npy')))\n",
    "        EndNum += 1\n",
    "    except FileNotFoundError:\n",
    "        \n",
    "        TimeStamp = ts\n",
    "        print(\"Run incomplete or the storage is corrupt.\\n\")\n",
    "\n",
    "        break\n",
    "        \n",
    "print(\"Loaded\", EndNum, \"Data Entries\")"
   ]
  },
  {
   "cell_type": "markdown",
   "metadata": {},
   "source": [
    "# 2D Trajectory Plot"
   ]
  },
  {
   "cell_type": "code",
   "execution_count": null,
   "metadata": {},
   "outputs": [],
   "source": [
    "plt.clf()\n",
    "\n",
    "fig = plt.figure(figsize=(24, 24))\n",
    "# debug\n",
    "import numexpr as ne\n",
    "import matplotlib as mpl\n",
    "\n",
    "Zoom2D = 1\n",
    "Boundary = length/(2*Zoom2D)\n",
    "\n",
    "ax = fig.add_subplot(111)\n",
    "mpl.style.use('seaborn')\n",
    "\n",
    "if Parabola:\n",
    "    yParaBola = np.linspace(-length/(2),length/(2),resol)\n",
    "    xParaBola = ne.evaluate(\"yParaBola**2/(4*c0)-c0\")\n",
    "\n",
    "    plt.plot(xParaBola,yParaBola)\n",
    "\n",
    "    plt.plot(-xParaBola,yParaBola)\n",
    "    \n",
    "'''  \n",
    "if Circular:\n",
    "    \n",
    "    tCirc = np.linspace(0,2*np.pi,200)\n",
    "\n",
    "    plt.plot(x1*np.cos(tCirc),x1*np.sin(tCirc),'-',color = (1,0.5,0,0.1))\n",
    "    plt.plot(x2*np.cos(tCirc),x2*np.sin(tCirc),'-',color = (1,0,0.5,0.1))\n",
    "'''\n",
    "\n",
    "\n",
    "plt.xlim([-Boundary,Boundary])\n",
    "plt.ylim([-Boundary,Boundary])\n",
    "\n",
    "\n",
    "ax.set_aspect('equal', adjustable='box')\n",
    "\n",
    "for i in range(EndNum):\n",
    "    \n",
    "    \n",
    "    TMStateLoc = TMdata[i]\n",
    "    \n",
    "    if i == 0:\n",
    "        for particleID in range(len(particles)):\n",
    "        \n",
    "            ColorID = particleID/len(particles) # 0, 0.5\n",
    "        \n",
    "            TMx = TMStateLoc[int(6*particleID)]\n",
    "            TMy = TMStateLoc[int(6*particleID+1)]\n",
    "            plt.plot([TMx],[TMy],'ko')\n",
    "        \n",
    "    \n",
    "    Alpha = 0.3+7*i/(10*EndNum)\n",
    "    \n",
    "    for particleID in range(len(particles)):\n",
    "        \n",
    "        ColorID = 0.2 # 0, 0.5\n",
    "        \n",
    "        TMx = TMStateLoc[int(6*particleID)]\n",
    "        TMy = TMStateLoc[int(6*particleID+1)]\n",
    "        plt.plot([TMx],[TMy],'.',color=(0.5,1*ColorID,0.6-ColorID,Alpha))\n",
    "        \n",
    "ax.grid(True)\n",
    "\n",
    "\n",
    "\n",
    "textstr = '\\n'.join((\n",
    "    TimeStamp,\n",
    "    r'Resolution: $%.0f^3$' % (resol, ),\n",
    "    r'Box Length: %.0f' % (length, ),\n",
    "    r'Method: %.0f @ %.0f Steps' % (Method,NS)))\n",
    "\n",
    "# these are matplotlib.patch.Patch properties\n",
    "props = dict(boxstyle='round', facecolor='wheat', alpha=0.5)\n",
    "\n",
    "# place a text box in upper left in axes coords\n",
    "ax.text(0, 0, textstr, transform=ax.transAxes, fontsize=18,\n",
    "        verticalalignment='bottom', bbox=props)\n",
    "\n",
    "plt.show()"
   ]
  },
  {
   "cell_type": "markdown",
   "metadata": {},
   "source": [
    "# Animation Panel"
   ]
  },
  {
   "cell_type": "code",
   "execution_count": null,
   "metadata": {
    "scrolled": false
   },
   "outputs": [],
   "source": [
    "try:\n",
    "    VTimeStamp = TimeStamp\n",
    "except NameError:\n",
    "    VTimeStamp = str('Debug')\n",
    "\n",
    "AnimName = '{}{}{}'.format(\"Anim3D_\",VTimeStamp,'.mp4')\n",
    "\n",
    "print(\"Saving \",AnimName)\n",
    "\n",
    "# Initialization\n",
    "fig = plt.figure(figsize=(8, 8))\n",
    "ax = fig.gca(projection='3d')\n",
    "\n",
    "ax.view_init(90, 0)\n",
    "\n",
    "PlotRange = np.linspace(-length/2, length/2,resol)\n",
    "\n",
    "zoom = 1\n",
    "\n",
    "FPS = 24 \n",
    "\n",
    "x3D, y3D = np.meshgrid(PlotRange,PlotRange)\n",
    "\n",
    "def animate(i):\n",
    "    fig.clear()\n",
    "    global FPS\n",
    "    \n",
    "    TMStateLoc = TMdata[i]\n",
    "    ax = fig.gca(projection='3d')\n",
    "\n",
    "    ax.view_init(90, 0)\n",
    "\n",
    "    ax.set_zlim3d(-length/2, length/2)\n",
    "    ax.set_ylim3d(-length/(2*zoom), length/(2*zoom))                    \n",
    "    ax.set_xlim3d(-length/(2*zoom), length/(2*zoom))\n",
    "\n",
    "    ax.set_xlabel('x')\n",
    "    ax.set_ylabel('y')\n",
    "\n",
    "\n",
    "    if NumSol != 0:\n",
    "        ax.contour(PlotRange,PlotRange,(data[i]),zdir='z', offset=0, cmap=cm.coolwarm)\n",
    "        \n",
    "        #ax.plot_surface(x3D,y3D,data[i],cmap=cm.coolwarm)\n",
    "    \n",
    "    for particleID in range(len(particles)):\n",
    "        TMx = TMStateLoc[int(6*particleID)]\n",
    "        TMy = TMStateLoc[int(6*particleID+1)]\n",
    "        TMz = TMStateLoc[int(6*particleID+2)]\n",
    "        \n",
    "        Vx = TMStateLoc[int(6*particleID+3)]\n",
    "        Vy = TMStateLoc[int(6*particleID+4)]\n",
    "        Vz = TMStateLoc[int(6*particleID+5)]\n",
    "        ax.plot([TMy],[TMx],[TMz],'ko')\n",
    "        ax.quiver([TMy],[TMx],[TMz],[Vy],[Vx],[Vz],length=length/(resol*zoom), normalize=False)\n",
    "    #ax.plot([TMS[i,0]],[TMS[i,1]],[TMS[i,2]],'ro')\n",
    "    \n",
    "    if i%FPS == 0 and i!= 0:\n",
    "        print('Animated %.0f seconds out of %.2f seconds of data.' % (i/FPS, EndNum/FPS))\n",
    "    plt.draw() \n",
    "\n",
    "Writer = matplotlib.animation.writers['ffmpeg']\n",
    "\n",
    "writer = Writer(fps=FPS, metadata=dict(artist='PyUltraLightF'))\n",
    "\n",
    "interval = 0.05 #in seconds\n",
    "\n",
    "ani = matplotlib.animation.FuncAnimation(fig,animate,EndNum,interval=interval*1e+3,blit=False)\n",
    "\n",
    "ani.save(AnimName, writer=writer)\n",
    " "
   ]
  },
  {
   "cell_type": "code",
   "execution_count": null,
   "metadata": {},
   "outputs": [],
   "source": [
    "from IPython.display import HTML\n",
    "\n",
    "HTML(\"\"\"\n",
    "    <video alt=\"test\" controls>\n",
    "        <source src=\"Anim3D_Debug.mp4\" type=\"video/mp4\">\n",
    "    </video>\n",
    "\"\"\")\n"
   ]
  },
  {
   "cell_type": "markdown",
   "metadata": {},
   "source": [
    "# Test Mass Energy Plot (2-Body Only)"
   ]
  },
  {
   "cell_type": "code",
   "execution_count": null,
   "metadata": {
    "scrolled": true
   },
   "outputs": [],
   "source": [
    "plt.clf()\n",
    "# 2Body Energy Savr \n",
    "ML = [m1,m2]\n",
    "KS = np.zeros(int(EndNum))\n",
    "PS = np.zeros(int(EndNum))\n",
    "\n",
    "for i in range(int(EndNum)):\n",
    "    \n",
    "    Data = TMdata[i]\n",
    "    \n",
    "    if len(particles) == 2:\n",
    "        r = Data[0:2] - Data[6:8]\n",
    "\n",
    "        rN = np.linalg.norm(r)\n",
    "    \n",
    "        PS[i] = -1*m1*m2/rN\n",
    "    \n",
    "    for particleID in range(len(particles)):\n",
    "        Vx = Data[int(6*particleID+3)]\n",
    "        Vy = Data[int(6*particleID+4)]\n",
    "        Vz = Data[int(6*particleID+5)]\n",
    "        \n",
    "        KS[i] = KS[i] + 1/2*ML[particleID]*(Vx**2+Vy**2+Vz**2) \n",
    "\n",
    "Tp = np.linspace(0,EndNum,EndNum)    \n",
    "\n",
    "plt.figure()\n",
    "plt.plot(Tp,KS,label = '$\\sum E_k$')\n",
    "\n",
    "if len(particles) == 2:\n",
    "    plt.plot(Tp,PS,label = '$\\sum E_p$')\n",
    "    plt.plot(Tp,PS+KS,'-', label = '$E_k + E_p$')\n",
    "plt.plot(Tp,0*Tp,'k--')\n",
    "plt.title('Energy of Test Masses')\n",
    "plt.xlabel('Snapshot Number')\n",
    "plt.ylabel('$m_{Code}l_{Code}^2/t_{Code}^2$')\n",
    "plt.legend()\n",
    "plt.show()\n",
    "    \n"
   ]
  },
  {
   "cell_type": "code",
   "execution_count": null,
   "metadata": {
    "scrolled": true
   },
   "outputs": [],
   "source": []
  },
  {
   "cell_type": "code",
   "execution_count": null,
   "metadata": {
    "scrolled": true
   },
   "outputs": [],
   "source": [
    "egylist = np.load('{}{}'.format(loc, '/egylist.npy')).tolist()\n",
    "egpcmlist = np.load('{}{}'.format(loc, '/egpcmlist.npy')).tolist()\n",
    "egpsilist = np.load('{}{}'.format(loc, '/egpsilist.npy')).tolist()\n",
    "ekandqlist = np.load('{}{}'.format(loc, '/ekandqlist.npy')).tolist()\n",
    "masslist = np.load('{}{}'.format(loc, '/masslist.npy')).tolist()\n",
    "plt.plot(egylist,label='Total')\n",
    "plt.plot(egpcmlist,label='$E_{GP}$ (central potential)')\n",
    "plt.plot(egpsilist,label='$E_{GP}$ (self-interaction)')\n",
    "plt.plot(ekandqlist,label='$E_{K}+E_{Q}$')\n",
    "plt.legend(loc='upper center', bbox_to_anchor=(0.5, 1.3), frameon=False, ncol=2)\n",
    "plt.axes().get_xaxis().set_ticks([])\n",
    "plt.ylabel('Energy')\n",
    "plt.xlabel('Time')\n",
    "plt.tight_layout(pad=0.4, w_pad=0.5, h_pad=1.0)\n",
    "\n",
    "plt.savefig('./Visualisations/energy_diagram.eps', format='eps', dpi=1000)\n",
    "plt.savefig('./Visualisations/energy_diagram.jpg', format='jpg', dpi=1000)\n",
    "plt.show()\n"
   ]
  },
  {
   "cell_type": "code",
   "execution_count": null,
   "metadata": {
    "scrolled": true
   },
   "outputs": [],
   "source": []
  }
 ],
 "metadata": {
  "kernelspec": {
   "display_name": "Python 3",
   "language": "python",
   "name": "python3"
  },
  "language_info": {
   "codemirror_mode": {
    "name": "ipython",
    "version": 3
   },
   "file_extension": ".py",
   "mimetype": "text/x-python",
   "name": "python",
   "nbconvert_exporter": "python",
   "pygments_lexer": "ipython3",
   "version": "3.6.9"
  }
 },
 "nbformat": 4,
 "nbformat_minor": 4
}
