{
 "cells": [
  {
   "cell_type": "markdown",
   "metadata": {},
   "source": [
    "# 000.12 -  PyUL_NBody Final Edition New Draft\n",
    "\n",
    "## Document Created: Mon, 14 Sept 2020\n",
    "## Internal\n",
    "\n",
    "PyUltraLight with N-Body Addon\n",
    "\n",
    "- Merged Notebook Improvements from 000.10\n",
    "\n",
    "- N-Body Simulation Using Identical Syntax as Soliton IV\n",
    "- Rudimentary interaction Models (Method = 1 and Method = 2)\n",
    "- Field appropriately scaled for dynamics.\n",
    "- Pre-Computed 2-Body Problem Example Scenarios (Parabola and Circular)\n",
    "- Improved Movie Plotter Performance (Output to File or Inline)\n",
    "- New 3d Volumetric Visualization (needs plotly)\n",
    "\n",
    "\n"
   ]
  },
  {
   "cell_type": "markdown",
   "metadata": {},
   "source": [
    "# Housekeeping:"
   ]
  },
  {
   "cell_type": "code",
   "execution_count": 3,
   "metadata": {
    "scrolled": true
   },
   "outputs": [
    {
     "name": "stdout",
     "output_type": "stream",
     "text": [
      "FW_NBody : The current size of the folder is 0.0 Mib\n",
      "FW_NBody : Do You Wish to Delete All Files Currently Stored In This Folder? [Y] \n",
      "\n",
      "Y\n",
      "Folder Cleaned! \n",
      "\n",
      "FW_NBody : Save Folder Created.\n"
     ]
    }
   ],
   "source": [
    "import os\n",
    "\n",
    "save_path = 'FW_NBody'  # Set output directory\n",
    "\n",
    "\n",
    "def get_size(start_path):\n",
    "    total_size = 0\n",
    "    for dirpath, dirnames, filenames in os.walk(start_path):\n",
    "        for f in filenames:\n",
    "            fp = os.path.join(dirpath, f)\n",
    "            # skip if it is symbolic link\n",
    "            if not os.path.islink(fp):\n",
    "                total_size += os.path.getsize(fp)\n",
    "\n",
    "    return total_size\n",
    "\n",
    "print(save_path,\": The current size of the folder is\", round(get_size(save_path)/1024**2,3), 'Mib')\n",
    "\n",
    "print(save_path,\": Do You Wish to Delete All Files Currently Stored In This Folder? [Y] \\n\")\n",
    "\n",
    "\n",
    "cleardir = str(input())\n",
    "\n",
    "if cleardir == 'Y':\n",
    "    import shutil \n",
    "    shutil.rmtree(save_path)\n",
    "    print(\"Folder Cleaned! \\n\")\n",
    "\n",
    "try:\n",
    "    os.mkdir(save_path)\n",
    "    print(save_path,\": Save Folder Created.\")\n",
    "except FileExistsError:\n",
    "    if cleardir != 'Y':\n",
    "        print(\"Folder Retained\")\n",
    "    else:\n",
    "        print(save_path,\": File Already Exists!\")"
   ]
  },
  {
   "cell_type": "code",
   "execution_count": 4,
   "metadata": {
    "scrolled": true
   },
   "outputs": [
    {
     "name": "stdout",
     "output_type": "stream",
     "text": [
      "PyUltralight: Integrator Date 2020 09 17, Compiled For 000.12.2\n"
     ]
    }
   ],
   "source": [
    "import numpy as np\n",
    "import matplotlib.pyplot as plt\n",
    "from mpl_toolkits.mplot3d import Axes3D\n",
    "import matplotlib.animation\n",
    "\n",
    "import PyUltraLight_NS as PyUL\n",
    "print('PyUltralight: Integrator Date', PyUL.D_version())\n",
    "\n",
    "import pyfftw\n",
    "import os\n",
    "import sys\n",
    "import multiprocessing\n",
    "import numpy\n",
    "import numba\n",
    "import h5py\n",
    "from matplotlib import cm\n",
    "\n",
    "import math\n",
    "\n",
    "from IPython.core.display import clear_output, display\n",
    "%matplotlib inline"
   ]
  },
  {
   "cell_type": "markdown",
   "metadata": {},
   "source": [
    "# Set Axion Mass (SI)"
   ]
  },
  {
   "cell_type": "code",
   "execution_count": 5,
   "metadata": {
    "scrolled": true
   },
   "outputs": [],
   "source": [
    "axion_mass = 1e-22 *1.783e-36 #kg"
   ]
  },
  {
   "cell_type": "markdown",
   "metadata": {},
   "source": [
    "# ULDM Simulation Parameters"
   ]
  },
  {
   "cell_type": "code",
   "execution_count": 7,
   "metadata": {
    "scrolled": true
   },
   "outputs": [
    {
     "name": "stdout",
     "output_type": "stream",
     "text": [
      "Available CPU threads for this run:  16\n",
      "Simulation Grid Resolution: 256 cubed\n"
     ]
    }
   ],
   "source": [
    "# Set number of threads to target\n",
    "num_threads = multiprocessing.cpu_count()\n",
    "print(\"Available CPU threads for this run: \",num_threads)\n",
    "\n",
    "# Set units for soliton parameters\n",
    "s_mass_unit = ''     #Accepted units: 'kg', 'solar_masses', 'M_solar_masses', and '' for dimensionless units\n",
    "s_position_unit = '' #Accepted units: 'm', 'km', 'pc', 'kpc', 'Mpc', 'ly', and '' for dimensionless units\n",
    "s_velocity_unit = '' #Accepted units: 'm/s', 'km/s', 'km/h', and '' for dimensionless units\n",
    "\n",
    "# Rules ditto.\n",
    "m_mass_unit = ''\n",
    "m_position_unit = ''\n",
    "m_velocity_unit = ''\n",
    "\n",
    "# Set box size and resolution\n",
    "length = 16 # 1 code unit is ~38 kpc x (1e-22/m_a)^0.5\n",
    "length_units = ''  # Accepted units: 'm', 'km', 'pc', 'kpc', 'Mpc', 'ly', and '' for dimensionless units.\n",
    "\n",
    "resolN = int(8) # 6 -> 64, 7 -> 128, 8 -> 256, 9 -> 512, 10 -> Explosion\n",
    "\n",
    "resol= int(2**resolN)# It is recommended to check the upper bound on soliton mass for a given box size and resolution\n",
    "\n",
    "print(\"Simulation Grid Resolution:\", resol, 'cubed')\n",
    "\n",
    "duration = 3 #1 code unit is ~70 Gyr (independent of axion mass assumption)\n",
    "duration_units = ''  # Accepted units: 's', 'yr', 'kyr', 'Myr', and '' for dimensionless units\n",
    "start_time = 0.05 # Should be given in the same units as duration. \n",
    "\n",
    "#Data to save\n",
    "#0\n",
    "save_rho = False # Saves density data for entire 3D simulation grid\n",
    "#1\n",
    "save_psi = False # Saves full complex field data for entire 3D simulation grid\n",
    "#2\n",
    "save_plane = True # Saves density data for plane z = 0\n",
    "#3\n",
    "save_energies = True # Saves integrated gravitational, kinetic and total energies as lists\n",
    "#4\n",
    "save_line = False # Saves density data for line y = 0, z = 0. Useful for examining intereference patterns. \n",
    "\n",
    "## FW\n",
    "#5\n",
    "save_testmass = True # Saves trajectory and 3-velocity of a test mass thrown into the system.   \n",
    "#6\n",
    "save_phi = False\n",
    "#7\n",
    "save_phi_plane = True\n",
    "\n",
    "#Formats to save\n",
    "hdf5 = False\n",
    "npz = False\n",
    "npy = True\n",
    "\n",
    "step_factor = 1 # Change this to a larger number if velocities are sufficiently low that constraint on timestep can be relaxed. \n",
    "save_number = 420    # Choose number of 'frames' to save. Note that, depending on resolution, this could require significant disk space.\n",
    "\n",
    "\n",
    "save_options = [save_rho,save_psi,save_plane,save_energies,save_line,save_testmass,save_phi,save_phi_plane]"
   ]
  },
  {
   "cell_type": "markdown",
   "metadata": {},
   "source": [
    "# NBody Simulation Parameters:"
   ]
  },
  {
   "cell_type": "code",
   "execution_count": 8,
   "metadata": {
    "scrolled": true
   },
   "outputs": [],
   "source": [
    "# Nothing Goes Here For 000.12"
   ]
  },
  {
   "cell_type": "markdown",
   "metadata": {},
   "source": [
    "# ULDM Initial Condition Modifier\n",
    "If Uniform is set to true, this block overrides all solitons you put there"
   ]
  },
  {
   "cell_type": "code",
   "execution_count": 9,
   "metadata": {
    "scrolled": true
   },
   "outputs": [],
   "source": [
    "# Removes Solitons in the IV and replaces them with a uniform wavefunction \n",
    "# with given probability amplitude (code unit).\n",
    "\n",
    "Uniform = True\n",
    "Density = 0.1\n",
    "\n",
    "central_mass = 0\n",
    "\n",
    " "
   ]
  },
  {
   "cell_type": "markdown",
   "metadata": {},
   "source": [
    "# Gravitational Field Smoothing\n",
    "Instead of coding in the idealistic $\\frac{m}{r}$ potential, we approximate with $\\frac{am}{ar+e^{-ar}}$. Over the length of the block. The smoothing factor, $a$, is also defined here.\n",
    "\n",
    "The modified potential is a useful approximation of a point mass in a distance.\n",
    "\n",
    "The differences between the two potentials are characterised in the following box."
   ]
  },
  {
   "cell_type": "code",
   "execution_count": 10,
   "metadata": {},
   "outputs": [
    {
     "data": {
      "image/png": "[encoded data removed]",
      "text/plain": [
       "<matplotlib.figure.Figure at 0x7fc674e1a9e8>"
      ]
     },
     "metadata": {},
     "output_type": "display_data"
    },
    {
     "name": "stdout",
     "output_type": "stream",
     "text": [
      "\n",
      "========================\n",
      "\n",
      "Radius outside which the fields are practically indistinguishable: 2.293\n",
      "\n",
      "This is about 73.4 simulation grids per Cartesian axis\n",
      "\n",
      "========================\n",
      "\n",
      "Modified Potential HWHM: 0.930\n",
      "\n",
      "This is about 29.8 simulation grids per Cartesian axis\n"
     ]
    }
   ],
   "source": [
    "a = 2\n",
    "\n",
    "fig_grav = plt.figure(figsize=(10, 10))\n",
    "\n",
    "ax1 = plt.subplot(211)\n",
    "ax2 = plt.subplot(212)\n",
    "\n",
    "rR = np.linspace(1e-10,length/2,500)\n",
    "\n",
    "GOrig = -1/rR\n",
    "\n",
    "GMod = -a*1/(a*rR+np.exp(-a*rR))\n",
    "\n",
    "GDiff = - GOrig + GMod\n",
    "\n",
    "BoundaryEn = next(x for x, val in enumerate(GDiff) if val < 1e-3)\n",
    "rS = rR[BoundaryEn]\n",
    "\n",
    "BoundaryEx = next(x for x, val in enumerate(GMod) if val > -a/2)\n",
    "rQ = rR[BoundaryEx]\n",
    "\n",
    "ax1.plot(rR,GOrig,'k--',label = 'Point Potential')\n",
    "\n",
    "ax1.plot([rS,rS],[2,-100],'r.-')\n",
    "ax1.plot([rQ,rQ],[2,-100],'b.-')\n",
    "\n",
    "\n",
    "ax1.plot(rR,GMod,'g-',label = 'Modified Potential')\n",
    "\n",
    "ax1.set_ylim([-1.5*a,0])\n",
    "\n",
    "ax1.legend()\n",
    "\n",
    "ax1.set_ylabel('$\\propto$Energy')\n",
    "ax1.grid()\n",
    "\n",
    "ax2.semilogy(rR,(GDiff),'g-')\n",
    "ax2.set_xlabel('Radial distance from origin ($\\mathcal{L}$)')\n",
    "ax2.set_ylabel('Difference')\n",
    "ax2.semilogy([rS,rS],[1e2,1e-16],'r.-')\n",
    "ax2.semilogy([rQ,rQ],[1e2,1e-16],'b.-')\n",
    "ax2.grid()\n",
    "\n",
    "plt.show()\n",
    "\n",
    "\n",
    "print('\\n========================\\n')\n",
    "print(\"Radius outside which the fields are practically indistinguishable: %.3f\\n\" % rS)\n",
    "print(\"This is about %.1f simulation grids per Cartesian axis\" % ((2*rS)/float(length/resol))**1)\n",
    "\n",
    "print('\\n========================\\n')\n",
    "print(\"Modified Potential HWHM: %.3f\\n\" % rQ)\n",
    "print(\"This is about %.1f simulation grids per Cartesian axis\" % ((2*rQ)/float(length/resol))**1)"
   ]
  },
  {
   "cell_type": "markdown",
   "metadata": {},
   "source": [
    "# Load Example Scenarios:\n",
    "\n",
    "Just run the following blocks, and \"False\" scenarios will automatically skip.\n",
    "\n",
    "If you want to specify your own settings, please set \"Single_Mass_Trial\" to True."
   ]
  },
  {
   "cell_type": "code",
   "execution_count": 11,
   "metadata": {},
   "outputs": [],
   "source": [
    "Parabola = False\n",
    "Circular = False\n",
    "Singe_Mass_Trial = True\n",
    "\n",
    "Ratio = 0.8"
   ]
  },
  {
   "cell_type": "markdown",
   "metadata": {},
   "source": [
    "## Parabola Injector\n",
    "\n",
    "Describes two masses (soliton or BH or hybrid) with equal mass approaching each other on the $x-y$ plane.\n",
    "\n",
    "You can specify the $(x_0,y_0)$ value, as well as their masses.\n",
    "\n",
    "The rest of the initial conditions will then be automatically computed."
   ]
  },
  {
   "cell_type": "code",
   "execution_count": 12,
   "metadata": {},
   "outputs": [
    {
     "name": "stdout",
     "output_type": "stream",
     "text": [
      "Parameter loading skipped in this block.\n"
     ]
    }
   ],
   "source": [
    "## Init\n",
    "if Parabola:\n",
    "\n",
    "    m = 10 #1 code unit is ~2.3e6 M_sol (1e-22/m_a)^1.5\n",
    "    r = 0.5 #1 code unit is ~38 kpc x (1e-22/m_a)^0.5\n",
    "\n",
    "    x0 = 2\n",
    "    y0 = 2\n",
    "    \n",
    "    m1 = m\n",
    "    m2 = m\n",
    "\n",
    "    # Focal Point Is Origin\n",
    "    # y^2 = 4cx + 4c^2\n",
    "\n",
    "    c0 = 1/2*(-x0+np.sqrt(x0**2+y0**2))\n",
    "\n",
    "    v0 = np.sqrt(m/(2*np.sqrt(x0**2+y0**2))) #Correct\n",
    "\n",
    "    xDot0 = 1\n",
    "    yDot0 = 2*c0*xDot0/(y0)\n",
    "\n",
    "    vNorm = np.linalg.norm([xDot0,yDot0])\n",
    "\n",
    "    xDot0 = xDot0/vNorm*v0\n",
    "    yDot0 = yDot0/vNorm*v0\n",
    "\n",
    "    BH1 = [m,[x0,y0,0],[-xDot0,-yDot0,0]]\n",
    "    BH2 = [m,[-x0,-y0,0],[xDot0,yDot0,0]]\n",
    "    \n",
    "    \n",
    "    BHT = [0,[0,0,0],[0,0,0]]\n",
    "    particles = [BH1,BH2]\n",
    "\n",
    "\n",
    "    #Soliton parameters are mass, position, velocity and phase (radians)\n",
    "    soliton1 = [m, [x0,y0,0],[-xDot0,-yDot0,0], 0]\n",
    "    soliton2 = [m, [-x0,-y0,0],[xDot0,yDot0,0], 0]\n",
    "\n",
    "    solitons = [soliton1,soliton2]\n",
    "    # solitons = []\n",
    "\n",
    "else:\n",
    "    print(\"Parameter loading skipped in this block.\")"
   ]
  },
  {
   "cell_type": "markdown",
   "metadata": {},
   "source": [
    "## Circular Orbit Injector\n",
    "\n",
    "Describes two masses (soliton or BH or hybrid) with arbitrary masses orbiting each other on the $x-y$ plane.\n",
    "\n",
    "You can specify the initial separation, as well as their individual masses.\n",
    "\n",
    "The rest of the initial conditions will then be automatically computed."
   ]
  },
  {
   "cell_type": "code",
   "execution_count": 13,
   "metadata": {},
   "outputs": [
    {
     "name": "stdout",
     "output_type": "stream",
     "text": [
      "Parameter loading skipped in this block.\n"
     ]
    }
   ],
   "source": [
    "if Circular:\n",
    "\n",
    "    m1 = 50 #1 code unit is ~2.3e6 M_sol (1e-22/m_a)^1.5\n",
    "    \n",
    "    m2 = 25\n",
    "    \n",
    "    x1 = 0.8\n",
    "    \n",
    "    x2 = x1/m2*m1 # Ensures Com Position\n",
    "    \n",
    "    xC = x1+x2\n",
    "    \n",
    "    yDot1 = np.sqrt(m2*x1/xC**2)\n",
    "    yDot2 = np.sqrt(m1*x2/xC**2)\n",
    "\n",
    "           \n",
    "    BH1 = [m1,[x1,0,0],[0,yDot1,0]]\n",
    "    BH2 = [m2,[-x2,0,0],[0,-yDot2,0]]\n",
    "    \n",
    "    \n",
    "    \n",
    "    particles = [BH1,BH2]\n",
    "\n",
    "\n",
    "    #Soliton parameters are mass, position, velocity and phase (radians)\n",
    "    \n",
    "    soliton1 = [(1-Ratio)*m1,[x1,0,0],[0,yDot1,0], 0]\n",
    "    soliton2 = [(1-Ratio)*m2,[-x2,0,0],[0,-yDot2,0],0]\n",
    "    \n",
    "    solitonC = [10,[0,0,0],[0,0,0],0]\n",
    "\n",
    "    solitons = [soliton1,soliton2]\n",
    "\n",
    "    #solitons = [solitonC]\n",
    "    \n",
    "\n",
    "else:\n",
    "    print(\"Parameter loading skipped in this block.\")"
   ]
  },
  {
   "cell_type": "markdown",
   "metadata": {},
   "source": [
    "## General Initial Settings"
   ]
  },
  {
   "cell_type": "code",
   "execution_count": 14,
   "metadata": {},
   "outputs": [],
   "source": [
    "if Singe_Mass_Trial:\n",
    "    \n",
    "    central_mass = 0\n",
    "    \n",
    "    m1 = 10\n",
    "    \n",
    "    mS = 6\n",
    "    \n",
    "    r = 0.95\n",
    "    v = np.sqrt(mS/r)\n",
    "    \n",
    "    BH1 = [m1,[r,0,0],[0,v,0]]\n",
    "    \n",
    "    BH2 = [m1,[-0.5,0,0],[3,0,0]]\n",
    "\n",
    "    particles = [BH2]\n",
    "\n",
    "    #Soliton parameters are mass, position, velocity and phase (radians)\n",
    "    \n",
    "    soliton1 = [mS, [0,0,0],[0,0,0], 0]\n",
    "\n",
    "\n",
    "    solitons = [soliton1]\n",
    "    #solitons = []\n",
    "\n",
    "\n",
    "    NumSol = len(solitons)\n",
    "else:\n",
    "    print(\"Parameter loading skipped in this block.\")"
   ]
  },
  {
   "cell_type": "markdown",
   "metadata": {},
   "source": [
    "# Execution and Data Loading:"
   ]
  },
  {
   "cell_type": "code",
   "execution_count": null,
   "metadata": {
    "scrolled": false
   },
   "outputs": [],
   "source": [
    "data = []\n",
    "TMdata = []\n",
    "phidata = []\n",
    "\n",
    "def Load_Data():\n",
    "    \n",
    "    with open('{}{}'.format(save_path, '/timestamp.txt'), 'r') as timestamp:\n",
    "        ts = timestamp.read()\n",
    "        print('PyUL NBody: Loading Folder',ts)\n",
    "\n",
    "    loc = save_path + '/' + ts\n",
    "\n",
    "\n",
    "    import time   \n",
    "    import warnings \n",
    "    warnings.filterwarnings(\"ignore\")\n",
    "    plt.ioff()\n",
    "\n",
    "    EndNum = 0\n",
    "    \n",
    "    global data, TMdata, phidata\n",
    "    \n",
    "    if save_plane:\n",
    "        print('PyUL NBody: Loaded Planar Mass Density Data \\n')\n",
    "    if save_testmass:\n",
    "        print('PyUL NBody: Loaded Test Mass State Data \\n')\n",
    "    if save_phi_plane:\n",
    "        print('PyUL NBody: Loaded Planar Gravitational Field Data \\n')\n",
    "\n",
    "\n",
    "    \n",
    "    for x in np.arange(0,save_number+1,1):\n",
    "    #for x in np.arange(0,550,1):    \n",
    "    \n",
    "        try:\n",
    "            if save_plane:\n",
    "\n",
    "                data.append(np.load('{}{}{}{}'.format(loc, '/plane_#', x, '.npy')))\n",
    "            if save_testmass:\n",
    "\n",
    "                TMdata.append(np.load('{}{}{}{}'.format(loc, '/TM_#', x, '.npy')))\n",
    "            if save_phi_plane:\n",
    "\n",
    "                phidata.append(np.load('{}{}{}{}'.format(loc, '/Field2D_#', x, '.npy')))\n",
    "            \n",
    "            EndNum += 1\n",
    "        \n",
    "        except FileNotFoundError:\n",
    "        \n",
    "            TimeStamp = ts\n",
    "            print(\"WARNING: Run incomplete or the storage is corrupt!\")\n",
    "\n",
    "            break\n",
    "        \n",
    "    print(\"PyUL NBody: Loaded\", EndNum, \"Data Entries\")\n",
    "    return EndNum\n",
    "\n",
    "try:\n",
    "    TimeStamp = PyUL.evolve(central_mass, num_threads, length, length_units, \n",
    "            resol, duration, duration_units, step_factor, \n",
    "            save_number, save_options, save_path, npz, npy, hdf5, \n",
    "            s_mass_unit, s_position_unit, s_velocity_unit, solitons,\n",
    "            start_time, m_mass_unit, m_position_unit, m_velocity_unit, particles,\n",
    "            Uniform,Density,a)\n",
    "    \n",
    "    \n",
    "    EndNum = Load_Data()\n",
    "    \n",
    "except KeyboardInterrupt:\n",
    "    print(\"\\n Run Interrupted! The ability to resume simulations is under development.\")\n",
    "    EndNum = Load_Data()"
   ]
  },
  {
   "cell_type": "markdown",
   "metadata": {},
   "source": [
    "# 2D Trajectory Plot"
   ]
  },
  {
   "cell_type": "code",
   "execution_count": null,
   "metadata": {
    "scrolled": false
   },
   "outputs": [],
   "source": [
    "try:\n",
    "    TSD = TimeStamp\n",
    "except NameError:\n",
    "    TimeStamp = 'Debug'\n",
    "\n",
    "plt.clf()\n",
    "\n",
    "fig = plt.figure(figsize=(24, 24))\n",
    "# debug\n",
    "import numexpr as ne\n",
    "import matplotlib as mpl\n",
    "\n",
    "Zoom2D = 7\n",
    "Boundary = length/(2*Zoom2D)\n",
    "\n",
    "ax = fig.add_subplot(111)\n",
    "mpl.style.use('seaborn')\n",
    "\n",
    "if Parabola:\n",
    "    yParaBola = np.linspace(-length/(2),length/(2),resol)\n",
    "    xParaBola = ne.evaluate(\"yParaBola**2/(4*c0)-c0\")\n",
    "\n",
    "    plt.plot(xParaBola,yParaBola)\n",
    "\n",
    "    plt.plot(-xParaBola,yParaBola)\n",
    "    \n",
    "\n",
    "if Circular:\n",
    "    \n",
    "    tCirc = np.linspace(0,2*np.pi,200)\n",
    "\n",
    "    plt.plot(x1*np.cos(tCirc),x1*np.sin(tCirc),'-',color = (1,0.5,0,0.1))\n",
    "    plt.plot(x2*np.cos(tCirc),x2*np.sin(tCirc),'-',color = (1,0,0.5,0.1))\n",
    "\n",
    "\n",
    "\n",
    "plt.xlim([-Boundary,Boundary])\n",
    "plt.ylim([-Boundary,Boundary])\n",
    "\n",
    "\n",
    "ax.set_aspect('equal', adjustable='box')\n",
    "\n",
    "for i in range(EndNum):\n",
    "    \n",
    "    \n",
    "    TMStateLoc = TMdata[i]\n",
    "    \n",
    "    if i == 0:\n",
    "        for particleID in range(len(particles)):\n",
    "        \n",
    "            ColorID = particleID/len(particles) # 0, 0.5\n",
    "        \n",
    "            TMx = TMStateLoc[int(6*particleID)]\n",
    "            TMy = TMStateLoc[int(6*particleID+1)]\n",
    "            plt.plot([TMx],[TMy],'ko')\n",
    "        \n",
    "    \n",
    "    Alpha = 0.3+7*i/(10*EndNum)\n",
    "    \n",
    "    for particleID in range(len(particles)):\n",
    "        \n",
    "        ColorID = 0.2 # 0, 0.5\n",
    "        \n",
    "        TMx = TMStateLoc[int(6*particleID)]\n",
    "        TMy = TMStateLoc[int(6*particleID+1)]\n",
    "        plt.plot([TMx],[TMy],'.',color=(0.5,1*ColorID,0.6-ColorID,Alpha))\n",
    "        \n",
    "ax.grid(True)\n",
    "\n",
    "\n",
    "\n",
    "textstr = '\\n'.join((\n",
    "    TimeStamp,\n",
    "    r'Resolution: $%.0f^3$' % (resol, ),\n",
    "    r'Box Length: %.0f' % (length, ),\n",
    "    r'Method: %.0f @ %.0f Steps' % (1,1)))\n",
    "\n",
    "# these are matplotlib.patch.Patch properties\n",
    "props = dict(boxstyle='round', facecolor='wheat', alpha=0.5)\n",
    "\n",
    "# place a text box in upper left in axes coords\n",
    "ax.text(0, 0, textstr, transform=ax.transAxes, fontsize=18,\n",
    "        verticalalignment='bottom', bbox=props)\n",
    "\n",
    "plt.show()"
   ]
  },
  {
   "cell_type": "markdown",
   "metadata": {},
   "source": [
    "# 2D Animation Panel"
   ]
  },
  {
   "cell_type": "code",
   "execution_count": null,
   "metadata": {
    "scrolled": false
   },
   "outputs": [],
   "source": [
    "Loga = True \n",
    "try:\n",
    "    VTimeStamp = TimeStamp\n",
    "except NameError:\n",
    "    VTimeStamp = str('Debug')\n",
    "\n",
    "AnimName = '{}{}{}{}'.format(save_path,\"/Anim2D_\",VTimeStamp,'.mp4')\n",
    "\n",
    "print(\"Saving \",AnimName)\n",
    "\n",
    "plot_axis = 'z' #axis that is set to zero\n",
    "plt.ioff()\n",
    "fig0, ax0 = plt.subplots(figsize=(16, 9), dpi=72)\n",
    "ax0.set_aspect('equal')\n",
    "\n",
    "\n",
    "if Loga:\n",
    "    data0 = np.log(data)\n",
    "    planemax = np.max(data0)\n",
    "    planemin = -20\n",
    "    \n",
    "    print(\"Using Log Plot, the Contour Level Limits Are\")\n",
    "    print(planemax,planemin)\n",
    "    \n",
    "else:\n",
    "    data0 = (data)\n",
    "    planemax = np.max(data0)\n",
    "    planemin = np.min(data0)\n",
    "        \n",
    "levels = np.linspace(planemin, planemax, int(resol))\n",
    "PlotRange = np.linspace(-length/2, length/2,resol,endpoint = False)\n",
    "\n",
    "# print(PlotRange)\n",
    "\n",
    "FPS = 15\n",
    "\n",
    "\n",
    "def animate0(i):\n",
    "    ax0.cla()\n",
    "    ax0.set_aspect('equal')\n",
    "    ax0.set_xlim([-length/2,length/2])\n",
    "    ax0.set_ylim([-length/2,length/2])\n",
    "    ax0.get_xaxis().set_ticks([])\n",
    "    ax0.get_yaxis().set_ticks([])\n",
    "    ax0.contour(PlotRange,PlotRange,data0[i], levels=levels, vmin=planemin, vmax=planemax, cmap='coolwarm')\n",
    "    #ax0.imshow(data[i])\n",
    "\n",
    "    TMStateLoc = TMdata[i]\n",
    "    for particleID in range(len(particles)):\n",
    "        TMx = TMStateLoc[int(6*particleID)]\n",
    "        TMy = TMStateLoc[int(6*particleID+1)]\n",
    "        TMz = TMStateLoc[int(6*particleID+2)]\n",
    "        \n",
    "        Vx = TMStateLoc[int(6*particleID+3)]\n",
    "        Vy = TMStateLoc[int(6*particleID+4)]\n",
    "        Vz = TMStateLoc[int(6*particleID+5)]\n",
    "        ax0.plot([TMy],[TMx],'ko')\n",
    "        ax0.quiver([TMy],[TMx],[Vy],[Vx])\n",
    "        \n",
    "    fig0.suptitle('{}{}{}'.format('Mass Density - plane ', plot_axis, '=0'), fontsize = 15)\n",
    "    ax0.text(0.90, 1.1, '{}{}'.format('Snapshot # ', i), horizontalalignment='center', verticalalignment='center', transform=ax0.transAxes)\n",
    "    \n",
    "    if i%FPS == 0 and i!= 0:\n",
    "        print('Animated %.0f seconds out of %.2f seconds of data.' % (i/FPS, EndNum/FPS))\n",
    "    \n",
    "    if i == EndNum-1:\n",
    "        print('Animation Complete')\n",
    "\n",
    "interval = 0.15 #in seconds\n",
    "ani0 = matplotlib.animation.FuncAnimation(fig0,animate0,EndNum,interval=interval*1e+3,blit=False)\n",
    "\n",
    "Writer = matplotlib.animation.writers['ffmpeg']\n",
    "\n",
    "writer = Writer(fps=FPS, metadata=dict(artist='PyUltraLightF'))\n",
    "\n",
    "ani0.save(AnimName, writer=writer)\n",
    "\n",
    "from IPython.display import HTML\n",
    "animated_plot0 = HTML(ani0.to_jshtml())\n",
    "\n",
    "\n",
    "\n",
    "fig0.clear()\n",
    "display(animated_plot0) "
   ]
  },
  {
   "cell_type": "code",
   "execution_count": null,
   "metadata": {},
   "outputs": [],
   "source": [
    "save_number"
   ]
  },
  {
   "cell_type": "code",
   "execution_count": null,
   "metadata": {},
   "outputs": [],
   "source": [
    "print(TMdata)"
   ]
  },
  {
   "cell_type": "markdown",
   "metadata": {},
   "source": [
    "# 3D Animation Panel"
   ]
  },
  {
   "cell_type": "code",
   "execution_count": null,
   "metadata": {
    "scrolled": false
   },
   "outputs": [],
   "source": [
    "try:\n",
    "    VTimeStamp = TimeStamp\n",
    "except NameError:\n",
    "    VTimeStamp = str('Debug')\n",
    "\n",
    "AnimName = '{}{}{}'.format(\"Anim3D_\",VTimeStamp,'.mp4')\n",
    "\n",
    "print(\"Saving \",AnimName)\n",
    "\n",
    "# Initialization\n",
    "fig = plt.figure(figsize=(12, 12))\n",
    "ax = fig.gca(projection='3d')\n",
    "\n",
    "ax.view_init(90, 0)\n",
    "\n",
    "PlotRange = np.linspace(-length/2, length/2,resol)\n",
    "\n",
    "zoom = 7\n",
    "\n",
    "FPS = 15 \n",
    "\n",
    "x3D, y3D = np.meshgrid(PlotRange,PlotRange)\n",
    "\n",
    "actualTop = (a*m1)\n",
    "\n",
    "phidataP = np.array(phidata)*-1\n",
    "\n",
    "planemax = np.max(phidataP)*1.2\n",
    "planemin = np.min(phidataP)\n",
    "\n",
    "print(planemin,planemax)\n",
    "\n",
    "levels = np.linspace(planemin, planemax, 100)\n",
    "\n",
    "def animate(i):\n",
    "    fig.clear()\n",
    "    global FPS\n",
    "    \n",
    "    TMStateLoc = TMdata[i]\n",
    "    ax = fig.gca(projection='3d')\n",
    "\n",
    "    ax.view_init(0, 45)\n",
    "\n",
    "    ax.set_zlim3d(planemin, planemax)\n",
    "    ax.set_ylim3d(-length/(2*zoom), length/(2*zoom))                    \n",
    "    ax.set_xlim3d(-length/(2*zoom), length/(2*zoom))\n",
    "\n",
    "    ax.set_xlabel('x')\n",
    "    ax.set_ylabel('y')\n",
    "    \n",
    "    if NumSol != 0:\n",
    "        \n",
    "        #ax.contour(PlotRange,PlotRange,(phidata[i]),zdir='z', offset=0, cmap=cm.coolwarm, levels = levels)\n",
    "        \n",
    "\n",
    "        zs = phidataP[i].flatten()\n",
    "        ax.plot_wireframe(x3D,y3D,phidataP[i],rcount = resol, ccount = resol)\n",
    " \n",
    "    \n",
    "    for particleID in range(len(particles)):\n",
    "        TMx = TMStateLoc[int(6*particleID)]\n",
    "        TMy = TMStateLoc[int(6*particleID+1)]\n",
    "        TMz = TMStateLoc[int(6*particleID+2)]\n",
    "        \n",
    "        Vx = TMStateLoc[int(6*particleID+3)]\n",
    "        Vy = TMStateLoc[int(6*particleID+4)]\n",
    "        Vz = TMStateLoc[int(6*particleID+5)]\n",
    "        ax.plot([TMy],[TMx],[TMz],'ko')\n",
    "        ax.quiver([TMy],[TMx],[TMz],[Vy],[Vx],[Vz],length=length/(resol*zoom), normalize=False)\n",
    "    #ax.plot([TMS[i,0]],[TMS[i,1]],[TMS[i,2]],'ro')\n",
    "    \n",
    "        ax.text(TMy, TMx, TMz, '{}{}{}'.format(particleID,'Particle Snapshot # ', i))\n",
    "            \n",
    "        ax.plot([TMy],[TMx],[actualTop],'r.')\n",
    "     \n",
    "    \n",
    "        ax.text(TMy, TMx, actualTop, 'Actual Potential Value')\n",
    "    \n",
    "    if i%FPS == 0 and i!= 0:\n",
    "        print('Animated %.0f seconds out of %.2f seconds of data.' % (i/FPS, EndNum/FPS))\n",
    "        \n",
    "    if FPS == EndNum-1:\n",
    "        print('Animation Complete')\n",
    "        \n",
    "    plt.draw() \n",
    "\n",
    "Writer = matplotlib.animation.writers['ffmpeg']\n",
    "\n",
    "writer = Writer(fps=FPS, metadata=dict(artist='PyUltraLightF'))\n",
    "\n",
    "interval = 0.05 #in seconds\n",
    "\n",
    "\n",
    "ani = matplotlib.animation.FuncAnimation(fig,animate,EndNum,interval=interval*1e+3,blit=False)\n",
    "\n",
    "ani.save(AnimName, writer=writer)\n",
    " "
   ]
  },
  {
   "cell_type": "markdown",
   "metadata": {},
   "source": [
    "# Advanced 1D Slice Visualizer"
   ]
  },
  {
   "cell_type": "code",
   "execution_count": null,
   "metadata": {
    "scrolled": false
   },
   "outputs": [],
   "source": [
    "for i in range(EndNum):\n",
    "    \n",
    "    plt.figure(figsize=(20,20))\n",
    "    \n",
    "    slided = phidata[i]\n",
    "\n",
    "    plt.imshow(slided)\n",
    "    \n",
    "    plt.pause(1)\n",
    "    \n",
    "    clear_output()\n",
    "    "
   ]
  },
  {
   "cell_type": "code",
   "execution_count": null,
   "metadata": {},
   "outputs": [],
   "source": [
    "TestPlane = (phidata[1])\n",
    "\n",
    "print(TestPlane[:,128])"
   ]
  },
  {
   "cell_type": "markdown",
   "metadata": {},
   "source": [
    "# Test Mass Energy Plot (Extra Options Available for 2-Body Only)\n",
    "\n",
    "NOTE: the m1 and m2 are defined following the two sample scenarios. Be careful to adapt the code when you are defining your own starting conditions."
   ]
  },
  {
   "cell_type": "code",
   "execution_count": null,
   "metadata": {
    "scrolled": false
   },
   "outputs": [],
   "source": [
    "plt.clf()\n",
    "# 2Body Energy Savr \n",
    "m2 = 0\n",
    "ML = [m1,m2]\n",
    "KS = np.zeros(int(EndNum))\n",
    "PS = np.zeros(int(EndNum))\n",
    "\n",
    "print(len(particles))\n",
    "for i in range(int(EndNum)):\n",
    "    \n",
    "    Data = TMdata[i]\n",
    "    \n",
    "    if len(particles) == 2:\n",
    "        r = Data[0:2] - Data[6:8]\n",
    "        rN = np.linalg.norm(r)\n",
    "    \n",
    "        PS[i] = -1*m1*m2/rN\n",
    "    \n",
    "    \n",
    "    for particleID in range(len(particles)):\n",
    "        Vx = Data[int(6*particleID+3)]\n",
    "        Vy = Data[int(6*particleID+4)]\n",
    "        Vz = Data[int(6*particleID+5)]\n",
    "        \n",
    "        KS[i] = KS[i] + 1/2*ML[particleID]*(Vx**2+Vy**2+Vz**2) \n",
    "\n",
    "Tp = np.linspace(0,EndNum,EndNum)    \n",
    "\n",
    "plt.figure()\n",
    "plt.plot(Tp,KS,label = '$\\sum E_k$')\n",
    "\n",
    "if len(particles) == 2:\n",
    "    plt.plot(Tp,PS,label = '$\\sum E_p$')\n",
    "    plt.plot(Tp,PS+KS,'-', label = '$E_k + E_p$')\n",
    "#plt.plot(Tp,0*Tp,'k--')\n",
    "\n",
    "plt.title('Energy of Test Masses')\n",
    "plt.xlabel('Snapshot Number')\n",
    "plt.ylabel('$\\mathcal{M}\\mathcal{L}^2\\mathcal{T}^{-2}$')\n",
    "\n",
    "plt.legend()\n",
    "\n",
    "plt.show()"
   ]
  },
  {
   "cell_type": "code",
   "execution_count": null,
   "metadata": {},
   "outputs": [],
   "source": [
    "plt.figure()\n",
    "\n",
    "for i in range(EndNum):\n",
    "    plt.plot(i,TMdata[i][3],'r.')\n",
    "    plt.plot(i,TMdata[i][4],'g.')\n",
    "    plt.plot(i,TMdata[i][5],'b.')\n",
    "\n",
    "plt.show()\n"
   ]
  },
  {
   "cell_type": "markdown",
   "metadata": {
    "scrolled": true
   },
   "source": [
    "# Advanced Energy Processing Unit"
   ]
  },
  {
   "cell_type": "code",
   "execution_count": null,
   "metadata": {
    "scrolled": false
   },
   "outputs": [],
   "source": [
    "fig = plt.figure(figsize=(8, 4.5))\n",
    "\n",
    "egylist = np.load('{}{}'.format(loc, '/egylist.npy')).tolist()\n",
    "egpcmlist = np.load('{}{}'.format(loc, '/egpcmlist.npy')).tolist()\n",
    "egpsilist = np.load('{}{}'.format(loc, '/egpsilist.npy')).tolist()\n",
    "ekandqlist = np.load('{}{}'.format(loc, '/ekandqlist.npy')).tolist()\n",
    "mtotlist = np.load('{}{}'.format(loc, '/masseslist.npy')).tolist()\n",
    "\n",
    "\n",
    "plt.plot(Tp,egylist,'g-',label='Total ULDM Energy')\n",
    "plt.plot(Tp,egpcmlist,'c-.',label='$E_{GP}$ (ULD Potential Due to Test Masses)')\n",
    "plt.plot(Tp,egpsilist,'m-.',label='$E_{GP}$ (ULD Potential Due to Self-Interaction)')\n",
    "plt.plot(Tp,ekandqlist,label='ULD $E_{K}+E_{Q}$')\n",
    "\n",
    "\n",
    "plt.plot(Tp,KS,'y--',label = '$\\sum E_k$ for Test Masses')\n",
    "\n",
    "if len(particles) == 2:\n",
    "    plt.plot(Tp,PS,'r--',label = '$\\sum E_p$ for Test Masses')\n",
    "    plt.plot(Tp,PS+KS,'b-', label = 'Total Energy of Test Masses')\n",
    "    \n",
    "#plt.plot(Tp,0*Tp,'k--')\n",
    "\n",
    "\n",
    "plt.plot(Tp,PS+KS+egylist,'k-', label = 'Total Energy of Entire System')\n",
    "\n",
    "plt.legend(loc='best', bbox_to_anchor=(0.5, 1.3), frameon=False, ncol=2)\n",
    "\n",
    "plt.xlabel('Snapshot Number')\n",
    "plt.ylabel('Net Energy / $\\mathcal{M}\\mathcal{L}^2\\mathcal{T}^{-2}$')\n",
    "\n",
    "plt.tight_layout(pad=0.4, w_pad=0.5, h_pad=1.0)\n",
    "\n",
    "\n",
    "plt.savefig('energy_diagram.eps', format='eps', dpi=1000)\n",
    "plt.savefig('energy_diagram.jpg', format='jpg', dpi=300)\n",
    "\n",
    "plt.xlim([2,EndNum])\n",
    "\n",
    "# plt.xlim([90,100])\n",
    "plt.show()\n"
   ]
  },
  {
   "cell_type": "code",
   "execution_count": null,
   "metadata": {},
   "outputs": [],
   "source": [
    "TMDebug = TMdata[92]\n",
    "\n",
    "x = TMDebug[0]*resol\n",
    "\n",
    "print(x)"
   ]
  },
  {
   "cell_type": "code",
   "execution_count": null,
   "metadata": {
    "scrolled": false
   },
   "outputs": [],
   "source": [
    "fig = plt.figure(figsize=(8, 4.5))\n",
    "\n",
    "Tpt = np.linspace(1,EndNum,EndNum-2,endpoint = False) \n",
    "\n",
    "egylist = np.array(np.load('{}{}'.format(loc, '/egylist.npy')).tolist())\n",
    "egpcmlist = np.array(np.load('{}{}'.format(loc, '/egpcmlist.npy')).tolist())\n",
    "egpsilist = np.array(np.load('{}{}'.format(loc, '/egpsilist.npy')).tolist())\n",
    "ekandqlist = np.array(np.load('{}{}'.format(loc, '/ekandqlist.npy')).tolist())\n",
    "mtotlist = np.load('{}{}'.format(loc, '/masseslist.npy')).tolist()\n",
    "\n",
    "\n",
    "egylistD = egylist - egylist[1]\n",
    "\n",
    "egpcmlistD = egpcmlist - egpcmlist[1]\n",
    "\n",
    "egpsilistD = egpsilist - egpsilist[1]\n",
    "\n",
    "ekandqlistD = ekandqlist - ekandqlist[1]\n",
    "\n",
    "\n",
    "plt.plot(egylistD[1:-1],'g-',label='Total ULDM Energy')\n",
    "plt.plot(egpcmlistD[1:-1],'c-.',label='$E_{GP}$ (ULD Potential Due to Test Masses)')\n",
    "plt.plot(egpsilistD[1:-1],'m-.',label='$E_{GP}$ (ULD Potential Due to Self-Interaction)')\n",
    "plt.plot(ekandqlistD[1:-1],label='ULD $E_{K}+E_{Q}$')\n",
    "\n",
    "KSD = KS - KS[1]\n",
    "\n",
    "PSD = PS - PS[1]\n",
    "#plt.plot(Tp,KS,'y--',label = '$\\sum E_k$ for Test Masses')\n",
    "\n",
    "if len(particles) == 2:\n",
    "    #plt.plot(Tp,PS,'r--',label = '$\\sum E_p$ for Test Masses')\n",
    "    plt.plot(Tpt,PSD[1:-1]+KSD[1:-1],'b-', label = 'Total Energy of Test Masses')\n",
    "    \n",
    "#plt.plot(Tp,0*Tp,'k--')\n",
    "\n",
    "\n",
    "plt.plot(PSD[1:-1]+KSD[1:-1]+egylistD[1:-1],'k-', label = 'Total Energy of Entire System')\n",
    "\n",
    "plt.legend(loc='best', bbox_to_anchor=(0.5, 1.3), frameon=False, ncol=2)\n",
    "\n",
    "plt.xlabel('Snapshot Number')\n",
    "plt.ylabel('Energy Change/$\\mathcal{M}\\mathcal{L}^2\\mathcal{T}^{-2}$')\n",
    "\n",
    "plt.tight_layout(pad=0.4, w_pad=0.5, h_pad=1.0)\n",
    "\n",
    "plt.savefig('energy_diagram.eps', format='eps', dpi=1000)\n",
    "plt.savefig('energy_diagram.jpg', format='jpg', dpi=300)\n",
    "\n",
    "plt.xlim([2,EndNum])\n",
    "\n",
    "\n",
    "plt.show()\n"
   ]
  },
  {
   "cell_type": "code",
   "execution_count": null,
   "metadata": {},
   "outputs": [],
   "source": [
    "plt.plot(egpcmlist,'c-.',label='$E_{GP}$ (ULD Potential Due to Test Masses)')\n",
    "plt.xlabel('Snapshot Number')\n",
    "plt.ylabel('$\\mathcal{M}\\mathcal{L}^2\\mathcal{T}^{-2}$')\n",
    "\n",
    "plt.show()"
   ]
  },
  {
   "cell_type": "markdown",
   "metadata": {},
   "source": [
    "# 3D Field Visualization\n",
    "\n",
    "Loads all data into RAM. Very slow."
   ]
  },
  {
   "cell_type": "code",
   "execution_count": null,
   "metadata": {
    "scrolled": false
   },
   "outputs": [],
   "source": [
    "if save_rho:\n",
    "    \n",
    "    with open('{}{}'.format(save_path, '/timestamp.txt'), 'r') as timestamp:\n",
    "        ts = timestamp.read()\n",
    "        print('PyUL NBody: Loading Folder',ts)\n",
    "\n",
    "    loc = save_path + '/' + ts\n",
    "\n",
    "    import time   \n",
    "    import warnings \n",
    "    warnings.filterwarnings(\"ignore\")\n",
    "    plt.ioff()\n",
    "\n",
    "    EndNum = 0\n",
    "    Rhodata = []\n",
    "    TMdata = []\n",
    "\n",
    "    for x in np.arange(0,save_number+1,1):\n",
    "    #for x in np.arange(0,550,1):    \n",
    "\n",
    "        try:\n",
    "\n",
    "            Rhodata.append(np.load('{}{}{}{}'.format(loc, '/rho_#', x, '.npy')))\n",
    "            TMdata.append(np.load('{}{}{}{}'.format(loc, '/TM_#', x, '.npy')))\n",
    "            EndNum += 1\n",
    "        except FileNotFoundError:\n",
    "\n",
    "            TimeStamp = ts\n",
    "            print(\"PyUL NBody: Run incomplete or the storage is corrupt!\")\n",
    "\n",
    "            break\n",
    "\n",
    "    print(\"PyUL NBody: Loaded\", EndNum, \"Data Entries. Which one to plot?\")\n",
    "    \n",
    "    PlotNum = int(input())\n",
    "\n",
    "    import plotly.graph_objects as go\n",
    "    \n",
    "    import plotly.io as pio\n",
    "    \n",
    "    import numpy as np\n",
    "    \n",
    "    if Uniform:\n",
    "        Rhodata = np.log(np.array(Rhodata))\n",
    "        \n",
    "    \n",
    "\n",
    "    HL = length/2\n",
    "    XP, YP, ZP = np.mgrid[-HL:HL:resol/4*1j, -HL:HL:resol/4*1j, -HL:HL:resol/4*1j]\n",
    "\n",
    "    print(len(XP))\n",
    "    values = Rhodata[PlotNum]\n",
    "    \n",
    "    values = values.flatten()\n",
    "    \n",
    "    shrink = int(resol/4)**3\n",
    "    \n",
    "    Values = np.zeros(shrink)\n",
    "    \n",
    "    for ii in range(shrink):\n",
    "        Values[ii] = values[int(ii*4)]\n",
    "\n",
    "    fig3D = go.Figure(data=go.Volume(\n",
    "        x=XP.flatten(),\n",
    "        y=YP.flatten(),\n",
    "        z=ZP.flatten(),\n",
    "        value=Values,\n",
    "        isomin=np.min(Rhodata),\n",
    "        isomax=np.max(Rhodata),\n",
    "        opacity=0.02, # needs to be small to see through all surfaces\n",
    "        surface_count=int(resol/4), # needs to be a large number for good volume rendering\n",
    "        ))\n",
    "\n",
    "else:\n",
    "    raise RuntimeError (\"You did not save field data!\")"
   ]
  },
  {
   "cell_type": "code",
   "execution_count": null,
   "metadata": {},
   "outputs": [],
   "source": [
    "import plotly.io as pio\n",
    "pio.write_html(fig3D, 'Trial.html')"
   ]
  },
  {
   "cell_type": "markdown",
   "metadata": {},
   "source": [
    "# Interactive Rho Visualization"
   ]
  },
  {
   "cell_type": "code",
   "execution_count": null,
   "metadata": {},
   "outputs": [],
   "source": [
    "print(phidataP[1])"
   ]
  },
  {
   "cell_type": "code",
   "execution_count": null,
   "metadata": {
    "scrolled": false
   },
   "outputs": [],
   "source": [
    "import plotly.graph_objects as go\n",
    " \n",
    "import plotly.io as pio\n",
    "import numpy as np\n",
    "\n",
    "import pandas as pd\n",
    "\n",
    "phidataPL = pd.DataFrame(data=phidataP[159], index=None, columns=None)\n",
    "\n",
    "fig = go.Figure(data=[go.Surface(z=phidataPL.values)])\n",
    "\n",
    "#fig.update_layout(title='$z=0$', autosize=False,width=500, height=500,margin=dict(l=65, r=50, b=65, t=90))\n",
    "\n",
    "fig.show()"
   ]
  },
  {
   "cell_type": "code",
   "execution_count": null,
   "metadata": {},
   "outputs": [],
   "source": [
    "pio.write_html(fig, 'Soliton512.html')"
   ]
  },
  {
   "cell_type": "code",
   "execution_count": null,
   "metadata": {},
   "outputs": [],
   "source": [
    "print(phidataPL)"
   ]
  },
  {
   "cell_type": "code",
   "execution_count": null,
   "metadata": {
    "scrolled": false
   },
   "outputs": [],
   "source": [
    "z_data = pd.read_csv('https://raw.githubusercontent.com/plotly/datasets/master/api_docs/mt_bruno_elevation.csv')\n",
    "\n",
    "fig = go.Figure(data=[go.Surface(z=z_data.values)])\n",
    "\n",
    "fig.update_layout(title='Mt Bruno Elevation', autosize=False,\n",
    "                  width=500, height=500,\n",
    "                  margin=dict(l=65, r=50, b=65, t=90))\n",
    "\n",
    "fig.show()"
   ]
  },
  {
   "cell_type": "code",
   "execution_count": null,
   "metadata": {},
   "outputs": [],
   "source": [
    "print(z_data)"
   ]
  },
  {
   "cell_type": "code",
   "execution_count": null,
   "metadata": {},
   "outputs": [],
   "source": []
  }
 ],
 "metadata": {
  "kernelspec": {
   "display_name": "Python 3",
   "language": "python",
   "name": "python3"
  },
  "language_info": {
   "codemirror_mode": {
    "name": "ipython",
    "version": 3
   },
   "file_extension": ".py",
   "mimetype": "text/x-python",
   "name": "python",
   "nbconvert_exporter": "python",
   "pygments_lexer": "ipython3",
   "version": "3.6.9"
  }
 },
 "nbformat": 4,
 "nbformat_minor": 4
}
