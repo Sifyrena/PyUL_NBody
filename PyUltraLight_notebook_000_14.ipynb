{
 "cells": [
  {
   "cell_type": "markdown",
   "metadata": {},
   "source": [
    "# 000.14 -  PyUL_NBody Stress Test Rollback\n",
    "## Document Date: Monday, 28 Sept 2020\n",
    "## Internal\n",
    "\n",
    "PyUltraLight with N-Body Addon\n",
    "\n",
    "- N-Body Simulation Using Identical Syntax as Soliton IV\n",
    "- Rudimentary interaction Models (Method = 1 and Method = 2)\n",
    "- Field appropriately scaled for dynamics.\n",
    "- Pre-Computed 2-Body Problem Example Scenarios (Parabola and Circular)\n",
    "- Improved Movie Plotter Performance (Output to File or Inline)\n",
    "- New 3d Volumetric Visualization (needs plotly)\n",
    "\n",
    "\n"
   ]
  },
  {
   "cell_type": "markdown",
   "metadata": {},
   "source": [
    "# Housekeeping:"
   ]
  },
  {
   "cell_type": "code",
   "execution_count": 1,
   "metadata": {
    "scrolled": true
   },
   "outputs": [
    {
     "name": "stdout",
     "output_type": "stream",
     "text": [
      "FW_NBody : The current size of the folder is 0.0 Mib\n",
      "Folder Retained\n"
     ]
    }
   ],
   "source": [
    "import os\n",
    "\n",
    "save_path = 'FW_NBody'  # Set output directory\n",
    "\n",
    "\n",
    "def get_size(start_path):\n",
    "    total_size = 0\n",
    "    for dirpath, dirnames, filenames in os.walk(start_path):\n",
    "        for f in filenames:\n",
    "            fp = os.path.join(dirpath, f)\n",
    "            # skip if it is symbolic link\n",
    "            if not os.path.islink(fp):\n",
    "                total_size += os.path.getsize(fp)\n",
    "\n",
    "    return total_size\n",
    "\n",
    "print(save_path,\": The current size of the folder is\", round(get_size(save_path)/1024**2,3), 'Mib')\n",
    "\n",
    "if get_size(save_path) == 0:\n",
    "    cleardir = 'N'\n",
    "else:\n",
    "    print(save_path,\": Do You Wish to Delete All Files Currently Stored In This Folder? [Y] \\n\")\n",
    "    cleardir = str(input())\n",
    "\n",
    "if cleardir == 'Y':\n",
    "    import shutil \n",
    "    shutil.rmtree(save_path)\n",
    "    print(\"Folder Cleaned! \\n\")\n",
    "\n",
    "try:\n",
    "    os.mkdir(save_path)\n",
    "    print(save_path,\": Save Folder Created.\")\n",
    "except FileExistsError:\n",
    "    if cleardir != 'Y':\n",
    "        print(\"Folder Retained\")\n",
    "    else:\n",
    "        print(save_path,\": File Already Exists!\")\n",
    "        \n",
    "        \n",
    "def Load_Data():\n",
    "    \n",
    "    with open('{}{}'.format(save_path, '/timestamp.txt'), 'r') as timestamp:\n",
    "        ts = timestamp.read()\n",
    "        print('PyUL NBody: Loading Folder',ts)\n",
    "\n",
    "    loc = save_path + '/' + ts\n",
    "\n",
    "\n",
    "    import time   \n",
    "    import warnings \n",
    "    warnings.filterwarnings(\"ignore\")\n",
    "    plt.ioff()\n",
    "\n",
    "    EndNum = 0\n",
    "    \n",
    "    global data, TMdata, phidata, graddata, TimeStamp\n",
    "    \n",
    "    if save_plane:\n",
    "        print('PyUL NBody: Loaded Planar Mass Density Data \\n')\n",
    "    if save_testmass:\n",
    "        print('PyUL NBody: Loaded Test Mass State Data \\n')\n",
    "    if save_phi_plane:\n",
    "        print('PyUL NBody: Loaded Planar Gravitational Field Data \\n')\n",
    "    if save_gradients:\n",
    "        print('PyUL NBody: Loaded Test Mass Gradient Data \\n')\n",
    "\n",
    "    TimeStamp = ts\n",
    "    \n",
    "    for x in np.arange(0,save_number+1,1):\n",
    "    #for x in np.arange(0,550,1):    \n",
    "    \n",
    "        try:\n",
    "            if save_plane:\n",
    "\n",
    "                data.append(np.load('{}{}{}{}'.format(loc, '/plane_#', x, '.npy')))\n",
    "            if save_testmass:\n",
    "\n",
    "                TMdata.append(np.load('{}{}{}{}'.format(loc, '/TM_#', x, '.npy')))\n",
    "            if save_phi_plane:\n",
    "\n",
    "                phidata.append(np.load('{}{}{}{}'.format(loc, '/Field2D_#', x, '.npy')))\n",
    "                \n",
    "            if save_gradients:\n",
    "                graddata.append(np.load('{}{}{}{}'.format(loc, '/Gradients_#', x, '.npy')))\n",
    "            \n",
    "            EndNum += 1\n",
    "        \n",
    "        except FileNotFoundError:\n",
    "        \n",
    "            TimeStamp = ts\n",
    "            print(\"WARNING: Run incomplete or the storage is corrupt!\")\n",
    "\n",
    "            break\n",
    "        \n",
    "    print(\"PyUL NBody: Loaded\", EndNum, \"Data Entries\")\n",
    "    return EndNum\n",
    "\n",
    "\n",
    "\n",
    "\n"
   ]
  },
  {
   "cell_type": "code",
   "execution_count": 3,
   "metadata": {
    "scrolled": true
   },
   "outputs": [
    {
     "name": "stdout",
     "output_type": "stream",
     "text": [
      "PyUltralight: Integrator Date 2020 09 30, NBody Symp\n"
     ]
    }
   ],
   "source": [
    "import numpy as np\n",
    "import matplotlib.pyplot as plt\n",
    "from mpl_toolkits.mplot3d import Axes3D\n",
    "import matplotlib.animation\n",
    "\n",
    "import PyUltraLight_NBody as PyUL\n",
    "print('PyUltralight: Integrator Date', PyUL.D_version())\n",
    "\n",
    "import pyfftw\n",
    "import os\n",
    "import sys\n",
    "import multiprocessing\n",
    "import numpy\n",
    "import numba\n",
    "import h5py\n",
    "from matplotlib import cm\n",
    "\n",
    "import math\n",
    "\n",
    "from IPython.core.display import clear_output, display\n",
    "%matplotlib inline"
   ]
  },
  {
   "cell_type": "markdown",
   "metadata": {},
   "source": [
    "# Set Axion Mass (SI)"
   ]
  },
  {
   "cell_type": "code",
   "execution_count": 4,
   "metadata": {
    "scrolled": true
   },
   "outputs": [],
   "source": [
    "axion_mass = 1e-22 *1.783e-36 #kg"
   ]
  },
  {
   "cell_type": "markdown",
   "metadata": {},
   "source": [
    "# ULDM Simulation Parameters"
   ]
  },
  {
   "cell_type": "code",
   "execution_count": 5,
   "metadata": {
    "scrolled": true
   },
   "outputs": [
    {
     "name": "stdout",
     "output_type": "stream",
     "text": [
      "PyUL NBody: Available CPU threads for this run:  16\n",
      "PyUL NBody: Simulation Grid Size: 128 cubed.\n",
      "PyUL NBody: The grid resolution subdivision is 0.0625 in specified units.\n",
      "PyUL NBody: Saving Mass Density Data (2D)\n",
      "PyUL NBody: Saving Gravitational Field Data (2D)\n",
      "PyUL NBody: Saving NBody Gradient Data\n",
      "PyUL NBody: Saving NBody Position Data\n",
      "PyUL NBody: Estimated Save Size (GiB): 0.06\n"
     ]
    }
   ],
   "source": [
    "# Set number of threads to target\n",
    "num_threads = multiprocessing.cpu_count()\n",
    "print(\"PyUL NBody: Available CPU threads for this run: \",num_threads)\n",
    "\n",
    "# Set units for soliton parameters\n",
    "s_mass_unit = ''     #Accepted units: 'kg', 'solar_masses', 'M_solar_masses', and '' for dimensionless units\n",
    "s_position_unit = '' #Accepted units: 'm', 'km', 'pc', 'kpc', 'Mpc', 'ly', and '' for dimensionless units\n",
    "s_velocity_unit = '' #Accepted units: 'm/s', 'km/s', 'km/h', and '' for dimensionless units\n",
    "\n",
    "# Rules ditto.\n",
    "m_mass_unit = ''\n",
    "m_position_unit = ''\n",
    "m_velocity_unit = ''\n",
    "\n",
    "# Set box size and resolution\n",
    "length = 8 # 1 code unit is ~38 kpc x (1e-22/m_a)^0.5\n",
    "length_units = ''  # Accepted units: 'm', 'km', 'pc', 'kpc', 'Mpc', 'ly', and '' for dimensionless units.\n",
    "\n",
    "resolN = int(7) # 6 -> 64, 7 -> 128, 8 -> 256, 9 -> 512, 10 -> Explosion\n",
    "\n",
    "resol= int(2**resolN)# It is recommended to check the upper bound on soliton mass for a given box size and resolution\n",
    "\n",
    "print(\"PyUL NBody: Simulation Grid Size:\", resol, 'cubed.')\n",
    "print(\"PyUL NBody: The grid resolution subdivision is\", length/resol, 'in specified units.')\n",
    "\n",
    "duration = 0.02 #1 code unit is ~70 Gyr (independent of axion mass assumption)\n",
    "duration_units = ''  # Accepted units: 's', 'yr', 'kyr', 'Myr', and '' for dimensionless units\n",
    "start_time = 0.05 # Should be given in the same units as duration. \n",
    "\n",
    "#Data to save\n",
    "#0\n",
    "save_rho = False # Saves density data for entire 3D simulation grid\n",
    "#1\n",
    "save_psi = False # Saves full complex field data for entire 3D simulation grid\n",
    "#2\n",
    "save_plane = True # Saves density data for plane z = 0\n",
    "#3\n",
    "save_energies = True # Saves integrated gravitational, kinetic and total energies as lists\n",
    "#4\n",
    "save_line = False # Saves density data for line y = 0, z = 0. Useful for examining intereference patterns. \n",
    "\n",
    "## FW\n",
    "#5\n",
    "save_testmass = True # Saves trajectory and 3-velocity of a test mass thrown into the system.   \n",
    "#6\n",
    "save_phi = False\n",
    "#7\n",
    "save_phi_plane = True\n",
    "#8\n",
    "save_gradients = True\n",
    "\n",
    "#Formats to save\n",
    "hdf5 = False\n",
    "npz = False\n",
    "npy = True\n",
    "\n",
    "step_factor = 1 # Change this to a larger number if velocities are sufficiently low that constraint on timestep can be relaxed. \n",
    "save_number = 240    # Choose number of 'frames' to save. Note that, depending on resolution, this could require significant disk space.\n",
    "\n",
    "\n",
    "save_options = [save_rho,save_psi,save_plane,save_energies,save_line,save_testmass,save_phi,save_phi_plane,save_gradients]\n",
    "\n",
    "PreMult = 0\n",
    "\n",
    "if save_rho:\n",
    "    print('PyUL NBody: Saving Mass Density Data (3D)')\n",
    "    PreMult = PreMult + resol**3\n",
    "    \n",
    "if save_psi:\n",
    "    print('PyUL NBody: Saving Complex Field Data (3D)')\n",
    "    PreMult = PreMult + resol**3*2\n",
    "    \n",
    "if save_phi:\n",
    "    print('PyUL NBody: Saving Gravitational Field Data (3D)')\n",
    "    PreMult = PreMult + resol**3\n",
    "    \n",
    "if save_plane:\n",
    "    print('PyUL NBody: Saving Mass Density Data (2D)')\n",
    "    PreMult = PreMult + resol**2\n",
    "    \n",
    "if save_phi_plane:\n",
    "    print('PyUL NBody: Saving Gravitational Field Data (2D)')\n",
    "    PreMult = PreMult + resol**2\n",
    "\n",
    "if save_gradients:\n",
    "    print('PyUL NBody: Saving NBody Gradient Data')\n",
    "\n",
    "if save_testmass:\n",
    "    print('PyUL NBody: Saving NBody Position Data')\n",
    "\n",
    "SaveSizeEstimate = save_number*(PreMult)*8/(1024**3)\n",
    "\n",
    "print('PyUL NBody: Estimated Save Size (GiB): %.02f' % SaveSizeEstimate )\n",
    "\n",
    "# Data_Loader For Later\n"
   ]
  },
  {
   "cell_type": "markdown",
   "metadata": {},
   "source": [
    "# NBody Simulation Parameters:"
   ]
  },
  {
   "cell_type": "code",
   "execution_count": 6,
   "metadata": {
    "scrolled": true
   },
   "outputs": [],
   "source": [
    "# Nothing Goes Here For 000.12"
   ]
  },
  {
   "cell_type": "markdown",
   "metadata": {},
   "source": [
    "# ULDM Initial Condition Modifier\n",
    "If Uniform is set to true, this block overrides all solitons you put there"
   ]
  },
  {
   "cell_type": "code",
   "execution_count": 7,
   "metadata": {
    "scrolled": true
   },
   "outputs": [],
   "source": [
    "# Removes Solitons in the IV and replaces them with a uniform wavefunction \n",
    "# with given probability amplitude (code unit).\n",
    "\n",
    "Uniform = False\n",
    "Density = 0.1\n",
    "central_mass = 0 # Not Implemented Anymore. Keep for code compatibility.\n",
    "\n",
    " "
   ]
  },
  {
   "cell_type": "markdown",
   "metadata": {},
   "source": [
    "# Gravitational Field Smoothing\n",
    "Instead of coding in the idealistic $\\frac{m}{r}$ potential, we approximate with $\\frac{am}{ar+e^{-ar}}$. Over the length of the block. The smoothing factor, $a$, is also defined here.\n",
    "\n",
    "The modified potential is a useful approximation of a point mass in a distance.\n",
    "\n",
    "The differences between the two potentials are characterised in the following box."
   ]
  },
  {
   "cell_type": "code",
   "execution_count": 8,
   "metadata": {},
   "outputs": [
    {
     "data": {
      "image/png": "[encoded data removed]",
      "text/plain": [
       "<matplotlib.figure.Figure at 0x7f1075aef828>"
      ]
     },
     "metadata": {},
     "output_type": "display_data"
    },
    {
     "name": "stdout",
     "output_type": "stream",
     "text": [
      "PyUL NBody: Field Smoothing Report:\n",
      "  The simulation runs on a 128^3 grid with edge length 8.0\n",
      "  The simulation grid size is 0.0625 Code Units,\n",
      "      which is equivalent to 2397.8 parsecs\n",
      "\n",
      "==========Grid Counts of Important Features=========\n",
      "\n",
      "  Radius outside which the fields are practically indistinguishable (Grids): 3\n",
      "  Modified Potential HWHM (Grids): 1\n"
     ]
    }
   ],
   "source": [
    "a = 5*resolN\n",
    "\n",
    "fig_grav = plt.figure(figsize=(10, 10))\n",
    "\n",
    "# Diagnostics For Field Smoothing\n",
    "LengthFS = PyUL.convert(length, length_units, 'l')\n",
    "\n",
    "GridLenFS = LengthFS/(resol)\n",
    "\n",
    "GridLenPC = PyUL.convert_back(GridLenFS,'pc','l')\n",
    "\n",
    "ax1 = plt.subplot(211)\n",
    "ax2 = plt.subplot(212)\n",
    "\n",
    "\n",
    "FS = np.linspace(1,50,50)\n",
    "\n",
    "rR = GridLenFS*FS\n",
    "\n",
    "GOrig = -1/rR\n",
    "\n",
    "GMod = -a*1/(a*rR+np.exp(-a*rR))\n",
    "\n",
    "GDiff = - GOrig + GMod\n",
    "\n",
    "# Two little quantifiers\n",
    "BoundaryEn = next(x for x, val in enumerate(GDiff) if val < 1e-2)\n",
    "rS = FS[BoundaryEn]\n",
    "\n",
    "BoundaryEx = next(x for x, val in enumerate(GMod) if val > -a/2)\n",
    "rQ = FS[BoundaryEx]\n",
    "\n",
    "ax1.plot(FS,GOrig,'k--',label = 'Point Potential')\n",
    "\n",
    "ax1.plot([rS,rS],[2,-100],'r.-')\n",
    "ax1.plot([rQ,rQ],[2,-100],'b.-')\n",
    "\n",
    "\n",
    "ax1.plot(FS,GMod,'go',label = 'Modified Potential')\n",
    "\n",
    "ax1.set_ylim([-1.5*a,0])\n",
    "\n",
    "ax1.legend()\n",
    "\n",
    "ax1.set_ylabel('$\\propto$Energy')\n",
    "ax1.grid()\n",
    "\n",
    "ax2.semilogy(FS,(GDiff),'g.')\n",
    "ax2.set_xlabel('Radial distance from origin (Grids)')\n",
    "ax2.set_ylabel('Difference')\n",
    "ax2.semilogy([rS,rS],[1e2,1e-16],'r.-')\n",
    "ax2.semilogy([rQ,rQ],[1e2,1e-16],'b.-')\n",
    "ax2.grid()\n",
    "\n",
    "plt.show()\n",
    "\n",
    "\n",
    "print('PyUL NBody: Field Smoothing Report:')\n",
    "print('  The simulation runs on a %.0f^3 grid with edge length %.1f'%(resol,length))\n",
    "print('  The simulation grid size is %.4f Code Units,\\n      which is equivalent to %.1f parsecs' % ( GridLenFS,GridLenPC))\n",
    "\n",
    "print('\\n==========Grid Counts of Important Features=========\\n')\n",
    "print(\"  Radius outside which the fields are practically indistinguishable (Grids): %.0f\" % rS)\n",
    "print(\"  Modified Potential HWHM (Grids): %.0f\" % rQ)"
   ]
  },
  {
   "cell_type": "markdown",
   "metadata": {},
   "source": [
    "# Load Example Scenarios:\n",
    "\n",
    "Just run the following blocks, and \"False\" scenarios will automatically skip.\n",
    "\n",
    "If you want to specify your own settings, please set \"Single_Mass_Trial\" to True.\n",
    "\n",
    "\n",
    "\n",
    "## Parabola \n",
    "\n",
    "Describes two masses (soliton or BH or hybrid) with equal mass approaching each other on the $x-y$ plane.\n",
    "\n",
    "You can specify the $(x_0,y_0)$ value, as well as their masses.\n",
    "\n",
    "The rest of the initial conditions will then be automatically computed.\n",
    "\n",
    "\n",
    "## Circular Orbit \n",
    "\n",
    "Describes two masses (soliton or BH or hybrid) with arbitrary masses orbiting each other on the $x-y$ plane.\n",
    "\n",
    "You can specify the initial separation, as well as their individual masses.\n",
    "\n",
    "The rest of the initial conditions will then be automatically computed."
   ]
  },
  {
   "cell_type": "code",
   "execution_count": 9,
   "metadata": {},
   "outputs": [],
   "source": [
    "Parabola = False\n",
    "Circular = False\n",
    "Singe_Mass_Trial = True\n",
    "\n",
    "\n",
    "## Init\n",
    "if Parabola:\n",
    "\n",
    "    m = 80 #1 code unit is ~2.3e6 M_sol (1e-22/m_a)^1.5\n",
    "    r = 0.5 #1 code unit is ~38 kpc x (1e-22/m_a)^0.5\n",
    "\n",
    "    x0 = 1\n",
    "    y0 = 1\n",
    "    \n",
    "    m1 = m\n",
    "    m2 = m\n",
    "\n",
    "    # Focal Point Is Origin\n",
    "    # y^2 = 4cx + 4c^2\n",
    "\n",
    "    c0 = 1/2*(-x0+np.sqrt(x0**2+y0**2))\n",
    "\n",
    "    v0 = np.sqrt(m/(2*np.sqrt(x0**2+y0**2))) #Correct\n",
    "\n",
    "    xDot0 = 1\n",
    "    yDot0 = 2*c0*xDot0/(y0)\n",
    "\n",
    "    vNorm = np.linalg.norm([xDot0,yDot0])\n",
    "\n",
    "    xDot0 = xDot0/vNorm*v0\n",
    "    yDot0 = yDot0/vNorm*v0\n",
    "\n",
    "    BH1 = [m,[x0,y0,0],[-xDot0,-yDot0,0]]\n",
    "    BH2 = [m,[-x0,-y0,0],[xDot0,yDot0,0]]\n",
    "    \n",
    "    \n",
    "    BHT = [0,[0,0,0],[0,0,0]]\n",
    "    particles = [BH1,BH2]\n",
    "\n",
    "\n",
    "    #Soliton parameters are mass, position, velocity and phase (radians)\n",
    "    soliton1 = [m, [x0,y0,0],[-xDot0,-yDot0,0], 0]\n",
    "    soliton2 = [m, [-x0,-y0,0],[xDot0,yDot0,0], 0]\n",
    "\n",
    "    solitons = [soliton2]\n",
    "    # solitons = []\n",
    "\n",
    "if Circular:\n",
    "\n",
    "    m1 = 50 #1 code unit is ~2.3e6 M_sol (1e-22/m_a)^1.5\n",
    "    \n",
    "    m2 = 40\n",
    "    \n",
    "    x1 = 0.3\n",
    "    \n",
    "    x2 = x1/m2*m1 # Ensures Com Position\n",
    "    \n",
    "    xC = x1+x2\n",
    "    \n",
    "    yDot1 = np.sqrt(m2*x1/xC**2)\n",
    "    yDot2 = np.sqrt(m1*x2/xC**2)\n",
    "\n",
    "           \n",
    "    BH1 = [m1,[x1,0,0],[0,yDot1,0]]\n",
    "    BH2 = [m2,[-x2,0,0],[0,-yDot2,0]]\n",
    "    \n",
    "    \n",
    "    \n",
    "    particles = [BH1,BH2]\n",
    "\n",
    "\n",
    "    #Soliton parameters are mass, position, velocity and phase (radians)\n",
    "    \n",
    "    soliton1 = [(1-Ratio)*m1,[x1,0,0],[0,yDot1,0], 0]\n",
    "    soliton2 = [(1-Ratio)*m2,[-x2,0,0],[0,-yDot2,0],0]\n",
    "    \n",
    "    solitonC = [10,[0,0,0],[0,0,0],0]\n",
    "\n",
    "    solitons = [soliton1,soliton2]\n",
    "    \n",
    "    #solitons = [solitonC]\n",
    "    \n",
    "if Singe_Mass_Trial:\n",
    "    \n",
    "    central_mass = 0\n",
    "    \n",
    "    m1 = 0.1\n",
    "    \n",
    "    mS = 12\n",
    "    \n",
    "    r = 0.8\n",
    "    v = np.sqrt(mS/r)\n",
    "    \n",
    "    BH1 = [m1,[r,0,0],[0,1.2*v,0]]\n",
    "    \n",
    "    BH2 = [m1,[0.7,0,0],[-1,-1,0]]\n",
    "\n",
    "    particles = [BH2]\n",
    "\n",
    "    #Soliton parameters are mass, position, velocity and phase (radians)\n",
    "    \n",
    "    soliton1 = [mS, [0,0,0],[0,0,0], 0]\n",
    "\n",
    "\n",
    "    solitons = [soliton1]\n",
    "    #solitons = []\n"
   ]
  },
  {
   "cell_type": "markdown",
   "metadata": {},
   "source": [
    "# Execution and Data Loading:"
   ]
  },
  {
   "cell_type": "code",
   "execution_count": null,
   "metadata": {},
   "outputs": [],
   "source": []
  },
  {
   "cell_type": "code",
   "execution_count": 10,
   "metadata": {},
   "outputs": [
    {
     "name": "stdout",
     "output_type": "stream",
     "text": [
      "PyUL_NBody: Build  2020 09 30, NBody Symp \n",
      "\n",
      "PyUL_NBody: Initializing Simulation. \n",
      "\n",
      "PyUL_NBody: This run contains 1 ULDM solitons and 1 point Mass partcles. And each soliton step has the particles advanced by 5 step(s) \n",
      "\n",
      "PyUL_NBody: Initialized Particle # 0 \n",
      "\n",
      "PyUL_NBody: The Initial TM State Vector Is\n",
      " [[ 0.7  0.   0.  -1.  -1.   0. ]]\n",
      "\n",
      "PyUL_NBody: Initialization Complete. Beginning Simulation in 3 sec \n",
      "\n",
      "PyUL_NBody: 2020 09 30, NBody Symp \n",
      "\n",
      "PyUL_NBody: The total number of ULDM simulation steps is 240\n",
      "\n",
      "\n",
      "\n",
      "\n",
      "[龘龘龘龘龘龘龘龘龘龘龘龘龘龘龘龘龘龘龘龘龘龘龘龘龘] 100%  The previous soliton simulation step took 0.579 seconds.\n",
      " The previous soliton simulation step took 0.592 seconds.\n",
      " ==================================== \n",
      "\n",
      "PyUL_NBody: Run Complete. Time Elapsed (d:h:m:s): 0:0:2:22\n",
      "PyUL NBody: Loading Folder 2020.9.30_05_43_52_128\n",
      "PyUL NBody: Loaded Planar Mass Density Data \n",
      "\n",
      "PyUL NBody: Loaded Test Mass State Data \n",
      "\n",
      "PyUL NBody: Loaded Planar Gravitational Field Data \n",
      "\n",
      "PyUL NBody: Loaded Test Mass Gradient Data \n",
      "\n",
      "PyUL NBody: Loaded 241 Data Entries\n"
     ]
    }
   ],
   "source": [
    "NumSol = len(solitons)\n",
    "NumTM = len(particles)\n",
    "data = []\n",
    "TMdata = []\n",
    "phidata = []\n",
    "graddata = []\n",
    "\n",
    "try:\n",
    "    TimeStamp = PyUL.evolve(central_mass, num_threads, length, length_units, \n",
    "            resol, duration, duration_units, step_factor, \n",
    "            save_number, save_options, save_path, npz, npy, hdf5, \n",
    "            s_mass_unit, s_position_unit, s_velocity_unit, solitons,\n",
    "            start_time, m_mass_unit, m_position_unit, m_velocity_unit, particles,\n",
    "            Uniform,Density,a)\n",
    "    \n",
    "    EndNum = Load_Data()\n",
    "    \n",
    "except KeyboardInterrupt:\n",
    "    print(\"\\n Run Interrupted! The ability to resume simulations is under development.\")\n",
    "    EndNum = Load_Data()"
   ]
  },
  {
   "cell_type": "markdown",
   "metadata": {},
   "source": [
    "# 2D Trajectory Plot"
   ]
  },
  {
   "cell_type": "code",
   "execution_count": 11,
   "metadata": {
    "scrolled": false
   },
   "outputs": [
    {
     "data": {
      "text/plain": [
       "<matplotlib.figure.Figure at 0x7f0fd916dac8>"
      ]
     },
     "metadata": {},
     "output_type": "display_data"
    },
    {
     "data": {
      "image/png": "[encoded data removed]",
      "text/plain": [
       "<matplotlib.figure.Figure at 0x7f0fd916db00>"
      ]
     },
     "metadata": {},
     "output_type": "display_data"
    }
   ],
   "source": [
    "try:\n",
    "    TSD = TimeStamp\n",
    "except NameError:\n",
    "    TimeStamp = 'Debug'\n",
    "\n",
    "plt.clf()\n",
    "\n",
    "fig = plt.figure(figsize=(24, 24))\n",
    "# debug\n",
    "import numexpr as ne\n",
    "import matplotlib as mpl\n",
    "\n",
    "Zoom2D = 1\n",
    "Boundary = length/(2*Zoom2D)\n",
    "\n",
    "ax = fig.add_subplot(111)\n",
    "mpl.style.use('seaborn')\n",
    "\n",
    "if Parabola:\n",
    "    yParaBola = np.linspace(-length/(2),length/(2),resol)\n",
    "    xParaBola = ne.evaluate(\"yParaBola**2/(4*c0)-c0\")\n",
    "\n",
    "    plt.plot(xParaBola,yParaBola)\n",
    "\n",
    "    plt.plot(-xParaBola,yParaBola)\n",
    "    \n",
    "\n",
    "if Circular:\n",
    "    \n",
    "    tCirc = np.linspace(0,2*np.pi,200)\n",
    "\n",
    "    plt.plot(x1*np.cos(tCirc),x1*np.sin(tCirc),'-',color = (1,0.5,0,0.1))\n",
    "    plt.plot(x2*np.cos(tCirc),x2*np.sin(tCirc),'-',color = (1,0,0.5,0.1))\n",
    "\n",
    "\n",
    "\n",
    "plt.xlim([-Boundary,Boundary])\n",
    "plt.ylim([-Boundary,Boundary])\n",
    "\n",
    "\n",
    "ax.set_aspect('equal', adjustable='box')\n",
    "\n",
    "for i in range(EndNum):\n",
    "    \n",
    "    \n",
    "    TMStateLoc = TMdata[i]\n",
    "    \n",
    "    if i == 0:\n",
    "        for particleID in range(len(particles)):\n",
    "        \n",
    "            ColorID = particleID/len(particles) # 0, 0.5\n",
    "        \n",
    "            TMx = TMStateLoc[int(6*particleID)]\n",
    "            TMy = TMStateLoc[int(6*particleID+1)]\n",
    "            plt.plot([TMx],[TMy],'ko')\n",
    "        \n",
    "    \n",
    "    Alpha = 0.3+7*i/(10*EndNum)\n",
    "    \n",
    "    for particleID in range(len(particles)):\n",
    "        \n",
    "        ColorID = 0.2 # 0, 0.5\n",
    "        \n",
    "        TMx = TMStateLoc[int(6*particleID)]\n",
    "        TMy = TMStateLoc[int(6*particleID+1)]\n",
    "        plt.plot([TMx],[TMy],'.',color=(0.5,1*ColorID,0.6-ColorID,Alpha))\n",
    "        \n",
    "ax.grid(True)\n",
    "\n",
    "textstr = '\\n'.join((\n",
    "    TimeStamp,\n",
    "    r'Resolution: $%.0f^3$' % (resol, ),\n",
    "    r'Box Length: %.0f' % (length, ),\n",
    "    r'Method: %.0f @ %.0f Steps' % (1,1)))\n",
    "\n",
    "# these are matplotlib.patch.Patch properties\n",
    "props = dict(boxstyle='round', facecolor='wheat', alpha=0.5)\n",
    "\n",
    "# place a text box in upper left in axes coords\n",
    "ax.text(0, 0, textstr, transform=ax.transAxes, fontsize=18,\n",
    "        verticalalignment='bottom', bbox=props)\n",
    "\n",
    "plt.show()"
   ]
  },
  {
   "cell_type": "markdown",
   "metadata": {},
   "source": [
    "# 2D Animation Panel"
   ]
  },
  {
   "cell_type": "code",
   "execution_count": null,
   "metadata": {
    "scrolled": false
   },
   "outputs": [],
   "source": [
    "Loga = False \n",
    "\n",
    "try:\n",
    "    VTimeStamp = TimeStamp\n",
    "except NameError:\n",
    "    VTimeStamp = str('Debug')\n",
    "\n",
    "AnimName = '{}{}{}{}'.format(save_path,\"/Anim2D_\",VTimeStamp,'.mp4')\n",
    "\n",
    "print(\"Saving \",AnimName)\n",
    "\n",
    "plot_axis = 'z' #axis that is set to zero\n",
    "plt.ioff()\n",
    "fig0, ax0 = plt.subplots(figsize=(4, 4), dpi=72)\n",
    "ax0.set_aspect('equal')\n",
    "\n",
    "\n",
    "if Loga:\n",
    "    \n",
    "    if Uniform:\n",
    "        data0 = np.log(np.array(data)/Density)\n",
    "        print(\"Initial Field is Uniform. Evaluating Change Ratio.\")\n",
    "    \n",
    "    else:\n",
    "        data0 = np.log(data)\n",
    "    planemax = np.max(data0)\n",
    "    planemin = np.min(data0)\n",
    "    \n",
    "    print(\"Using Log Plot, the Contour Level Limits Are\")\n",
    "    print(planemax,planemin)\n",
    "    \n",
    "else:\n",
    "    data0 = (data)\n",
    "    planemax = np.max(data0)\n",
    "    planemin = np.min(data0)\n",
    "        \n",
    "levels = np.linspace(planemin, planemax, int(resol))\n",
    "\n",
    "PlotRange = np.linspace(-length/2, length/2,resol,endpoint = False)\n",
    "\n",
    "# print(PlotRange)\n",
    "\n",
    "FPS = 15\n",
    "\n",
    "\n",
    "def animate0(i):\n",
    "    ax0.cla()\n",
    "    ax0.set_aspect('equal')\n",
    "    ax0.set_xlim([-length/2,length/2])\n",
    "    ax0.set_ylim([-length/2,length/2])\n",
    "    ax0.get_xaxis().set_ticks([])\n",
    "    ax0.get_yaxis().set_ticks([])\n",
    "    \n",
    "    ax0.contour(PlotRange,PlotRange,data0[i], levels=levels, vmin=planemin, vmax=planemax,cmap = 'coolwarm')\n",
    "    #ax0.imshow(data[i])\n",
    "\n",
    "    TMStateLoc = TMdata[i]\n",
    "    for particleID in range(len(particles)):\n",
    "        TMx = TMStateLoc[int(6*particleID)]\n",
    "        TMy = TMStateLoc[int(6*particleID+1)]\n",
    "        TMz = TMStateLoc[int(6*particleID+2)]\n",
    "        \n",
    "        Vx = TMStateLoc[int(6*particleID+3)]\n",
    "        Vy = TMStateLoc[int(6*particleID+4)]\n",
    "        Vz = TMStateLoc[int(6*particleID+5)]\n",
    "        ax0.plot([TMy],[TMx],'ko')\n",
    "        ax0.quiver([TMy],[TMx],[Vy],[Vx])\n",
    "        \n",
    "    fig0.suptitle('{}{}{}'.format('Mass Density - plane ', plot_axis, '=0'), fontsize = 15)\n",
    "    ax0.text(0.90, 1.1, '{}{}'.format('Snapshot # ', i), horizontalalignment='center', verticalalignment='center', transform=ax0.transAxes)\n",
    "    \n",
    "    if i%FPS == 0 and i!= 0:\n",
    "        print('Animated %.0f seconds out of %.2f seconds of data.' % (i/FPS, EndNum/FPS))\n",
    "    \n",
    "    if i == EndNum-1:\n",
    "        clear_output()\n",
    "        print('Animation Complete:', AnimName)\n",
    "\n",
    "interval = 0.15 #in seconds\n",
    "ani0 = matplotlib.animation.FuncAnimation(fig0,animate0,EndNum,interval=interval*1e+3,blit=False)\n",
    "\n",
    "Writer = matplotlib.animation.writers['ffmpeg']\n",
    "\n",
    "writer = Writer(fps=FPS, metadata=dict(artist='PyUltraLightF'))\n",
    "\n",
    "ani0.save(AnimName, writer=writer)\n",
    "\n",
    "'''\n",
    "from IPython.display import HTML\n",
    "animated_plot0 = HTML(ani0.to_jshtml())\n",
    "\n",
    "fig0.clear()\n",
    "display(animated_plot0) \n",
    "'''"
   ]
  },
  {
   "cell_type": "code",
   "execution_count": null,
   "metadata": {},
   "outputs": [],
   "source": []
  },
  {
   "cell_type": "code",
   "execution_count": null,
   "metadata": {},
   "outputs": [],
   "source": []
  },
  {
   "cell_type": "markdown",
   "metadata": {},
   "source": [
    "# 3D Animation Panel"
   ]
  },
  {
   "cell_type": "code",
   "execution_count": null,
   "metadata": {
    "scrolled": false
   },
   "outputs": [],
   "source": [
    "NumSol = len(solitons)\n",
    "try:\n",
    "    VTimeStamp = TimeStamp\n",
    "except NameError:\n",
    "    VTimeStamp = str('Debug')\n",
    "\n",
    "AnimName = '{}{}{}{}'.format(save_path,\"/Anim3D_\",VTimeStamp,'.mp4')\n",
    "\n",
    "print(\"Saving \",AnimName)\n",
    "\n",
    "# Initialization\n",
    "fig = plt.figure(figsize=(12, 12))\n",
    "ax = fig.gca(projection='3d')\n",
    "\n",
    "ax.view_init(90, 0)\n",
    "\n",
    "PlotRange = np.linspace(-length/2, length/2,resol)\n",
    "\n",
    "zoom = 0.8\n",
    "\n",
    "FPS = 15 \n",
    "\n",
    "x3D, y3D = np.meshgrid(PlotRange,PlotRange)\n",
    "\n",
    "#actualTop = (a*m1)\n",
    "\n",
    "phidataP = np.array(phidata)*-1\n",
    "\n",
    "planemax = np.max(phidataP)*2\n",
    "planemin = np.min(phidataP)\n",
    "\n",
    "print(planemin,planemax)\n",
    "\n",
    "levels = np.linspace(planemin, planemax, 100)\n",
    "\n",
    "def animate(i):\n",
    "    fig.clear()\n",
    "    global FPS\n",
    "    \n",
    "    TMStateLoc = TMdata[i]\n",
    "    ax = fig.gca(projection='3d')\n",
    "\n",
    "    ax.view_init(0, 45)\n",
    "\n",
    "    ax.set_zlim3d(planemin, planemax)\n",
    "    ax.set_ylim3d(-length/(2*zoom), length/(2*zoom))                    \n",
    "    ax.set_xlim3d(-length/(2*zoom), length/(2*zoom))\n",
    "\n",
    "    ax.set_xlabel('x')\n",
    "    ax.set_ylabel('y')\n",
    "    \n",
    "    if NumSol != 0:\n",
    "        \n",
    "        #ax.contour(PlotRange,PlotRange,(phidata[i]),zdir='z', offset=0, cmap=cm.coolwarm, levels = levels)\n",
    "        \n",
    "\n",
    "        zs = phidataP[i].flatten()\n",
    "        ax.plot_wireframe(x3D,y3D,phidataP[i],rcount = resol, ccount = resol)\n",
    " \n",
    "    \n",
    "    for particleID in range(len(particles)):\n",
    "        TMx = TMStateLoc[int(6*particleID)]\n",
    "        TMy = TMStateLoc[int(6*particleID+1)]\n",
    "        TMz = TMStateLoc[int(6*particleID+2)]\n",
    "        \n",
    "        Vx = TMStateLoc[int(6*particleID+3)]\n",
    "        Vy = TMStateLoc[int(6*particleID+4)]\n",
    "        Vz = TMStateLoc[int(6*particleID+5)]\n",
    "        ax.plot([TMy],[TMx],[TMz],'ko')\n",
    "        ax.quiver([TMy],[TMx],[TMz],[Vy],[Vx],[Vz],length=length/(resol*zoom), normalize=False)\n",
    "    #ax.plot([TMS[i,0]],[TMS[i,1]],[TMS[i,2]],'ro')\n",
    "    \n",
    "        ax.text(TMy, TMx, TMz, '{}{}{}'.format(particleID,'Particle Snapshot # ', i))\n",
    "            \n",
    "        #ax.plot([TMy],[TMx],[actualTop],'r.')\n",
    "     \n",
    "    \n",
    "        #ax.text(TMy, TMx, actualTop, 'Actual Potential Value')\n",
    "    \n",
    "    if i%FPS == 0 and i!= 0:\n",
    "        print('Animated %.0f seconds out of %.2f seconds of data.' % (i/FPS, EndNum/FPS))\n",
    "        \n",
    "    if i == EndNum-1:\n",
    "        clear_output()\n",
    "        print('Animation Complete:', AnimName)\n",
    "        \n",
    "    plt.draw() \n",
    "\n",
    "Writer = matplotlib.animation.writers['ffmpeg']\n",
    "\n",
    "writer = Writer(fps=FPS, metadata=dict(artist='PyUltraLightF'))\n",
    "\n",
    "interval = 0.05 #in seconds\n",
    "\n",
    "\n",
    "ani = matplotlib.animation.FuncAnimation(fig,animate,EndNum,interval=interval*1e+3,blit=False)\n",
    "\n",
    "ani.save(AnimName, writer=writer)\n",
    " "
   ]
  },
  {
   "cell_type": "markdown",
   "metadata": {},
   "source": [
    "# Field Slice Visualizer"
   ]
  },
  {
   "cell_type": "code",
   "execution_count": null,
   "metadata": {
    "scrolled": false
   },
   "outputs": [],
   "source": [
    "Loga = False \n",
    "\n",
    "try:\n",
    "    VTimeStamp = TimeStamp\n",
    "except NameError:\n",
    "    VTimeStamp = str('Debug')\n",
    "\n",
    "AnimName = '{}{}{}{}'.format(save_path,\"/AnimField2D_\",VTimeStamp,'.mp4')\n",
    "\n",
    "print(\"Saving \",AnimName)\n",
    "\n",
    "FPS = 30\n",
    "\n",
    "figP = plt.figure(figsize=(4,4))\n",
    "\n",
    "def animateP(i):\n",
    "    \n",
    "    sliced = phidata[i]\n",
    "\n",
    "    plt.imshow(sliced,vmin = -a*m1,vmax = 0)\n",
    "\n",
    "    if i%FPS == 0 and i!= 0:\n",
    "        print('Animated %.0f seconds out of %.2f seconds of data.' % (i/FPS, EndNum/FPS))\n",
    "    \n",
    "    if i == EndNum-1:\n",
    "        clear_output()\n",
    "        print('Animation Complete:', AnimName)\n",
    "\n",
    "interval = 0.15 #in seconds\n",
    "aniP = matplotlib.animation.FuncAnimation(figP,animateP,EndNum,interval=interval*1e+3,blit=False)\n",
    "\n",
    "Writer = matplotlib.animation.writers['ffmpeg']\n",
    "\n",
    "writer = Writer(fps=FPS, metadata=dict(artist='PyUltraLightF'))\n",
    "\n",
    "aniP.save(AnimName, writer=writer)\n",
    "\n"
   ]
  },
  {
   "cell_type": "markdown",
   "metadata": {},
   "source": [
    "# Gradient Visualizer"
   ]
  },
  {
   "cell_type": "code",
   "execution_count": null,
   "metadata": {},
   "outputs": [],
   "source": [
    "plt.figure(figsize=(16, 9))\n",
    "\n",
    "graddataP = (graddata)\n",
    "for i in range(EndNum):\n",
    "    plt.plot(i,graddataP[i][0],'r.',label = '$x$')\n",
    "    plt.plot(i,graddataP[i][1],'g.',label = '$y$')\n",
    "    plt.plot(i,graddataP[i][2],'b.',label = '$z$')\n",
    "\n",
    "plt.xlabel('Snapshot Number')\n",
    "\n",
    "plt.ylabel('First Particle Acceleration')\n",
    "plt.legend()\n",
    "plt.show()"
   ]
  },
  {
   "cell_type": "markdown",
   "metadata": {},
   "source": [
    "# Test Mass Energy Plot (Extra Options Available for 2-Body Only)\n",
    "\n",
    "NOTE: the m1 and m2 are defined following the two sample scenarios. Be careful to adapt the code when you are defining your own starting conditions."
   ]
  },
  {
   "cell_type": "code",
   "execution_count": 12,
   "metadata": {
    "scrolled": false
   },
   "outputs": [
    {
     "name": "stdout",
     "output_type": "stream",
     "text": [
      "1\n"
     ]
    },
    {
     "data": {
      "text/plain": [
       "<matplotlib.figure.Figure at 0x7f0fd90c3518>"
      ]
     },
     "metadata": {},
     "output_type": "display_data"
    },
    {
     "data": {
      "image/png": "[encoded data removed]",
      "text/plain": [
       "<matplotlib.figure.Figure at 0x7f0fd90c3c88>"
      ]
     },
     "metadata": {},
     "output_type": "display_data"
    }
   ],
   "source": [
    "loc = save_path + '/' + TimeStamp\n",
    "\n",
    "plt.clf()\n",
    "# 2Body Energy Savr \n",
    "m2 = 0\n",
    "ML = [m1,m2]\n",
    "\n",
    "KS = np.zeros(int(EndNum))\n",
    "PS = np.zeros(int(EndNum))\n",
    "\n",
    "print(len(particles))\n",
    "for i in range(int(EndNum)):\n",
    "    \n",
    "    Data = TMdata[i] \n",
    "    \n",
    "    for particleID in range(len(particles)):\n",
    "        Vx = Data[int(6*particleID+3)]\n",
    "        Vy = Data[int(6*particleID+4)]\n",
    "        Vz = Data[int(6*particleID+5)]\n",
    "        \n",
    "        KS[i] = KS[i] + 1/2*ML[particleID]*(Vx**2+Vy**2+Vz**2) \n",
    "\n",
    "Tp = np.linspace(0,EndNum,EndNum)    \n",
    "\n",
    "plt.figure()\n",
    "plt.plot(Tp,KS,label = '$\\sum E_k$')\n",
    "\n",
    "if len(particles) == 2:\n",
    "    plt.plot(Tp,PS,label = '$\\sum E_p$')\n",
    "    plt.plot(Tp,PS+KS,'-', label = '$E_k + E_p$')\n",
    "#plt.plot(Tp,0*Tp,'k--')\n",
    "\n",
    "plt.title('Energy of Test Masses')\n",
    "plt.xlabel('Snapshot Number')\n",
    "plt.ylabel('$\\mathcal{M}\\mathcal{L}^2\\mathcal{T}^{-2}$')\n",
    "\n",
    "plt.legend()\n",
    "\n",
    "plt.show()"
   ]
  },
  {
   "cell_type": "code",
   "execution_count": null,
   "metadata": {},
   "outputs": [],
   "source": [
    "\n"
   ]
  },
  {
   "cell_type": "markdown",
   "metadata": {
    "scrolled": true
   },
   "source": [
    "# System Energy Processor"
   ]
  },
  {
   "cell_type": "code",
   "execution_count": 13,
   "metadata": {
    "scrolled": false
   },
   "outputs": [
    {
     "data": {
      "image/png": "[encoded data removed]",
      "text/plain": [
       "<matplotlib.figure.Figure at 0x7f0fd92a9278>"
      ]
     },
     "metadata": {},
     "output_type": "display_data"
    }
   ],
   "source": [
    "fig = plt.figure(figsize=(8, 4.5))\n",
    "\n",
    "egylist = np.load('{}{}'.format(loc, '/egylist.npy')).tolist()\n",
    "egpcmlist = np.load('{}{}'.format(loc, '/egpcmlist.npy')).tolist()\n",
    "egpsilist = np.load('{}{}'.format(loc, '/egpsilist.npy')).tolist()\n",
    "ekandqlist = np.load('{}{}'.format(loc, '/ekandqlist.npy')).tolist()\n",
    "mtotlist = np.load('{}{}'.format(loc, '/masseslist.npy')).tolist()\n",
    "\n",
    "plt.plot(Tp,egylist,'g-',label='Total ULDM Energy')\n",
    "plt.plot(Tp,egpcmlist,'c-.',label='$E_{GP}$ (ULD Potential Due to Test Masses)')\n",
    "plt.plot(Tp,egpsilist,'m-.',label='$E_{GP}$ (ULD Potential Due to Self-Interaction)')\n",
    "plt.plot(Tp,ekandqlist,label='ULD $E_{K}+E_{Q}$')\n",
    "\n",
    "\n",
    "plt.plot(Tp,KS,'y--',label = '$\\sum E_k$ for Test Masses')\n",
    "\n",
    "if len(particles) == 2:\n",
    "    plt.plot(Tp,PS,'r--',label = '$\\sum E_p$ for Test Masses')\n",
    "    plt.plot(Tp,PS+KS,'b-', label = 'Total Energy of Test Masses')\n",
    "\n",
    "\n",
    "plt.plot(Tp,PS+KS+egylist,'k-', label = 'Total Energy of Entire System')\n",
    "\n",
    "plt.legend(bbox_to_anchor=(0.5, 1.3), ncol=2)\n",
    "\n",
    "plt.xlabel('Snapshot Number')\n",
    "plt.ylabel('Net Energy / $\\mathcal{M}\\mathcal{L}^2\\mathcal{T}^{-2}$')\n",
    "\n",
    "plt.tight_layout(pad=0.4, w_pad=0.5, h_pad=1.0)\n",
    "\n",
    "\n",
    "plt.savefig('energy_diagram.eps', format='eps', dpi=1000)\n",
    "plt.savefig('energy_diagram.jpg', format='jpg', dpi=300)\n",
    "\n",
    "plt.xlim([2,EndNum])\n",
    "\n",
    "# plt.xlim([90,100])\n",
    "plt.show()\n"
   ]
  },
  {
   "cell_type": "code",
   "execution_count": null,
   "metadata": {},
   "outputs": [],
   "source": [
    "TMDebug = TMdata[92]\n",
    "\n",
    "x = TMDebug[0]*resol\n",
    "\n",
    "print(x)"
   ]
  },
  {
   "cell_type": "markdown",
   "metadata": {},
   "source": [
    "# Energy Delta"
   ]
  },
  {
   "cell_type": "code",
   "execution_count": 14,
   "metadata": {
    "scrolled": false
   },
   "outputs": [
    {
     "data": {
      "image/png": "[encoded data removed]",
      "text/plain": [
       "<matplotlib.figure.Figure at 0x7f0fd917d1d0>"
      ]
     },
     "metadata": {},
     "output_type": "display_data"
    }
   ],
   "source": [
    "fig = plt.figure(figsize=(8, 4.5))\n",
    "\n",
    "Tpt = np.linspace(1,EndNum,EndNum-2,endpoint = False) \n",
    "\n",
    "egylist = np.array(np.load('{}{}'.format(loc, '/egylist.npy')).tolist())\n",
    "egpcmlist = np.array(np.load('{}{}'.format(loc, '/egpcmlist.npy')).tolist())\n",
    "egpsilist = np.array(np.load('{}{}'.format(loc, '/egpsilist.npy')).tolist())\n",
    "ekandqlist = np.array(np.load('{}{}'.format(loc, '/ekandqlist.npy')).tolist())\n",
    "mtotlist = np.load('{}{}'.format(loc, '/masseslist.npy')).tolist()\n",
    "\n",
    "\n",
    "egylistD = egylist - egylist[1]\n",
    "\n",
    "egpcmlistD = egpcmlist - egpcmlist[1]\n",
    "\n",
    "egpsilistD = egpsilist - egpsilist[1]\n",
    "\n",
    "ekandqlistD = ekandqlist - ekandqlist[1]\n",
    "\n",
    "\n",
    "plt.plot(egylistD[1:-1],'g-',label='Total ULDM Energy')\n",
    "plt.plot(egpcmlistD[1:-1],'c-.',label='$E_{GP}$ (ULD Potential Due to Test Masses)')\n",
    "plt.plot(egpsilistD[1:-1],'m-.',label='$E_{GP}$ (ULD Potential Due to Self-Interaction)')\n",
    "plt.plot(ekandqlistD[1:-1],label='ULD $E_{K}+E_{Q}$')\n",
    "\n",
    "KSD = KS - KS[1]\n",
    "\n",
    "PSD = PS - PS[1]\n",
    "\n",
    "plt.plot(Tp,KSD,'y--',label = '$\\sum E_k$ for Test Masses')\n",
    "\n",
    "if len(particles) == 2:\n",
    "    #plt.plot(Tp,PS,'r--',label = '$\\sum E_p$ for Test Masses')\n",
    "    plt.plot(Tpt,PSD[1:-1]+KSD[1:-1],'b-', label = 'Total Energy of Test Masses')\n",
    "    \n",
    "#plt.plot(Tp,0*Tp,'k--')\n",
    "\n",
    "\n",
    "plt.plot(PSD[1:-1]+KSD[1:-1]+egylistD[1:-1],'k-', label = 'Total Energy of Entire System')\n",
    "\n",
    "plt.legend(loc='best', bbox_to_anchor=(0.5, 1.3), frameon=False, ncol=2)\n",
    "\n",
    "plt.xlabel('Snapshot Number')\n",
    "plt.ylabel('Energy Change/$\\mathcal{M}\\mathcal{L}^2\\mathcal{T}^{-2}$')\n",
    "\n",
    "plt.tight_layout(pad=0.4, w_pad=0.5, h_pad=1.0)\n",
    "\n",
    "plt.savefig('energy_diagram.eps', format='eps', dpi=1000)\n",
    "plt.savefig('energy_diagram.jpg', format='jpg', dpi=300)\n",
    "\n",
    "#plt.xlim([2,100])\n",
    "\n",
    "\n",
    "plt.show()\n"
   ]
  },
  {
   "cell_type": "code",
   "execution_count": null,
   "metadata": {},
   "outputs": [],
   "source": [
    "plt.plot(egpcmlist,'c-.',label='$E_{GP}$ (ULD Potential Due to Test Masses)')\n",
    "plt.xlabel('Snapshot Number')\n",
    "plt.ylabel('$\\mathcal{M}\\mathcal{L}^2\\mathcal{T}^{-2}$')\n",
    "\n",
    "plt.show()"
   ]
  },
  {
   "cell_type": "code",
   "execution_count": 15,
   "metadata": {},
   "outputs": [
    {
     "name": "stdout",
     "output_type": "stream",
     "text": [
      "[-3.13413970e-04 -2.10851564e-05]\n",
      "-1.1855911363281568e-05 -3.516535227214568e-05\n"
     ]
    },
    {
     "data": {
      "image/png": "[encoded data removed]",
      "text/plain": [
       "<matplotlib.figure.Figure at 0x7f1049976898>"
      ]
     },
     "metadata": {},
     "output_type": "display_data"
    }
   ],
   "source": [
    "timerange = np.linspace(0,duration,save_number+1)\n",
    "\n",
    "TotalED = PSD+KSD+egylistD\n",
    "\n",
    "EDFit = np.polyfit(timerange,TotalED,1)\n",
    "\n",
    "print(EDFit)\n",
    "\n",
    "MaxED = max(TotalED.min(), TotalED.max(), key=abs)\n",
    "\n",
    "FinalED = TotalED[-1]\n",
    "\n",
    "print(FinalED, MaxED)\n",
    "\n",
    "plt.figure(figsize = (16,9))\n",
    "\n",
    "plt.plot(timerange,TotalED,'b-')\n",
    "\n",
    "plt.plot(timerange,EDFit[0]*timerange+EDFit[1],'r--')\n",
    "\n",
    "plt.show()"
   ]
  },
  {
   "cell_type": "markdown",
   "metadata": {},
   "source": [
    "# 3D Field Visualization\n",
    "\n",
    "Loads all data into RAM. Very slow."
   ]
  },
  {
   "cell_type": "code",
   "execution_count": null,
   "metadata": {
    "scrolled": false
   },
   "outputs": [],
   "source": [
    "if save_rho:\n",
    "    \n",
    "    with open('{}{}'.format(save_path, '/timestamp.txt'), 'r') as timestamp:\n",
    "        ts = timestamp.read()\n",
    "        print('PyUL NBody: Loading Folder',ts)\n",
    "\n",
    "    loc = save_path + '/' + ts\n",
    "\n",
    "    import time   \n",
    "    import warnings \n",
    "    warnings.filterwarnings(\"ignore\")\n",
    "    plt.ioff()\n",
    "\n",
    "    EndNum = 0\n",
    "    Rhodata = []\n",
    "    TMdata = []\n",
    "\n",
    "    for x in np.arange(0,save_number+1,1):\n",
    "    #for x in np.arange(0,550,1):    \n",
    "\n",
    "        try:\n",
    "\n",
    "            Rhodata.append(np.load('{}{}{}{}'.format(loc, '/rho_#', x, '.npy')))\n",
    "            TMdata.append(np.load('{}{}{}{}'.format(loc, '/TM_#', x, '.npy')))\n",
    "            EndNum += 1\n",
    "        except FileNotFoundError:\n",
    "\n",
    "            TimeStamp = ts\n",
    "            print(\"PyUL NBody: Run incomplete or the storage is corrupt!\")\n",
    "\n",
    "            break\n",
    "\n",
    "    print(\"PyUL NBody: Loaded\", EndNum, \"Data Entries. Which one to plot?\")\n",
    "    \n",
    "    PlotNum = int(input())\n",
    "\n",
    "    import plotly.graph_objects as go\n",
    "    \n",
    "    import plotly.io as pio\n",
    "    \n",
    "    import numpy as np\n",
    "    \n",
    "    if Uniform:\n",
    "        Rhodata = np.log(np.array(Rhodata))\n",
    "        \n",
    "    \n",
    "\n",
    "    HL = length/2\n",
    "    XP, YP, ZP = np.mgrid[-HL:HL:resol/4*1j, -HL:HL:resol/4*1j, -HL:HL:resol/4*1j]\n",
    "\n",
    "    print(len(XP))\n",
    "    values = Rhodata[PlotNum]\n",
    "    \n",
    "    values = values.flatten()\n",
    "    \n",
    "    shrink = int(resol/4)**3\n",
    "    \n",
    "    Values = np.zeros(shrink)\n",
    "    \n",
    "    for ii in range(shrink):\n",
    "        Values[ii] = values[int(ii*4)]\n",
    "\n",
    "    fig3D = go.Figure(data=go.Volume(\n",
    "        x=XP.flatten(),\n",
    "        y=YP.flatten(),\n",
    "        z=ZP.flatten(),\n",
    "        value=Values,\n",
    "        isomin=np.min(Rhodata),\n",
    "        isomax=np.max(Rhodata),\n",
    "        opacity=0.02, # needs to be small to see through all surfaces\n",
    "        surface_count=int(resol/4), # needs to be a large number for good volume rendering\n",
    "        ))\n",
    "\n",
    "else:\n",
    "    raise RuntimeError (\"You did not save field data!\")"
   ]
  },
  {
   "cell_type": "code",
   "execution_count": null,
   "metadata": {},
   "outputs": [],
   "source": [
    "import plotly.io as pio\n",
    "pio.write_html(fig3D, 'Trial.html')"
   ]
  },
  {
   "cell_type": "markdown",
   "metadata": {},
   "source": [
    "# Interactive Rho Visualization"
   ]
  },
  {
   "cell_type": "code",
   "execution_count": null,
   "metadata": {},
   "outputs": [],
   "source": [
    "print(phidataP[1])"
   ]
  },
  {
   "cell_type": "code",
   "execution_count": null,
   "metadata": {
    "scrolled": false
   },
   "outputs": [],
   "source": [
    "import plotly.graph_objects as go\n",
    " \n",
    "import plotly.io as pio\n",
    "import numpy as np\n",
    "\n",
    "import pandas as pd\n",
    "\n",
    "phidataPL = pd.DataFrame(data=phidataP[287], index=None, columns=None)\n",
    "\n",
    "fig = go.Figure(data=[go.Surface(z=phidataPL.values)])\n",
    "\n",
    "#fig.update_layout(title='$z=0$', autosize=False,width=500, height=500,margin=dict(l=65, r=50, b=65, t=90))\n",
    "\n",
    "fig.show()"
   ]
  },
  {
   "cell_type": "code",
   "execution_count": null,
   "metadata": {},
   "outputs": [],
   "source": [
    "pio.write_html(fig, 'Soliton512.html')"
   ]
  },
  {
   "cell_type": "code",
   "execution_count": null,
   "metadata": {},
   "outputs": [],
   "source": [
    "print(phidataPL)"
   ]
  },
  {
   "cell_type": "code",
   "execution_count": null,
   "metadata": {
    "scrolled": false
   },
   "outputs": [],
   "source": [
    "z_data = pd.read_csv('https://raw.githubusercontent.com/plotly/datasets/master/api_docs/mt_bruno_elevation.csv')\n",
    "\n",
    "fig = go.Figure(data=[go.Surface(z=z_data.values)])\n",
    "\n",
    "fig.update_layout(title='Mt Bruno Elevation', autosize=False,\n",
    "                  width=500, height=500,\n",
    "                  margin=dict(l=65, r=50, b=65, t=90))\n",
    "\n",
    "fig.show()"
   ]
  },
  {
   "cell_type": "code",
   "execution_count": null,
   "metadata": {},
   "outputs": [],
   "source": [
    "print(z_data)"
   ]
  },
  {
   "cell_type": "code",
   "execution_count": null,
   "metadata": {},
   "outputs": [],
   "source": []
  }
 ],
 "metadata": {
  "kernelspec": {
   "display_name": "Python 3",
   "language": "python",
   "name": "python3"
  },
  "language_info": {
   "codemirror_mode": {
    "name": "ipython",
    "version": 3
   },
   "file_extension": ".py",
   "mimetype": "text/x-python",
   "name": "python",
   "nbconvert_exporter": "python",
   "pygments_lexer": "ipython3",
   "version": "3.6.9"
  }
 },
 "nbformat": 4,
 "nbformat_minor": 4
}
