{
 "cells": [
  {
   "cell_type": "markdown",
   "metadata": {},
   "source": [
    "Improved (Higher Quantum Number) Soliton Profile Generator"
   ]
  },
  {
   "cell_type": "code",
   "execution_count": 1,
   "metadata": {},
   "outputs": [
    {
     "name": "stdout",
     "output_type": "stream",
     "text": [
      "Axion Mass (eV). Blank for 1e-22 eV\n",
      "PyUL.Universe: Axion Mass: 1e-22 eV.\n",
      "==============================================================================\n",
      "PyUL.23.5: (c) 2020 - 2021 Wang., Y. and collaborators. \n",
      "Auckland Cosmology Group\n",
      "\n",
      "Original PyUltraLight Team:\n",
      "Edwards, F., Kendall, E., Hotchkiss, S. & Easther, R.\n",
      "arxiv.org/abs/1807.04037\n",
      "==============================================================================\n"
     ]
    }
   ],
   "source": [
    "import numpy as np\n",
    "import matplotlib.pyplot as plt\n",
    "import scipy.integrate as si\n",
    "import time\n",
    "\n",
    "import PyUltraLight2 as PyUL\n",
    "\n",
    "%reload_ext autoreload\n",
    "%autoreload 2"
   ]
  },
  {
   "cell_type": "code",
   "execution_count": null,
   "metadata": {},
   "outputs": [],
   "source": [
    "# This code uses a Runge-Kutta 4th order algorithm to solve for the initial soliton profile\n",
    "\n",
    "#Note that the spatial resolution of the profile must match the specification of delta_x in the main code.\n",
    "dr = .0001\n",
    "max_radius = 9\n",
    "rge = max_radius/dr\n",
    "\n",
    "\n",
    "def g1(r, a, b, c):\n",
    "    return -(2/r)*c+2*b*a\n",
    "\n",
    "def g2(r, a, d):\n",
    "    return 4*np.pi*a**2-(2/r)*d\n",
    "\n",
    "s = 0.\n",
    "diff = 1.\n",
    "optimised = False"
   ]
  },
  {
   "cell_type": "markdown",
   "metadata": {},
   "source": [
    "# Solving Radial SPE"
   ]
  },
  {
   "cell_type": "code",
   "execution_count": null,
   "metadata": {},
   "outputs": [],
   "source": [
    "def SolitonProfileX(BHMass,s,Smoo,Node):\n",
    "      \n",
    "    #Note that the spatial resolution of the profile must match the specification of delta_x in the main code.\n",
    "    \n",
    "    dr = .001\n",
    "    max_radius = 14 + Node\n",
    "    tolerance = 1e-5 # how close f(r) must be to 0 at r_max; can be changed\n",
    "    print(\"=\"*80)    \n",
    "    print(f\"Resolution {dr}. Order {Node}. Max r {max_radius}.\")\n",
    "        \n",
    "    rge = max_radius/dr\n",
    "    \n",
    "    BHmass = BHMass\n",
    "\n",
    "    Lambda = 0 # axion self-interaction strength. Lambda < 0: attractive.\n",
    "    \n",
    "    nodes = [Node] \n",
    "\n",
    "    plot_while_calculating = False # If true, a figure will be updated for every attempted solution\n",
    "\n",
    "    verbose_output = True # If true, s value of every attempt will be printed in console.\n",
    "\n",
    "    if Smoo == 0:\n",
    "        def g1(r, a, b, c, BHmass = BHmass):\n",
    "            return -(2/r)*c+2*b*a - 2*(BHmass / r)*a + 2 * Lambda * a **3\n",
    "    else:\n",
    "        def g1(r, a, b, c, BHmass = BHmass):\n",
    "            return -(2/r)*c+2*b*a - 2*(Smoo*BHmass / np.sqrt(1+(Smoo*r)**2))*a + 2 * Lambda * a **3\n",
    "\n",
    "    def g2(r, a, d):\n",
    "        return 4*np.pi*a**2-(2/r)*d\n",
    "\n",
    "    for order in nodes:\n",
    "\n",
    "        optimised = False\n",
    "        tstart = time.time()\n",
    "\n",
    "        phi_min = -5 # lower phi-tilde value (i.e. more negative phi value)\n",
    "        phi_max = s\n",
    "        draw = 0\n",
    "        currentflag = 0\n",
    "\n",
    "        if plot_while_calculating == True:\n",
    "            plt.figure(1)\n",
    "\n",
    "        while optimised == False:\n",
    "            nodenumber = 0\n",
    "\n",
    "            ai = 1\n",
    "            bi = s\n",
    "            ci = 0\n",
    "            di = 0\n",
    "\n",
    "            la = []\n",
    "            lb = []\n",
    "            lc = []\n",
    "            ld = []\n",
    "            lr = []\n",
    "            intlist = []\n",
    "\n",
    "            la.append(ai)\n",
    "            lb.append(bi)\n",
    "            lc.append(ci)\n",
    "            ld.append(di)\n",
    "            lr.append(dr/1000)\n",
    "            intlist.append(0.)\n",
    "\n",
    "\n",
    "            # kn lists follow index a, b, c, d, i.e. k1[0] is k1a\n",
    "            k1 = []\n",
    "            k2 = []\n",
    "            k3 = []\n",
    "            k4 = []\n",
    "\n",
    "            for i in range(int(rge)):\n",
    "                list1 = []\n",
    "                list1.append(lc[i]*dr)\n",
    "                list1.append(ld[i]*dr)\n",
    "                list1.append(g1(lr[i],la[i],lb[i],lc[i])*dr)\n",
    "                list1.append(g2(lr[i],la[i],ld[i])*dr)\n",
    "                k1.append(list1)\n",
    "\n",
    "                list2 = []\n",
    "                list2.append((lc[i]+k1[i][2]/2)*dr)\n",
    "                list2.append((ld[i]+k1[i][3]/2)*dr)\n",
    "                list2.append(g1(lr[i]+dr/2,la[i]+k1[i][0]/2,lb[i]+k1[i][1]/2,lc[i]+k1[i][2]/2)*dr)\n",
    "                list2.append(g2(lr[i]+dr/2,la[i]+k1[i][0]/2,ld[i]+k1[i][3]/2)*dr)\n",
    "                k2.append(list2)\n",
    "\n",
    "                list3 = []\n",
    "                list3.append((lc[i]+k2[i][2]/2)*dr)\n",
    "                list3.append((ld[i]+k2[i][3]/2)*dr)\n",
    "                list3.append(g1(lr[i]+dr/2,la[i]+k2[i][0]/2,lb[i]+k2[i][1]/2,lc[i]+k2[i][2]/2)*dr)\n",
    "                list3.append(g2(lr[i]+dr/2,la[i]+k2[i][0]/2,ld[i]+k2[i][3]/2)*dr)\n",
    "                k3.append(list3)\n",
    "\n",
    "                list4 = []\n",
    "                list4.append((lc[i]+k3[i][2])*dr)\n",
    "                list4.append((ld[i]+k3[i][3])*dr)\n",
    "                list4.append(g1(lr[i]+dr,la[i]+k3[i][0],lb[i]+k3[i][1],lc[i]+k3[i][2])*dr)\n",
    "                list4.append(g2(lr[i]+dr,la[i]+k3[i][0],ld[i]+k3[i][3])*dr)\n",
    "                k4.append(list4)\n",
    "\n",
    "                la.append(la[i]+(k1[i][0]+2*k2[i][0]+2*k3[i][0]+k4[i][0])/6)\n",
    "                lb.append(lb[i]+(k1[i][1]+2*k2[i][1]+2*k3[i][1]+k4[i][1])/6)\n",
    "                lc.append(lc[i]+(k1[i][2]+2*k2[i][2]+2*k3[i][2]+k4[i][2])/6)\n",
    "                ld.append(ld[i]+(k1[i][3]+2*k2[i][3]+2*k3[i][3]+k4[i][3])/6)\n",
    "                lr.append(lr[i]+dr)\n",
    "                intlist.append((la[i]+(k1[i][0]+2*k2[i][0]+2*k3[i][0]+k4[i][0])/6)**2*(lr[i]+dr)**2)\n",
    "\n",
    "                if la[i]*la[i-1] < 0:\n",
    "                    nodenumber = nodenumber + 1\n",
    "\n",
    "                if (draw % 10 == 0) and (plot_while_calculating == True):\n",
    "                    plt.clf()\n",
    "\n",
    "                if nodenumber > order:\n",
    "                    phi_min = s\n",
    "                    s = (phi_min + phi_max)/2\n",
    "                    if verbose_output == True:\n",
    "                        print(\"🟦\", end =\"\")\n",
    "                    if plot_while_calculating == True:\n",
    "                        plt.plot(la)\n",
    "                        plt.pause(0.05)\n",
    "                        plt.show()\n",
    "                    draw += 1\n",
    "                    break\n",
    "\n",
    "                elif la[i] > 1.0:\n",
    "                    currentflag = 1.1\n",
    "                    phi_max = s\n",
    "                    s = (phi_min + phi_max)/2\n",
    "                    if verbose_output == True:\n",
    "                        print(\"🟨\", end =\"\")\n",
    "                    if plot_while_calculating == True:\n",
    "                        plt.plot(la)\n",
    "                        plt.pause(0.05)\n",
    "                    draw += 1\n",
    "                    break\n",
    "\n",
    "                elif la[i] < -1.0:\n",
    "                    currentflag = 1.2\n",
    "                    phi_max = s\n",
    "                    s = (phi_min + phi_max)/2\n",
    "                    if verbose_output == True:\n",
    "                        print(\"🟧\", end =\"\")\n",
    "                    if plot_while_calculating == True:\n",
    "                        plt.plot(la)\n",
    "                        plt.pause(0.05)\n",
    "                    draw += 1\n",
    "                    break\n",
    "\n",
    "                if i == int(rge)-1:\n",
    "                    if nodenumber < order:\n",
    "                        currentflag = 2\n",
    "                        phi_max = s\n",
    "                        s = (phi_min + phi_max)/2\n",
    "                        if verbose_output == True:\n",
    "                            print(\"🟥\", end =\"\")\n",
    "                        if plot_while_calculating == True:\n",
    "                            plt.plot(la)\n",
    "                            plt.pause(0.05)\n",
    "                        draw += 1\n",
    "                        break\n",
    "\n",
    "                    elif ((order%2 == 1) and (la[i] < -tolerance)) or ((order%2 == 0) and (la[i] > tolerance)):\n",
    "                        currentflag = 4\n",
    "                        phi_max = s\n",
    "                        s = (phi_min + phi_max)/2\n",
    "                        if verbose_output == True:\n",
    "                            print(\"🟩\", end =\"\")\n",
    "                        if plot_while_calculating == True:\n",
    "                            plt.plot(la)\n",
    "                            plt.pause(0.05)\n",
    "                            plt.show()\n",
    "                        draw += 1\n",
    "                        break\n",
    "\n",
    "                    else:\n",
    "                        optimised = True\n",
    "                        timetaken = time.time() - tstart\n",
    "                        grad = (lb[i] - lb[i - 1]) / dr\n",
    "                        const = lr[i] ** 2 * grad\n",
    "                        beta = lb[i] + const / lr[i]\n",
    "                        \n",
    "                        print(f'\\n s = {s:.5g}, Time Taken {timetaken:.3g}s')\n",
    "\n",
    "        #Calculate full width at half maximum density:\n",
    "\n",
    "        difflist = []\n",
    "        for i in range(int(rge)):\n",
    "            difflist.append(abs(la[i]**2 - 0.5))\n",
    "\n",
    "        fwhm = 2*lr[difflist.index(min(difflist))]\n",
    "\n",
    "        #Calculate the (dimensionless) mass of the soliton:\n",
    "        \n",
    "        mass = si.simps(intlist,lr)*4*np.pi\n",
    "\n",
    "        #Calculate the radius containing 90% of the massin\n",
    "\n",
    "        partial = 0.\n",
    "        for i in range(int(rge)):\n",
    "            partial = partial + intlist[i]*4*np.pi*dr\n",
    "            if partial >= 0.9*mass:\n",
    "                r90 = lr[i]\n",
    "                break\n",
    "\n",
    "        partial = 0.\n",
    "        for i in range(int(rge)):\n",
    "            partial = partial + intlist[i]*4*np.pi*dr\n",
    "            if lr[i] >= 0.5*1.38:\n",
    "                print ('{}{}'.format('M_core = ', partial))\n",
    "                break\n",
    "\n",
    "        #print ('{}{}'.format('Full width at half maximum density is ', fwhm))\n",
    "        #print ('{}{}'.format('Beta is ', beta))\n",
    "        #print ('{}{}'.format('Pre-Alpha (Mass) is ', mass))\n",
    "        #print ('{}{}'.format('Radius at 90% mass is ', r90))\n",
    "        #print ('{}{}'.format('MBH/MSoliton is ', BHmass/mass))\n",
    "\n",
    "        #Save the numpy array and plots of the potential and wavefunction profiles.\n",
    "        psi_array = np.array(la)\n",
    "        \n",
    "        Ratio = BHmass / mass \n",
    "        \n",
    "        Save_Folder = './Soliton Profile Files/HFK/'\n",
    "        \n",
    "        RATIOName = f\"f_STD_{Node:02d}\"\n",
    "        \n",
    "        #print(RATIOName)\n",
    "        \n",
    "        Profile_Config = {}\n",
    "        \n",
    "        Profile_Config[\"Version\"] = ({\"Short\": PyUL.Version, \n",
    "                                      \"Long\": PyUL.D_version})\n",
    "\n",
    "        Profile_Config[\"Actual Ratio\"] = 0\n",
    "        Profile_Config[\"Resolution\"] = dr\n",
    "        Profile_Config[\"Alpha\"] = mass\n",
    "        Profile_Config[\"Beta\"] = beta\n",
    "        Profile_Config[\"Field Smoothing Factor\"] = 0\n",
    "        Profile_Config[\"Radial Cutoff\"] = max_radius\n",
    "        \n",
    "        np.save(Save_Folder + RATIOName + '.npy', psi_array)\n",
    "        \n",
    "        with open(Save_Folder + RATIOName + '_info.uldm', \"w+\") as outfile:\n",
    "            json.dump(Profile_Config, outfile,indent=4)\n",
    "\n",
    "    #print ('Successfully Initiated Soliton Profile.')\n",
    "    return s"
   ]
  },
  {
   "cell_type": "code",
   "execution_count": null,
   "metadata": {},
   "outputs": [],
   "source": [
    "s = -2\n",
    "for i in range(20):\n",
    "    s = SolitonProfileX(0,s,0,i)"
   ]
  },
  {
   "cell_type": "code",
   "execution_count": null,
   "metadata": {},
   "outputs": [],
   "source": [
    "import matplotlib.pyplot as plt\n",
    "\n",
    "import matplotlib\n",
    "\n",
    "\n",
    "\n"
   ]
  },
  {
   "cell_type": "code",
   "execution_count": null,
   "metadata": {},
   "outputs": [],
   "source": [
    "nMax = 20\n",
    "\n",
    "figure = plt.figure(figsize = (8,5))\n",
    "\n",
    "Color = matplotlib.cm.Spectral(np.linspace(0,1,nMax))\n",
    "\n",
    "for i in range(nMax):\n",
    "    FileName = f\"./Soliton Profile Files/HFK/f_STD_{i:02d}.npy\"\n",
    "    \n",
    "    Data = np.load(FileName)\n",
    "    \n",
    "    plt.semilogx(Data, color = Color[i])\n",
    "    \n",
    "    plt.xlabel('Radial Data Point')\n",
    "    plt.ylabel('Nominal Wavefunction Amplitude')\n",
    "    \n",
    "plt.xlim(100,100000)"
   ]
  },
  {
   "cell_type": "markdown",
   "metadata": {},
   "source": [
    "# Pre-Baked Spherical Harmonics"
   ]
  },
  {
   "cell_type": "code",
   "execution_count": null,
   "metadata": {},
   "outputs": [],
   "source": [
    "from scipy.special import sph_harm as SPH"
   ]
  },
  {
   "cell_type": "code",
   "execution_count": null,
   "metadata": {},
   "outputs": [],
   "source": [
    "resol = 128\n",
    "\n",
    "GSpace = np.linspace(-1,1,resol,endpoint=False)\n",
    "\n",
    "xG,yG,zG = np.meshgrid(GSpace,GSpace,GSpace,indexing = 'ij')"
   ]
  },
  {
   "cell_type": "code",
   "execution_count": null,
   "metadata": {},
   "outputs": [],
   "source": [
    "RArr = np.sqrt(xG**2+yG**2+zG**2) # R (Not Useful)\n",
    "rArr = np.sqrt(xG**2+yG**2) # R (Not Useful)\n",
    "\n",
    "LonArr =  np.arctan2(yG,xG) # THETA # Longitude\n",
    "ColArr = np.arccos(zG/rArr)  # Colatitude\n",
    "\n",
    "ColArr[np.isnan(ColArr)] = 0"
   ]
  },
  {
   "cell_type": "code",
   "execution_count": null,
   "metadata": {},
   "outputs": [],
   "source": [
    "SphArr = np.zeros([resol,resol,resol], dtype = 'complex128')"
   ]
  },
  {
   "cell_type": "code",
   "execution_count": null,
   "metadata": {
    "scrolled": true
   },
   "outputs": [],
   "source": [
    "l = 7\n",
    "\n",
    "for i in range(l+1):\n",
    "    m = i\n",
    "\n",
    "    SphArr = SPH(m,l,LonArr,ColArr)\n",
    "    \n",
    "    SphArrP = np.real(SphArr)\n",
    "    \n",
    "    plt.imshow(SphArrP[:,:,resol//2])\n",
    "    plt.show()"
   ]
  },
  {
   "cell_type": "code",
   "execution_count": null,
   "metadata": {},
   "outputs": [],
   "source": [
    "%timeit SPH(7,7,1,1)"
   ]
  },
  {
   "cell_type": "code",
   "execution_count": null,
   "metadata": {},
   "outputs": [],
   "source": [
    "def SphFast(l,m):\n",
    "    \n",
    "    SphArr = SPH(l,m,LonArr,ColArr)\n",
    "    \n",
    "    return SphArr"
   ]
  },
  {
   "cell_type": "code",
   "execution_count": null,
   "metadata": {
    "scrolled": true
   },
   "outputs": [],
   "source": [
    "T0 = time.time()\n",
    "\n",
    "SphFast(5,5)\n",
    "\n",
    "print(f\"{time.time()-T0:.4g} seconds\")"
   ]
  },
  {
   "cell_type": "code",
   "execution_count": null,
   "metadata": {
    "scrolled": false
   },
   "outputs": [],
   "source": [
    "nMax = 6\n",
    "\n",
    "for l in range(nMax-1):\n",
    "    \n",
    "    for m in range(l+1):\n",
    "    \n",
    "    #m = 0 \n",
    "    \n",
    "        SphArr = SPH(m,l,LonArr,ColArr)\n",
    "\n",
    "        SphArrP = np.real(SphArr)\n",
    "\n",
    "        plt.imshow(SphArrP[:,:,resol//4],cmap = 'magma')\n",
    "\n",
    "        plt.show()\n",
    "\n",
    "        np.save(f\"./Spherical Harmonics Files/SPH{resol}_{l}_{m}.npy\",SphArr)\n",
    "\n",
    "            #if m > 0:\n",
    "            #    np.save(f\"./Spherical Harmonics Files/SPH{resol}_{l}_{-m}.npy\",-1*np.conj(SphArr))\n",
    "\n",
    "            "
   ]
  },
  {
   "cell_type": "code",
   "execution_count": null,
   "metadata": {},
   "outputs": [],
   "source": [
    "import json"
   ]
  },
  {
   "cell_type": "code",
   "execution_count": null,
   "metadata": {
    "scrolled": false
   },
   "outputs": [],
   "source": [
    "impo"
   ]
  },
  {
   "cell_type": "markdown",
   "metadata": {},
   "source": [
    "# In-Script Usage"
   ]
  },
  {
   "cell_type": "code",
   "execution_count": null,
   "metadata": {},
   "outputs": [],
   "source": [
    "resol = 128\n",
    "\n",
    "lC = PyUL.convert(10,'kpc','l')\n",
    "\n",
    "mS = PyUL.convert(12,'M_solar_masses','m')\n",
    "\n",
    "\n",
    "gridvec = np.linspace(-lC / 2.0, lC / 2.0, resol, endpoint=False)\n",
    "    \n",
    "xarray, yarray, zarray = np.meshgrid(\n",
    "        gridvec, gridvec, gridvec,\n",
    "        sparse=True, indexing='ij')"
   ]
  },
  {
   "cell_type": "code",
   "execution_count": null,
   "metadata": {},
   "outputs": [],
   "source": [
    "\n",
    "\n",
    "Basis = PyUL.NLMCompile(resol, mS, xarray,yarray,zarray,max_n = 8, OnlySym = True)"
   ]
  },
  {
   "cell_type": "code",
   "execution_count": null,
   "metadata": {
    "scrolled": false
   },
   "outputs": [],
   "source": [
    "Ba00 = np.abs(Basis[\"000\"])\n",
    "\n",
    "AMax = np.max(Ba00)\n",
    "AMin = np.min(Ba00)\n",
    "    \n",
    "\n",
    "for i in range(8):\n",
    "    Ind = f\"{i}00\"\n",
    "    #plt.imshow(np.abs(Basis[Ind])[:,:,64],vmin = AMin, vmax = AMax)\n",
    "    plt.imshow(np.abs(Basis[Ind])[:,:,64])\n",
    "    \n",
    "    plt.show()"
   ]
  },
  {
   "cell_type": "code",
   "execution_count": null,
   "metadata": {},
   "outputs": [],
   "source": [
    "import PyUltraLight2 as PyUL"
   ]
  },
  {
   "cell_type": "markdown",
   "metadata": {},
   "source": [
    "# Finite Element Method of Obtaining Radial SPE $f_{n,l}$ Functions"
   ]
  },
  {
   "cell_type": "code",
   "execution_count": 55,
   "metadata": {},
   "outputs": [],
   "source": [
    "length = 2\n",
    "length_units = ''\n",
    "\n",
    "mS = 10\n",
    "s_mass_unit = ''\n",
    "\n",
    "resol = 256\n",
    "\n",
    "solitons = [[mS,[0,0,0],[0,0,0],0]]"
   ]
  },
  {
   "cell_type": "markdown",
   "metadata": {},
   "source": [
    "## Basically a dyno for the production code"
   ]
  },
  {
   "cell_type": "code",
   "execution_count": 56,
   "metadata": {},
   "outputs": [],
   "source": [
    "import numexpr as ne\n",
    "\n",
    "import pyfftw\n",
    "\n",
    "import multiprocessing\n",
    "\n",
    "pi = np.pi\n",
    "\n",
    "num_threads = multiprocessing.cpu_count()"
   ]
  },
  {
   "cell_type": "code",
   "execution_count": 57,
   "metadata": {},
   "outputs": [],
   "source": [
    "gridvec = np.linspace(-length / 2.0, length / 2.0, resol, endpoint=False)\n",
    "\n",
    "xarray, yarray, zarray = np.meshgrid(gridvec,\n",
    "                                     gridvec,\n",
    "                                     gridvec,\n",
    "                                     sparse=True,\n",
    "                                     indexing='ij')\n",
    "\n",
    "WN = 2 * np.pi * np.fft.fftfreq(resol, length / (resol))  # 2pi Pre-multiplied\n",
    "\n",
    "Kx, Ky, Kz = np.meshgrid(\n",
    "    WN,\n",
    "    WN,\n",
    "    WN,\n",
    "    sparse=True,\n",
    "    indexing='ij',\n",
    ")\n",
    "\n",
    "kvec = 2 * np.pi * np.fft.fftfreq(resol, length / float(resol))\n",
    "\n",
    "kxarray, kyarray, kzarray = np.meshgrid(\n",
    "    kvec,\n",
    "    kvec,\n",
    "    kvec,\n",
    "    sparse=True,\n",
    "    indexing='ij',\n",
    ")\n",
    "\n",
    "karray2 = ne.evaluate(\"kxarray**2+kyarray**2+kzarray**2\")"
   ]
  },
  {
   "cell_type": "code",
   "execution_count": null,
   "metadata": {},
   "outputs": [],
   "source": []
  },
  {
   "cell_type": "code",
   "execution_count": 58,
   "metadata": {},
   "outputs": [],
   "source": [
    "psi = pyfftw.zeros_aligned((resol, resol, resol), dtype='complex128')\n",
    "\n",
    "funct = pyfftw.zeros_aligned((resol, resol, resol), dtype='complex128')   \n",
    "\n",
    "f = PyUL.LoadDefaultSoliton()\n",
    "delta_x = 0.00001\n",
    "t0 = 0\n",
    "\n",
    "for s in solitons:\n",
    "    mass = PyUL.convert(s[0], s_mass_unit, 'm')\n",
    "    position = PyUL.convert(np.array(s[1]), '', 'l')\n",
    "    velocity = PyUL.convert(np.array(s[2]), '', 'v')\n",
    "    # Note that alpha and beta parameters are computed when the initial_f.npy soliton profile file is generated.\n",
    "    alpha = (mass / 3.883)**2\n",
    "    beta = 2.454\n",
    "    phase = s[3]\n",
    "    funct = PyUL.initsoliton_jit(funct, xarray, yarray, zarray, position,\n",
    "                                 alpha, f, delta_x)\n",
    "    ####### Impart velocity to solitons in Galilean invariant way\n",
    "    velx = velocity[0]\n",
    "    vely = velocity[1]\n",
    "    velz = velocity[2]\n",
    "\n",
    "    funct = ne.evaluate(\n",
    "        \"exp(1j*(alpha*beta*t0 + velx*xarray + vely*yarray + velz*zarray -0.5*(velx*velx+vely*vely+velz*velz)*t0  + phase))*funct\"\n",
    "    )\n",
    "\n",
    "    psi = ne.evaluate(\"psi + funct\")\n",
    "    \n",
    "rho = ne.evaluate(\"abs(abs(psi)**2)\")\n",
    "        \n",
    "rho = rho.real\n",
    "\n",
    "##########################################################################################\n",
    "# SETUP PADDED POTENTIAL HERE (From JLZ)\n",
    "\n",
    "rhopad = pyfftw.zeros_aligned((2*resol, resol, resol), dtype='float64')\n",
    "bigplane = pyfftw.zeros_aligned((2*resol, 2*resol), dtype='float64')\n",
    "\n",
    "fft_X = pyfftw.builders.fftn(rhopad, axes=(0, ), threads=num_threads)\n",
    "ifft_X = pyfftw.builders.ifftn(rhopad, axes=(0, ), threads=num_threads)\n",
    "\n",
    "fft_plane = pyfftw.builders.fftn(bigplane, axes=(0, 1), threads=num_threads)\n",
    "ifft_plane = pyfftw.builders.ifftn(bigplane, axes=(0, 1), threads=num_threads)\n",
    "\n",
    "phiSP = pyfftw.zeros_aligned((resol, resol, resol), dtype='float64')\n",
    "phiTM = pyfftw.zeros_aligned((resol, resol, resol), dtype='float64') # New, separate treatment.\n",
    "\n",
    "fft_phi = pyfftw.builders.fftn(phiSP, axes=(0, 1, 2), threads=num_threads)\n",
    "##########################################################################################\n",
    "# SETUP K-SPACE FOR RHO (REAL)\n",
    "\n",
    "rkvec = 2 * np.pi * np.fft.fftfreq(resol, length / float(resol))\n",
    "\n",
    "krealvec = 2 * np.pi * np.fft.rfftfreq(resol, length / float(resol))\n",
    "\n",
    "rkxarray, rkyarray, rkzarray = np.meshgrid(\n",
    "    rkvec, rkvec, krealvec,\n",
    "    sparse=True, indexing='ij'\n",
    ")\n",
    "\n",
    "rkarray2 = ne.evaluate(\"rkxarray**2+rkyarray**2+rkzarray**2\")\n",
    "\n",
    "rfft_rho = pyfftw.builders.rfftn(rho, axes=(0, 1, 2), threads=num_threads)\n",
    "\n",
    "phik = rfft_rho(rho.real)  # not actually phik but phik is defined in next line\n",
    "\n",
    "phik = ne.evaluate(\"-4*pi*phik/rkarray2\")\n",
    "\n",
    "phik[0, 0, 0] = 0\n",
    "\n",
    "irfft_phi = pyfftw.builders.irfftn(phik, axes=(0, 1, 2), threads=num_threads)\n",
    "\n",
    "\n",
    "##########################################################################################\n",
    "# COMPUTE INTIAL VALUE OF POTENTIAL\n",
    "\n",
    "phiSP = irfft_phi(phik)"
   ]
  },
  {
   "cell_type": "code",
   "execution_count": 59,
   "metadata": {},
   "outputs": [
    {
     "data": {
      "text/plain": [
       "<matplotlib.image.AxesImage at 0x7fb062f4def0>"
      ]
     },
     "execution_count": 59,
     "metadata": {},
     "output_type": "execute_result"
    },
    {
     "data": {
      "image/png": "[encoded data removed]",
      "text/plain": [
       "<Figure size 432x288 with 1 Axes>"
      ]
     },
     "metadata": {
      "needs_background": "light"
     },
     "output_type": "display_data"
    }
   ],
   "source": [
    "plt.imshow(phiSP[:,:,resol//2])"
   ]
  },
  {
   "cell_type": "code",
   "execution_count": 60,
   "metadata": {},
   "outputs": [
    {
     "data": {
      "text/plain": [
       "<matplotlib.image.AxesImage at 0x7fb062eb4978>"
      ]
     },
     "execution_count": 60,
     "metadata": {},
     "output_type": "execute_result"
    },
    {
     "data": {
      "image/png": "[encoded data removed]",
      "text/plain": [
       "<Figure size 432x288 with 1 Axes>"
      ]
     },
     "metadata": {
      "needs_background": "light"
     },
     "output_type": "display_data"
    }
   ],
   "source": [
    "plt.imshow(rho[:,:,resol//2])"
   ]
  },
  {
   "cell_type": "code",
   "execution_count": 63,
   "metadata": {},
   "outputs": [
    {
     "name": "stdout",
     "output_type": "stream",
     "text": [
      "Axion Mass (eV). Blank for 1e-22 eV1e-22\n",
      "PyUL.Universe: Axion Mass: 1e-22 eV.\n"
     ]
    }
   ],
   "source": [
    "PhiRad = phiSP[:,resol//2,resol//2]\n",
    "\n",
    "PhiArr = np.diag(PhiRad)"
   ]
  },
  {
   "cell_type": "code",
   "execution_count": 64,
   "metadata": {},
   "outputs": [
    {
     "data": {
      "text/plain": [
       "[<matplotlib.lines.Line2D at 0x7fb058632e48>]"
      ]
     },
     "execution_count": 64,
     "metadata": {},
     "output_type": "execute_result"
    },
    {
     "data": {
      "image/png": "[encoded data removed]",
      "text/plain": [
       "<Figure size 432x288 with 1 Axes>"
      ]
     },
     "metadata": {
      "needs_background": "light"
     },
     "output_type": "display_data"
    }
   ],
   "source": [
    "plt.plot(PhiRad)"
   ]
  },
  {
   "cell_type": "code",
   "execution_count": 69,
   "metadata": {
    "scrolled": true
   },
   "outputs": [
    {
     "data": {
      "text/plain": [
       "<matplotlib.image.AxesImage at 0x7fb069f45208>"
      ]
     },
     "execution_count": 69,
     "metadata": {},
     "output_type": "execute_result"
    },
    {
     "data": {
      "image/png": "[encoded data removed]",
      "text/plain": [
       "<Figure size 1080x1080 with 1 Axes>"
      ]
     },
     "metadata": {
      "needs_background": "light"
     },
     "output_type": "display_data"
    }
   ],
   "source": [
    "plt.figure(figsize = (15,15))\n",
    "\n",
    "plt.imshow(PhiArr,origin = 'lower')"
   ]
  },
  {
   "cell_type": "code",
   "execution_count": null,
   "metadata": {},
   "outputs": [],
   "source": []
  }
 ],
 "metadata": {
  "kernelspec": {
   "display_name": "Python 3",
   "language": "python",
   "name": "python3"
  },
  "language_info": {
   "codemirror_mode": {
    "name": "ipython",
    "version": 3
   },
   "file_extension": ".py",
   "mimetype": "text/x-python",
   "name": "python",
   "nbconvert_exporter": "python",
   "pygments_lexer": "ipython3",
   "version": "3.6.9"
  },
  "toc": {
   "base_numbering": 1,
   "nav_menu": {},
   "number_sections": true,
   "sideBar": true,
   "skip_h1_title": false,
   "title_cell": "Table of Contents",
   "title_sidebar": "Contents",
   "toc_cell": false,
   "toc_position": {
    "height": "calc(100% - 180px)",
    "left": "10px",
    "top": "150px",
    "width": "384px"
   },
   "toc_section_display": true,
   "toc_window_display": false
  }
 },
 "nbformat": 4,
 "nbformat_minor": 2
}
