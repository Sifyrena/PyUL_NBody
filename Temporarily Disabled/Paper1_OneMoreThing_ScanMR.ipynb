{
 "cells": [
  {
   "cell_type": "markdown",
   "metadata": {
    "toc": true
   },
   "source": [
    "<h1>Table of Contents<span class=\"tocSkip\"></span></h1>\n",
    "<div class=\"toc\"><ul class=\"toc-item\"><li><span><a href=\"#Initialization\" data-toc-modified-id=\"Initialization-1\"><span class=\"toc-item-num\">1&nbsp;&nbsp;</span>Initialization</a></span><ul class=\"toc-item\"><li><span><a href=\"#Graphics\" data-toc-modified-id=\"Graphics-1.1\"><span class=\"toc-item-num\">1.1&nbsp;&nbsp;</span>Graphics</a></span></li></ul></li><li><span><a href=\"#Getting-Ready\" data-toc-modified-id=\"Getting-Ready-2\"><span class=\"toc-item-num\">2&nbsp;&nbsp;</span>Getting Ready</a></span><ul class=\"toc-item\"><li><span><a href=\"#Base-Integrator-Settings\" data-toc-modified-id=\"Base-Integrator-Settings-2.1\"><span class=\"toc-item-num\">2.1&nbsp;&nbsp;</span>Base Integrator Settings</a></span></li><li><span><a href=\"#Initial-Conditions\" data-toc-modified-id=\"Initial-Conditions-2.2\"><span class=\"toc-item-num\">2.2&nbsp;&nbsp;</span>Initial Conditions</a></span></li></ul></li><li><span><a href=\"#Batch-Execution\" data-toc-modified-id=\"Batch-Execution-3\"><span class=\"toc-item-num\">3&nbsp;&nbsp;</span>Batch Execution</a></span></li></ul></div>"
   ]
  },
  {
   "cell_type": "markdown",
   "metadata": {},
   "source": [
    "# Initialization"
   ]
  },
  {
   "cell_type": "code",
   "execution_count": 2,
   "metadata": {
    "ExecuteTime": {
     "end_time": "2021-03-02T10:31:29.194567Z",
     "start_time": "2021-03-02T10:31:29.106737Z"
    },
    "hide_input": false,
    "init_cell": true,
    "scrolled": false
   },
   "outputs": [
    {
     "name": "stdout",
     "output_type": "stream",
     "text": [
      "PyUL2.universe: m22 = 1\n"
     ]
    }
   ],
   "source": [
    "###### Do not touch\n",
    "MinVersion = 22\n",
    "\n",
    "import PyUltraLight2 as PyUL\n",
    "\n",
    "if (PyUL.S_version < MinVersion):\n",
    "    raise RuntimeError(\"You need the latest PyULN!\")\n",
    "\n",
    "import numpy as np\n",
    "\n",
    "np.set_printoptions(suppress=True)\n",
    "\n",
    "import math\n",
    "\n",
    "import numba\n",
    "import numexpr as ne\n",
    "import time\n",
    "import pyfftw\n",
    "import os\n",
    "import sys\n",
    "import multiprocessing\n",
    "import numpy\n",
    "\n",
    "from matplotlib import cm\n",
    "from mpl_toolkits.mplot3d import Axes3D\n",
    "import matplotlib as mpl\n",
    "import matplotlib.pyplot as plt\n",
    "import matplotlib.gridspec\n",
    "import matplotlib.animation\n",
    "from matplotlib.offsetbox import AnchoredText\n",
    "\n",
    "import IPython\n",
    "from IPython.core.display import clear_output, display, Video\n",
    "\n",
    "from numpy import sqrt, exp, log, log10, sin, cos, tan, pi\n",
    "\n",
    "%reload_ext autoreload\n",
    "%autoreload 2\n",
    "\n",
    "\n",
    "# Useful Aux Functions\n",
    "ToCode = PyUL.convert\n",
    "ToPhys = PyUL.convert_back\n",
    "CB = PyUL.convert_between\n",
    "\n",
    "printU = PyUL.printU\n",
    "\n",
    "\n",
    "m22 = PyUL.axion_E / 1e-22\n",
    "\n",
    "printU(f\"m22 = {m22:.3g}\", 'universe')\n"
   ]
  },
  {
   "cell_type": "markdown",
   "metadata": {},
   "source": [
    "## Graphics"
   ]
  },
  {
   "cell_type": "code",
   "execution_count": 3,
   "metadata": {},
   "outputs": [],
   "source": [
    "plt.style.use('default')\n",
    "\n",
    "plt.rcParams['font.family'] = 'DejaVu Serif'\n",
    "plt.rcParams['mathtext.fontset'] = 'dejavuserif'\n",
    "plt.rcParams[\"text.usetex\"]= False\n",
    "plt.rcParams['font.size'] = 18\n",
    "plt.rcParams['axes.linewidth'] = 2\n",
    "plt.rcParams['lines.linewidth'] = 2\n",
    "plt.rcParams['axes.facecolor'] = 'w'\n",
    "\n",
    "from matplotlib.colors import LinearSegmentedColormap\n",
    "Palette = 'magma'\n",
    "cyccol=['#000000', '#ffffff','#000000']\n",
    "divcol=['#003262','#005b96','#ffffff','#d5a756','#B51700']\n",
    "divcols=['#005b96','#ffffff','#d5a756']\n",
    "\n",
    "CycPalette = LinearSegmentedColormap.from_list('myCyc', cyccol)\n",
    "\n",
    "DivPalette  = LinearSegmentedColormap.from_list('myDiv', divcol)\n",
    "DivPaletteS  = LinearSegmentedColormap.from_list('myDiv', divcols)\n",
    "\n",
    "EFigSize = (20,12)\n",
    "EFigSizeMono = (20,6)\n",
    "VideoSize = (8,8)\n",
    "FPS = 10\n",
    "DPI = 72\n",
    "\n",
    "FrameCap = 60 # Maximum Number of Frames to Animate\n",
    "\n",
    "########################################\n",
    "\n",
    "# BH Trajectory\n",
    "\n",
    "Colors = np.array([[209,17,65],[0,177,89],[0,174,219],[243,119,53],[255,196,37]])/255\n",
    "\n",
    "# NBody\n",
    "ENStyle = '-'\n",
    "ENColor = '#ff6c0e' # NBody\n",
    "\n",
    "EKColor = '#8dd9e7'\n",
    "EPColor = '#fd8dc8'\n",
    "\n",
    "# ULDM\n",
    "EUStyle = '-'\n",
    "EUColor = '#7f1717' # ULDM\n",
    "\n",
    "EQColor = '#ccb603' # Kinetic \n",
    "ERColor = '#6cc25c' # Self-Interaction\n",
    "EGColor = '#2c8899' # Particle Potential\n",
    "\n",
    "# Totals\n",
    "ETStyle = '-'\n",
    "ETColor = '#080808'\n",
    "\n",
    "# Auxiliary \n",
    "HelperStyle = 'k.'\n",
    "EmphColor = 'black'\n",
    "GeomColor = 'olivedrab'"
   ]
  },
  {
   "cell_type": "markdown",
   "metadata": {},
   "source": [
    "# Getting Ready"
   ]
  },
  {
   "cell_type": "markdown",
   "metadata": {},
   "source": [
    "## Base Integrator Settings"
   ]
  },
  {
   "cell_type": "code",
   "execution_count": 4,
   "metadata": {},
   "outputs": [
    {
     "name": "stdout",
     "output_type": "stream",
     "text": [
      "The required number of ULDM steps is 1430\n",
      "The actual ULDM steps is 1500\n"
     ]
    }
   ],
   "source": [
    "resol = 128\n",
    "\n",
    "length, length_units = 6, '' #\n",
    "duration, duration_units = 1, '' #\n",
    "\n",
    "start_time = 0. # For solitons only: Pre-evolve the wavefunction phase.\n",
    "\n",
    "NS = 32\n",
    "\n",
    "save_format = 'npy' # npy, npz, hdf5\n",
    "\n",
    "step_factor = 1 # Keep it on default\n",
    "\n",
    "save_number = 300\n",
    "\n",
    "PyUL.DispN(duration,duration_units,length,length_units,resol,step_factor,save_number)\n",
    "\n",
    "# You can also set it to 'Minimum' to only save all 1D mesh Data.\n",
    "Save_Options = '2Density Energy NBody DF Entropy'\n",
    "\n",
    "#This Boolean List is for program's internal use\n",
    "save_options = PyUL.SaveOptionsDigest(Save_Options)\n",
    "\n",
    "s_mass_unit = ''\n",
    "s_position_unit = ''\n",
    "s_velocity_unit = '' \n",
    "m_mass_unit = s_mass_unit\n",
    "m_position_unit = s_position_unit\n",
    "m_velocity_unit = s_velocity_unit\n",
    "\n",
    "\n",
    "Uniform = False # if True, then there won't be solitons.\n",
    "Density = 0\n",
    "UVel = [0,0,0] # Uses s_velocity_units\n",
    "density_unit = '' # Accepted units: 'MSol/pc3', 'kg/m3', and '' for dimensionless units"
   ]
  },
  {
   "cell_type": "code",
   "execution_count": 20,
   "metadata": {},
   "outputs": [
    {
     "data": {
      "text/plain": [
       "0.23809523809523808"
      ]
     },
     "execution_count": 20,
     "metadata": {},
     "output_type": "execute_result"
    },
    {
     "data": {
      "image/png": "[encoded data removed]",
      "text/plain": [
       "<Figure size 640x480 with 1 Axes>"
      ]
     },
     "metadata": {},
     "output_type": "display_data"
    }
   ],
   "source": [
    "mS = 12 # User Input\n",
    "\n",
    "Phase = 0 # Multiples of pi\n",
    "\n",
    "PyUL.SolitonSizeEstimate(mS,length,resol,s_mass_unit,length_units, Plot = True)"
   ]
  },
  {
   "cell_type": "markdown",
   "metadata": {},
   "source": [
    "## Initial Conditions"
   ]
  },
  {
   "cell_type": "code",
   "execution_count": 16,
   "metadata": {},
   "outputs": [
    {
     "name": "stdout",
     "output_type": "stream",
     "text": [
      "[ Batches/MR ] : The current size of the folder is 3.315 Mib\n",
      "[ Batches/MR ] : Do You Wish to Delete All Files Currently Stored In This Folder? [Y] \n",
      "\n",
      "Y\n",
      "Folder Cleaned! \n",
      "\n",
      "[ Batches/MR ] : Save Folder Created.\n"
     ]
    }
   ],
   "source": [
    "save_path = 'Batches/MR'\n",
    "\n",
    "PyUL.DSManagement(save_path, Force = False)"
   ]
  },
  {
   "cell_type": "code",
   "execution_count": 21,
   "metadata": {
    "ExecuteTime": {
     "end_time": "2021-03-01T10:15:12.827167Z",
     "start_time": "2021-03-01T10:15:12.670553Z"
    },
    "scrolled": false
   },
   "outputs": [
    {
     "name": "stdout",
     "output_type": "stream",
     "text": [
      "Done! Initialized 30 simulations.\n"
     ]
    }
   ],
   "source": [
    "RatioList = [0,0.0001,0.001,0.01,0.1]\n",
    "RadiusList = [0.05,0.1,0.2,0.4,0.8,1.6]\n",
    "\n",
    "N = len(RatioList) * len(RadiusList)\n",
    "\n",
    "I = 0\n",
    "\n",
    "for i in range(len(RatioList)):\n",
    "    \n",
    "    Ratio = RatioList[i]\n",
    "    \n",
    "    for j in range(len(RadiusList)):\n",
    "        \n",
    "        I+=1\n",
    "        \n",
    "        r0 = RadiusList[i]\n",
    "\n",
    "        gridspace = PyUL.MeshSpacing(resol,length,length_units, silent = True)\n",
    "        \n",
    "        rP = 1/2 * gridspace\n",
    "\n",
    "        a = PyUL.GenPlummer(rP,length_units)\n",
    "\n",
    "        mP = mS * Ratio# User Input\n",
    "\n",
    "        MIn, vRel0 = PyUL.DefaultSolitonOrbit(resol,length, length_units, mS, s_mass_unit, r0,\n",
    "                                              m_position_unit, m_velocity_unit, Detail = int(7e4))\n",
    "\n",
    "\n",
    "        #================================================================\n",
    "        # Do not touch\n",
    "\n",
    "        M = mS + mP\n",
    "        # Unit 1\n",
    "        y1 = 0\n",
    "        x1 = r0*mS/M\n",
    "        yDot1 = vRel0*mS/M\n",
    "\n",
    "        # Unit 2\n",
    "        y2 = 0\n",
    "        x2 = r0*mP/M\n",
    "        yDot2 = vRel0*mP/M\n",
    "\n",
    "        embeds    = []\n",
    "        particles =  [[mP,[x1,y1,0],[0,-yDot1,0]]]\n",
    "        solitons  =  [[mS,[-x2,-y2,0],[0,yDot2,0],Phase*np.pi]]\n",
    "\n",
    "        plt.show()\n",
    "\n",
    "        Name = f'M{Ratio:.5f}_R{r0:.5f}'\n",
    "\n",
    "        Initpath = ''\n",
    "\n",
    "        run_folder = PyUL.GenerateConfig(NS, length, length_units,\n",
    "                                         resol, duration, duration_units, step_factor,\n",
    "                                         save_number, Save_Options, save_path,\n",
    "                                         save_format, s_mass_unit, s_position_unit,\n",
    "                                         s_velocity_unit, solitons,start_time,\n",
    "                                         m_mass_unit, m_position_unit, m_velocity_unit,\n",
    "                                         particles,embeds, Uniform,Density,density_unit,\n",
    "                                         a,UVel,True,Name)\n",
    "        \n",
    "        \n",
    "print('Done!', f'Initialized {I} simulations.')"
   ]
  },
  {
   "cell_type": "markdown",
   "metadata": {},
   "source": [
    "[**Back to the Top**](#root)\n",
    "<a id='run'></a>\n",
    "# Batch Execution\n",
    "\n",
    "This creates a timestamped folder using the current settings, and the integrator stores all requested files in it too."
   ]
  },
  {
   "cell_type": "code",
   "execution_count": 15,
   "metadata": {
    "ExecuteTime": {
     "start_time": "2021-03-02T10:31:58.639Z"
    },
    "scrolled": false
   },
   "outputs": [
    {
     "name": "stdout",
     "output_type": "stream",
     "text": [
      "Build 2021 Jun 01\n",
      "Message: Simulation #1 out of 5\n",
      "PyUL2.Runtime: Simulation name is ./Batches/MR/M0.00000_R0.05000\n",
      "PyUL2.Runtime: 128 Resolution for 1\n",
      "PyUL2.Runtime: Simulation Started at 02/06/2021, 16:43:31.\n",
      "PyUL2.Runtime: Taking 1500 ULDM steps @ 300 snapshots\n",
      "\n",
      "\n",
      "[○○○○○○○○○◎●◎○○○○○○○○] 8% FT   Exp. Time: 02/06/2021, 16:46:41 (Prev.: 0.13s) [V=0.33 / Tg.V=0.00]"
     ]
    },
    {
     "ename": "KeyboardInterrupt",
     "evalue": "",
     "output_type": "error",
     "traceback": [
      "\u001b[0;31m---------------------------------------------------------------------------\u001b[0m",
      "\u001b[0;31mKeyboardInterrupt\u001b[0m                         Traceback (most recent call last)",
      "\u001b[0;32m<ipython-input-15-c481debabb7c>\u001b[0m in \u001b[0;36m<module>\u001b[0;34m\u001b[0m\n\u001b[1;32m     17\u001b[0m             \u001b[0mNBodyInterp\u001b[0m \u001b[0;34m=\u001b[0m \u001b[0mFullSim\u001b[0m\u001b[0;34m,\u001b[0m \u001b[0mSelfGravity\u001b[0m \u001b[0;34m=\u001b[0m \u001b[0mFullSim\u001b[0m\u001b[0;34m,\u001b[0m \u001b[0mNBodyGravity\u001b[0m \u001b[0;34m=\u001b[0m \u001b[0;32mTrue\u001b[0m\u001b[0;34m,\u001b[0m\u001b[0;34m\u001b[0m\u001b[0;34m\u001b[0m\u001b[0m\n\u001b[1;32m     18\u001b[0m             \u001b[0mSilent\u001b[0m \u001b[0;34m=\u001b[0m \u001b[0;32mTrue\u001b[0m\u001b[0;34m,\u001b[0m \u001b[0mShift\u001b[0m \u001b[0;34m=\u001b[0m \u001b[0mShift\u001b[0m\u001b[0;34m,\u001b[0m \u001b[0mAutoStop\u001b[0m \u001b[0;34m=\u001b[0m \u001b[0;32mTrue\u001b[0m\u001b[0;34m,\u001b[0m \u001b[0mAutoStop2\u001b[0m \u001b[0;34m=\u001b[0m \u001b[0;32mFalse\u001b[0m\u001b[0;34m,\u001b[0m \u001b[0mMessage\u001b[0m \u001b[0;34m=\u001b[0m \u001b[0mRunText\u001b[0m\u001b[0;34m,\u001b[0m\u001b[0;34m\u001b[0m\u001b[0;34m\u001b[0m\u001b[0m\n\u001b[0;32m---> 19\u001b[0;31m                    Stream = True, StreamChar = [1,4])\n\u001b[0m\u001b[1;32m     20\u001b[0m \u001b[0;34m\u001b[0m\u001b[0m\n\u001b[1;32m     21\u001b[0m         \u001b[0mRun\u001b[0m \u001b[0;34m+=\u001b[0m\u001b[0;36m1\u001b[0m\u001b[0;34m\u001b[0m\u001b[0;34m\u001b[0m\u001b[0m\n",
      "\u001b[0;32m~/Notebooks/PyUltraLight2/Current.py\u001b[0m in \u001b[0;36mevolve\u001b[0;34m(save_path, run_folder, EdgeClear, DumpInit, DumpFinal, UseInit, IsoP, UseDispSponge, SelfGravity, NBodyInterp, NBodyGravity, Shift, Simpson, Silent, AutoStop, AutoStop2, AutoStop3, KEThreshold, WellThreshold, InitPath, InitWeight, Message, Stream, StreamChar)\u001b[0m\n\u001b[1;32m   2340\u001b[0m \u001b[0;34m\u001b[0m\u001b[0m\n\u001b[1;32m   2341\u001b[0m         \u001b[0;32melse\u001b[0m\u001b[0;34m:\u001b[0m\u001b[0;34m\u001b[0m\u001b[0;34m\u001b[0m\u001b[0m\n\u001b[0;32m-> 2342\u001b[0;31m             \u001b[0mpsi\u001b[0m \u001b[0;34m=\u001b[0m \u001b[0mne\u001b[0m\u001b[0;34m.\u001b[0m\u001b[0mevaluate\u001b[0m\u001b[0;34m(\u001b[0m\u001b[0;34m\"exp(-1j*h*phi)*psi\"\u001b[0m\u001b[0;34m)\u001b[0m\u001b[0;34m\u001b[0m\u001b[0;34m\u001b[0m\u001b[0m\n\u001b[0m\u001b[1;32m   2343\u001b[0m \u001b[0;34m\u001b[0m\u001b[0m\n\u001b[1;32m   2344\u001b[0m \u001b[0;34m\u001b[0m\u001b[0m\n",
      "\u001b[0;32m~/.local/lib/python3.6/site-packages/numexpr/necompiler.py\u001b[0m in \u001b[0;36mevaluate\u001b[0;34m(ex, local_dict, global_dict, out, order, casting, **kwargs)\u001b[0m\n\u001b[1;32m    834\u001b[0m     \u001b[0m_numexpr_last\u001b[0m \u001b[0;34m=\u001b[0m \u001b[0mdict\u001b[0m\u001b[0;34m(\u001b[0m\u001b[0mex\u001b[0m\u001b[0;34m=\u001b[0m\u001b[0mcompiled_ex\u001b[0m\u001b[0;34m,\u001b[0m \u001b[0margnames\u001b[0m\u001b[0;34m=\u001b[0m\u001b[0mnames\u001b[0m\u001b[0;34m,\u001b[0m \u001b[0mkwargs\u001b[0m\u001b[0;34m=\u001b[0m\u001b[0mkwargs\u001b[0m\u001b[0;34m)\u001b[0m\u001b[0;34m\u001b[0m\u001b[0;34m\u001b[0m\u001b[0m\n\u001b[1;32m    835\u001b[0m     \u001b[0;32mwith\u001b[0m \u001b[0mevaluate_lock\u001b[0m\u001b[0;34m:\u001b[0m\u001b[0;34m\u001b[0m\u001b[0;34m\u001b[0m\u001b[0m\n\u001b[0;32m--> 836\u001b[0;31m         \u001b[0;32mreturn\u001b[0m \u001b[0mcompiled_ex\u001b[0m\u001b[0;34m(\u001b[0m\u001b[0;34m*\u001b[0m\u001b[0marguments\u001b[0m\u001b[0;34m,\u001b[0m \u001b[0;34m**\u001b[0m\u001b[0mkwargs\u001b[0m\u001b[0;34m)\u001b[0m\u001b[0;34m\u001b[0m\u001b[0;34m\u001b[0m\u001b[0m\n\u001b[0m\u001b[1;32m    837\u001b[0m \u001b[0;34m\u001b[0m\u001b[0m\n\u001b[1;32m    838\u001b[0m \u001b[0;34m\u001b[0m\u001b[0m\n",
      "\u001b[0;31mKeyboardInterrupt\u001b[0m: "
     ]
    }
   ],
   "source": [
    "FullSim = True\n",
    "Shift = False\n",
    "T0 = time.time()\n",
    "runs = os.listdir(save_path)\n",
    "runs.sort()\n",
    "\n",
    "NRuns = len(runs)\n",
    "\n",
    "Run = 0\n",
    "\n",
    "for run_folder in runs:\n",
    "    \n",
    "    if os.path.isdir(f'{save_path}/{run_folder}'):\n",
    "        \n",
    "        RunText = f'Simulation #{Run+1} out of {NRuns}'\n",
    "        PyUL.evolve(save_path,run_folder,\n",
    "            NBodyInterp = FullSim, SelfGravity = FullSim, NBodyGravity = True, \n",
    "            Silent = True, Shift = Shift, AutoStop = False, AutoStop2 = False, Message = RunText,\n",
    "                   Stream = False, StreamChar = [1,4])\n",
    "\n",
    "        Run +=1\n",
    "\n",
    "        print(f'Simulation {Run} finished.')\n",
    "        time.sleep(2)\n",
    "        \n",
    "import IPython\n",
    "IPython.display.Audio(\"Done.mp3\",autoplay=True)\n",
    "\n",
    "print(f\"{time.time()-T0:.3g}s\")\n",
    "printU('Please copy this into analysis notebook\\n\\nbatch_path = \\''+batch_path+'\\'','Export')"
   ]
  }
 ],
 "metadata": {
  "celltoolbar": "Initialization Cell",
  "hide_input": false,
  "kernelspec": {
   "display_name": "Python 3",
   "language": "python",
   "name": "python3"
  },
  "language_info": {
   "codemirror_mode": {
    "name": "ipython",
    "version": 3
   },
   "file_extension": ".py",
   "mimetype": "text/x-python",
   "name": "python",
   "nbconvert_exporter": "python",
   "pygments_lexer": "ipython3",
   "version": "3.6.9"
  },
  "latex_envs": {
   "LaTeX_envs_menu_present": true,
   "autoclose": true,
   "autocomplete": true,
   "bibliofile": "biblio.bib",
   "cite_by": "apalike",
   "current_citInitial": 1,
   "eqLabelWithNumbers": true,
   "eqNumInitial": 1,
   "hotkeys": {
    "equation": "Ctrl-E",
    "itemize": "Ctrl-I"
   },
   "labels_anchors": false,
   "latex_user_defs": false,
   "report_style_numbering": false,
   "user_envs_cfg": false
  },
  "notify_time": "30",
  "toc": {
   "base_numbering": 1,
   "nav_menu": {
    "height": "664px",
    "width": "417px"
   },
   "number_sections": true,
   "sideBar": true,
   "skip_h1_title": false,
   "title_cell": "Table of Contents",
   "title_sidebar": "Contents",
   "toc_cell": true,
   "toc_position": {
    "height": "calc(100% - 180px)",
    "left": "10px",
    "top": "150px",
    "width": "403px"
   },
   "toc_section_display": true,
   "toc_window_display": true
  },
  "varInspector": {
   "cols": {
    "lenName": 16,
    "lenType": 16,
    "lenVar": 40
   },
   "kernels_config": {
    "python": {
     "delete_cmd_postfix": "",
     "delete_cmd_prefix": "del ",
     "library": "var_list.py",
     "varRefreshCmd": "print(var_dic_list())"
    },
    "r": {
     "delete_cmd_postfix": ") ",
     "delete_cmd_prefix": "rm(",
     "library": "var_list.r",
     "varRefreshCmd": "cat(var_dic_list()) "
    }
   },
   "position": {
    "height": "691px",
    "left": "1549px",
    "right": "20px",
    "top": "120px",
    "width": "353px"
   },
   "types_to_exclude": [
    "module",
    "function",
    "builtin_function_or_method",
    "instance",
    "_Feature"
   ],
   "window_display": false
  }
 },
 "nbformat": 4,
 "nbformat_minor": 4
}
